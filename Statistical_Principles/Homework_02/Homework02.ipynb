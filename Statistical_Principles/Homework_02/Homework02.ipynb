{
 "cells": [
  {
   "cell_type": "markdown",
   "id": "338b2cf5",
   "metadata": {},
   "source": [
    "# Homework 02 #\n",
    "\n",
    "Sternbauer, k11812499"
   ]
  },
  {
   "cell_type": "code",
   "execution_count": 1,
   "id": "ca2fb54f",
   "metadata": {},
   "outputs": [],
   "source": [
    "# Imports\n",
    "import pandas as pd\n",
    "import numpy as np\n",
    "\n",
    "from scipy import stats\n",
    "from sklearn.linear_model import LinearRegression\n",
    "\n",
    "import matplotlib.pyplot as plt\n",
    "import seaborn as sns\n",
    "\n",
    "import statsmodels.api as sm\n",
    "from statsmodels.formula.api import ols\n",
    "\n",
    "np.set_printoptions(suppress=True) #avoid scientific printing, do floating point instead"
   ]
  },
  {
   "cell_type": "markdown",
   "id": "10046ead",
   "metadata": {},
   "source": [
    "## Task 1 ##\n",
    "Import the dataset *‘faithful.csv’*.\n",
    "\n",
    "### Task 1.1 ###\n",
    "Split the dataset into two set of data according to the *eruption times*. If it is less or equal than 3 minutes, split the data into *short eruption times*. Otherwise, split the observations into *long eruption times*."
   ]
  },
  {
   "cell_type": "code",
   "execution_count": 2,
   "id": "9897991a",
   "metadata": {},
   "outputs": [
    {
     "data": {
      "text/html": [
       "<div>\n",
       "<style scoped>\n",
       "    .dataframe tbody tr th:only-of-type {\n",
       "        vertical-align: middle;\n",
       "    }\n",
       "\n",
       "    .dataframe tbody tr th {\n",
       "        vertical-align: top;\n",
       "    }\n",
       "\n",
       "    .dataframe thead th {\n",
       "        text-align: right;\n",
       "    }\n",
       "</style>\n",
       "<table border=\"1\" class=\"dataframe\">\n",
       "  <thead>\n",
       "    <tr style=\"text-align: right;\">\n",
       "      <th></th>\n",
       "      <th>Unnamed: 0</th>\n",
       "      <th>eruptions</th>\n",
       "      <th>waiting</th>\n",
       "    </tr>\n",
       "  </thead>\n",
       "  <tbody>\n",
       "    <tr>\n",
       "      <th>0</th>\n",
       "      <td>1</td>\n",
       "      <td>3.600</td>\n",
       "      <td>79</td>\n",
       "    </tr>\n",
       "    <tr>\n",
       "      <th>1</th>\n",
       "      <td>2</td>\n",
       "      <td>1.800</td>\n",
       "      <td>54</td>\n",
       "    </tr>\n",
       "    <tr>\n",
       "      <th>2</th>\n",
       "      <td>3</td>\n",
       "      <td>3.333</td>\n",
       "      <td>74</td>\n",
       "    </tr>\n",
       "    <tr>\n",
       "      <th>3</th>\n",
       "      <td>4</td>\n",
       "      <td>2.283</td>\n",
       "      <td>62</td>\n",
       "    </tr>\n",
       "    <tr>\n",
       "      <th>4</th>\n",
       "      <td>5</td>\n",
       "      <td>4.533</td>\n",
       "      <td>85</td>\n",
       "    </tr>\n",
       "  </tbody>\n",
       "</table>\n",
       "</div>"
      ],
      "text/plain": [
       "   Unnamed: 0  eruptions  waiting\n",
       "0           1      3.600       79\n",
       "1           2      1.800       54\n",
       "2           3      3.333       74\n",
       "3           4      2.283       62\n",
       "4           5      4.533       85"
      ]
     },
     "metadata": {},
     "output_type": "display_data"
    },
    {
     "data": {
      "text/html": [
       "<div>\n",
       "<style scoped>\n",
       "    .dataframe tbody tr th:only-of-type {\n",
       "        vertical-align: middle;\n",
       "    }\n",
       "\n",
       "    .dataframe tbody tr th {\n",
       "        vertical-align: top;\n",
       "    }\n",
       "\n",
       "    .dataframe thead th {\n",
       "        text-align: right;\n",
       "    }\n",
       "</style>\n",
       "<table border=\"1\" class=\"dataframe\">\n",
       "  <thead>\n",
       "    <tr style=\"text-align: right;\">\n",
       "      <th></th>\n",
       "      <th>eruptions</th>\n",
       "      <th>waiting</th>\n",
       "    </tr>\n",
       "  </thead>\n",
       "  <tbody>\n",
       "    <tr>\n",
       "      <th>0</th>\n",
       "      <td>3.600</td>\n",
       "      <td>79</td>\n",
       "    </tr>\n",
       "    <tr>\n",
       "      <th>1</th>\n",
       "      <td>1.800</td>\n",
       "      <td>54</td>\n",
       "    </tr>\n",
       "    <tr>\n",
       "      <th>2</th>\n",
       "      <td>3.333</td>\n",
       "      <td>74</td>\n",
       "    </tr>\n",
       "    <tr>\n",
       "      <th>3</th>\n",
       "      <td>2.283</td>\n",
       "      <td>62</td>\n",
       "    </tr>\n",
       "    <tr>\n",
       "      <th>4</th>\n",
       "      <td>4.533</td>\n",
       "      <td>85</td>\n",
       "    </tr>\n",
       "  </tbody>\n",
       "</table>\n",
       "</div>"
      ],
      "text/plain": [
       "   eruptions  waiting\n",
       "0      3.600       79\n",
       "1      1.800       54\n",
       "2      3.333       74\n",
       "3      2.283       62\n",
       "4      4.533       85"
      ]
     },
     "execution_count": 2,
     "metadata": {},
     "output_type": "execute_result"
    }
   ],
   "source": [
    "data = pd.read_csv('faithful.csv')\n",
    "display(data.head())\n",
    "# Remove unnamed column (as panda dataframe has already an own index)\n",
    "if 'Unnamed: 0' in data.columns: #Do if here to not run into error when executing this line multiple times\n",
    "    data = data.drop(columns=['Unnamed: 0'])\n",
    "data.head()"
   ]
  },
  {
   "cell_type": "code",
   "execution_count": 3,
   "id": "d255a110",
   "metadata": {},
   "outputs": [
    {
     "data": {
      "text/html": [
       "<div>\n",
       "<style scoped>\n",
       "    .dataframe tbody tr th:only-of-type {\n",
       "        vertical-align: middle;\n",
       "    }\n",
       "\n",
       "    .dataframe tbody tr th {\n",
       "        vertical-align: top;\n",
       "    }\n",
       "\n",
       "    .dataframe thead th {\n",
       "        text-align: right;\n",
       "    }\n",
       "</style>\n",
       "<table border=\"1\" class=\"dataframe\">\n",
       "  <thead>\n",
       "    <tr style=\"text-align: right;\">\n",
       "      <th></th>\n",
       "      <th>eruptions</th>\n",
       "      <th>waiting</th>\n",
       "    </tr>\n",
       "  </thead>\n",
       "  <tbody>\n",
       "    <tr>\n",
       "      <th>1</th>\n",
       "      <td>1.800</td>\n",
       "      <td>54</td>\n",
       "    </tr>\n",
       "    <tr>\n",
       "      <th>3</th>\n",
       "      <td>2.283</td>\n",
       "      <td>62</td>\n",
       "    </tr>\n",
       "    <tr>\n",
       "      <th>5</th>\n",
       "      <td>2.883</td>\n",
       "      <td>55</td>\n",
       "    </tr>\n",
       "    <tr>\n",
       "      <th>8</th>\n",
       "      <td>1.950</td>\n",
       "      <td>51</td>\n",
       "    </tr>\n",
       "    <tr>\n",
       "      <th>10</th>\n",
       "      <td>1.833</td>\n",
       "      <td>54</td>\n",
       "    </tr>\n",
       "  </tbody>\n",
       "</table>\n",
       "</div>"
      ],
      "text/plain": [
       "    eruptions  waiting\n",
       "1       1.800       54\n",
       "3       2.283       62\n",
       "5       2.883       55\n",
       "8       1.950       51\n",
       "10      1.833       54"
      ]
     },
     "metadata": {},
     "output_type": "display_data"
    },
    {
     "data": {
      "text/html": [
       "<div>\n",
       "<style scoped>\n",
       "    .dataframe tbody tr th:only-of-type {\n",
       "        vertical-align: middle;\n",
       "    }\n",
       "\n",
       "    .dataframe tbody tr th {\n",
       "        vertical-align: top;\n",
       "    }\n",
       "\n",
       "    .dataframe thead th {\n",
       "        text-align: right;\n",
       "    }\n",
       "</style>\n",
       "<table border=\"1\" class=\"dataframe\">\n",
       "  <thead>\n",
       "    <tr style=\"text-align: right;\">\n",
       "      <th></th>\n",
       "      <th>eruptions</th>\n",
       "      <th>waiting</th>\n",
       "    </tr>\n",
       "  </thead>\n",
       "  <tbody>\n",
       "    <tr>\n",
       "      <th>0</th>\n",
       "      <td>3.600</td>\n",
       "      <td>79</td>\n",
       "    </tr>\n",
       "    <tr>\n",
       "      <th>2</th>\n",
       "      <td>3.333</td>\n",
       "      <td>74</td>\n",
       "    </tr>\n",
       "    <tr>\n",
       "      <th>4</th>\n",
       "      <td>4.533</td>\n",
       "      <td>85</td>\n",
       "    </tr>\n",
       "    <tr>\n",
       "      <th>6</th>\n",
       "      <td>4.700</td>\n",
       "      <td>88</td>\n",
       "    </tr>\n",
       "    <tr>\n",
       "      <th>7</th>\n",
       "      <td>3.600</td>\n",
       "      <td>85</td>\n",
       "    </tr>\n",
       "  </tbody>\n",
       "</table>\n",
       "</div>"
      ],
      "text/plain": [
       "   eruptions  waiting\n",
       "0      3.600       79\n",
       "2      3.333       74\n",
       "4      4.533       85\n",
       "6      4.700       88\n",
       "7      3.600       85"
      ]
     },
     "execution_count": 3,
     "metadata": {},
     "output_type": "execute_result"
    }
   ],
   "source": [
    "# Split dataset according to eruption time criterion\n",
    "data_short = data[data['eruptions'] <= 3.0]\n",
    "data_long = data[data['eruptions'] > 3.0]\n",
    "display(data_short.head())\n",
    "data_long.head()"
   ]
  },
  {
   "cell_type": "markdown",
   "id": "3b58f7ae",
   "metadata": {},
   "source": [
    "### Task 1.2 ###\n",
    "For short *eruption times dataset*, say you are going to test if the associated waiting last on average less than 65 minutes, write down your null and alternative hypothesis.\n",
    "\n",
    "Null hypothesis and alternative hypothesis:\n",
    "\n",
    "$H_0 = \\overline{w}_s \\geq 65$\n",
    "\n",
    "$H_1 = \\overline{w}_s < 65$"
   ]
  },
  {
   "cell_type": "markdown",
   "id": "e1889c05",
   "metadata": {},
   "source": [
    "### Task 1.3 ###\n",
    "Compute the t statistic and the p-value for this test. Will you reject your H0 hypothesis at *α=0.05* level? What about at *α=0.01* level? What are the advantages and disadvantages of using smaller significant level?"
   ]
  },
  {
   "cell_type": "code",
   "execution_count": 4,
   "id": "fb78189a",
   "metadata": {},
   "outputs": [
    {
     "name": "stdout",
     "output_type": "stream",
     "text": [
      "t= -17.71610257794661 \n",
      "p-value= 2.557093553296291e-32\n",
      "Is the p-value smaller than alpha=0.05? True\n",
      "Is the p-value smaller than alpha=0.01? True\n"
     ]
    }
   ],
   "source": [
    "w_mean = data_short['waiting'].mean()\n",
    "w = 65.0\n",
    "\n",
    "t, pvalue = stats.ttest_1samp(data_short['waiting'], popmean=w, alternative='less')\n",
    "print(\"t=\", t, \"\\np-value=\", pvalue)\n",
    "\n",
    "print(\"Is the p-value smaller than alpha=0.05?\", pvalue < 0.05)\n",
    "print(\"Is the p-value smaller than alpha=0.01?\", pvalue < 0.01)"
   ]
  },
  {
   "cell_type": "markdown",
   "id": "f1b3775c",
   "metadata": {},
   "source": [
    "The absolute value of the T-statistic $|T|=17.71$, which is rather high, and our p-value is smaller than both $\\alpha=0.05$ and $\\alpha=0.01$. This means that for both alpha values (the significant level), we can reject the null hypothesis and decide for the alternative hypothesis.\n",
    "\n",
    "Advantages of a smaller significant level\n",
    "- Less likely to have a false positive, therefore be more confident in rejecting the null hypothesis\n",
    "- A higher statistical significance as there is a higher strength of evidence\n",
    "\n",
    "Disadvantages of a smaller significant level\n",
    "- Some actually true positives might also be rejected which leads to a worse sensitivity (true positive rate)\n",
    "- the test is less sensitive to detect differences"
   ]
  },
  {
   "cell_type": "markdown",
   "id": "e1129868",
   "metadata": {},
   "source": [
    "### Task 1.4 ###\n",
    "Test whether the average *waiting* of *short* and *long eruption times* are equal. To do this, first illustrate what assumptions must you make to carry out this test? And also explain which test you used, what is your null and alternative hypothesis, did you reject your null hypothesis and why?"
   ]
  },
  {
   "cell_type": "code",
   "execution_count": 5,
   "id": "453ab921",
   "metadata": {},
   "outputs": [
    {
     "name": "stdout",
     "output_type": "stream",
     "text": [
      "Waiting statistics for short eruption time\n",
      "Mean:    54.49484536082474 \n",
      "StdDev:  5.840097943207314 \n",
      "Median:  54.0\n",
      "\n",
      "Waiting statistics for long eruption time\n",
      "Mean:    79.98857142857143 \n",
      "StdDev:  5.994239161050269 \n",
      "Median:  80.0\n"
     ]
    }
   ],
   "source": [
    "# First show some statistical data about the two datasets\n",
    "print(\"Waiting statistics for short eruption time\")\n",
    "print(\"Mean:   \", data_short['waiting'].mean(), \"\\nStdDev: \", data_short['waiting'].std(), \"\\nMedian: \", data_short['waiting'].median())\n",
    "\n",
    "print(\"\\nWaiting statistics for long eruption time\")\n",
    "print(\"Mean:   \", data_long['waiting'].mean(), \"\\nStdDev: \", data_long['waiting'].std(), \"\\nMedian: \", data_long['waiting'].median())"
   ]
  },
  {
   "cell_type": "markdown",
   "id": "3e1257e6",
   "metadata": {},
   "source": [
    "The median and mean value are rather far apart, which typically is not a good sign for similarity. On the other hand, the two computed standard deviations $\\sigma$ are much closer to each other."
   ]
  },
  {
   "cell_type": "code",
   "execution_count": 6,
   "id": "95ef070f",
   "metadata": {},
   "outputs": [
    {
     "data": {
      "image/png": "[encoded data removed]",
      "text/plain": [
       "<Figure size 421.625x360 with 1 Axes>"
      ]
     },
     "metadata": {
      "needs_background": "light"
     },
     "output_type": "display_data"
    }
   ],
   "source": [
    "plot = data.copy()\n",
    "plot.loc[data_short.index, 'cat'] = 'short'\n",
    "plot.loc[data_long.index, 'cat'] = 'long'\n",
    "sns.displot(data=plot, x='waiting', kind='kde', hue='cat')\n",
    "plt.title('Density Plot of short and long waiting times')\n",
    "plt.xlabel('Waiting time')\n",
    "plt.ylabel('Density')\n",
    "plt.show()"
   ]
  },
  {
   "cell_type": "markdown",
   "id": "67b83625",
   "metadata": {},
   "source": [
    "Assumptions for this test:\n",
    "- Similiar variances between the two datasets (this is given as $\\sigma$ is very close to each other)\n",
    "- The two datasets must be independant from each other (this is given as we devided data via the eruption time)\n",
    "- The data has to be normally distributed (see the densitity plot above)\n",
    "\n",
    "To test, the t-tests for means of two independent samples for scores from scipy is used (see [ScipPy reference](https://docs.scipy.org/doc/scipy/reference/generated/scipy.stats.ttest_ind.html))\n",
    "\n",
    "The hypothesis:\n",
    "\n",
    "$H_0: \\mu_{small} = \\mu_{large}$\n",
    "\n",
    "$H_1: \\mu_{small} \\neq \\mu_{large}$"
   ]
  },
  {
   "cell_type": "code",
   "execution_count": 7,
   "id": "56693022",
   "metadata": {},
   "outputs": [
    {
     "name": "stdout",
     "output_type": "stream",
     "text": [
      "T:  -33.90589626479086 \n",
      "p-value:  2.645975019718631e-99\n",
      "Is the p-value smaller than alpha=0.05/2? True\n",
      "Is the p-value smaller than alpha=0.01/2? True\n"
     ]
    }
   ],
   "source": [
    "t, pvalue = stats.ttest_ind(data_short['waiting'], data_long['waiting'])\n",
    "print(\"T: \", t, \"\\np-value: \", pvalue)\n",
    "\n",
    "print(\"Is the p-value smaller than alpha=0.05/2?\", pvalue < 0.05/2)\n",
    "print(\"Is the p-value smaller than alpha=0.01/2?\", pvalue < 0.01/2)"
   ]
  },
  {
   "cell_type": "markdown",
   "id": "31f89987",
   "metadata": {},
   "source": [
    "The absolute value of T, $|T|=33.95$ is again rather high and with a very low p-value. It would be both smaller than a significance level of $\\alpha=\\frac{0.05}{2}$ and $\\alpha=\\frac{0.01}{2}$. Therefore it is to assume that the null hypothesis $H_0$ gets rejected and the decision falls to the alternative $H_1$. Therefore the average waiting times for short and long erruptions are not the same."
   ]
  },
  {
   "cell_type": "markdown",
   "id": "ed0724b8",
   "metadata": {},
   "source": [
    "## Task 2 ##\n",
    "\n",
    "Suppose we have a dataset *(x1, y1), (x2, y2), (x3, y3), ..., (xn, yn)*, and we want to fit a linear model to this dataset in a form of $y = \\beta x$ (no intercept term). Show that you can get $\\hat\\beta$ by the following:\n",
    "\n",
    "\\begin{equation*}\n",
    "\\hat\\beta = \\frac{S_{xy}}{S_{xx}}\\\\\n",
    "S_{xy} = \\Sigma_{i=1}^{n} x_i y_i,  \\quad S_{xx} = \\Sigma_{i=1}^{n} x_i^2\n",
    "\\end{equation*}"
   ]
  },
  {
   "cell_type": "markdown",
   "id": "add1fe37",
   "metadata": {},
   "source": [
    "First of, a loss function has to be defined with which to measure how well the linear model fits to our dataset. For this, the least squared error loss function is used. The loss should be minimized. The function is defined as the sum of squared differences between the true label and the value predicted by the model.\n",
    "\n",
    "\\begin{equation}\n",
    "\\mathcal{L} = \\Sigma_{n=1}^{n} (y_i - \\beta x_i)^2\n",
    "\\end{equation}\n",
    "\n",
    "To minimize, we have to derive the function by $\\beta$ and set the derivation to 0 in order to find the minimum."
   ]
  },
  {
   "cell_type": "markdown",
   "id": "918ba419",
   "metadata": {},
   "source": [
    "First, derive partial by $\\beta$\n",
    "\\begin{align}\n",
    "\\frac{\\partial}{\\partial \\beta} \\mathcal{L} \n",
    "&= \\frac{\\partial}{\\partial \\hat\\beta} \\Sigma_{i=1}^{n} (y_i - \\hat\\beta x_i)^2 \\\\\n",
    "&= \\Sigma_{i=1}^{n} \\frac{\\partial}{\\partial \\hat\\beta}  (y_i - \\hat\\beta x_i)^2 \\\\\n",
    "&= \\Sigma_{i=1}^{n} 2 \\cdot (y_i - \\hat\\beta x_i) \\cdot (-x_i)\\\\\n",
    "&= -2 \\cdot \\Sigma_{i=1}^{n} x_i \\cdot (y_i - \\hat\\beta x_i)\n",
    "\\end{align}\n",
    "\n",
    "Set the derivation equal to 0 and solve for $\\beta$\n",
    "\n",
    "\\begin{align}\n",
    "0 &= -2 \\cdot \\Sigma_{i=1}^{n} x_i \\cdot (y_i - \\hat\\beta x_i) \\\\\n",
    "&=  \\Sigma_{i=1}^{n} x_i \\cdot (y_i - \\hat\\beta x_i)\\\\\n",
    "&= \\Sigma_{i=1}^{n} x_i \\cdot (y_i - \\hat\\beta x_i)\\\\\n",
    "&= \\Sigma_{i=1}^{n} x_i y_i - \\Sigma_{i=1}^{n} \\hat\\beta x_i^2 \\\\\n",
    "&= \\Sigma_{i=1}^{n} x_i y_i - \\hat\\beta \\Sigma_{i=1}^{n}  x_i^2\\\\\n",
    "\\hat\\beta \\cdot \\Sigma_{i=1}^{n} x_i^2 &= \\Sigma_{i=1}^{n} x_i y_i \\\\\n",
    "\\hat\\beta &= \\frac{\\Sigma_{i=1}^{n} x_i y_i}{\\Sigma_{i=1}^{n} x_i^2}\n",
    "\\end{align}\n",
    "\n",
    "As the numerator and denominator fit $S_{xy}$ and $S_{xx}$ respectively, it is shown that $\\hat\\beta$ can indeed be gotten with the given by the items from the instruction."
   ]
  },
  {
   "cell_type": "markdown",
   "id": "cb298191",
   "metadata": {},
   "source": [
    "## Task 3 ##\n",
    "\n",
    "Import the *‘houses.csv’* dataset."
   ]
  },
  {
   "cell_type": "code",
   "execution_count": 8,
   "id": "867d6999",
   "metadata": {},
   "outputs": [
    {
     "data": {
      "text/html": [
       "<div>\n",
       "<style scoped>\n",
       "    .dataframe tbody tr th:only-of-type {\n",
       "        vertical-align: middle;\n",
       "    }\n",
       "\n",
       "    .dataframe tbody tr th {\n",
       "        vertical-align: top;\n",
       "    }\n",
       "\n",
       "    .dataframe thead th {\n",
       "        text-align: right;\n",
       "    }\n",
       "</style>\n",
       "<table border=\"1\" class=\"dataframe\">\n",
       "  <thead>\n",
       "    <tr style=\"text-align: right;\">\n",
       "      <th></th>\n",
       "      <th>bathrooms</th>\n",
       "      <th>sitesize</th>\n",
       "      <th>livingsize</th>\n",
       "      <th>garages</th>\n",
       "      <th>rooms</th>\n",
       "      <th>bedrooms</th>\n",
       "      <th>age</th>\n",
       "      <th>style</th>\n",
       "      <th>fireplace</th>\n",
       "      <th>sellingprice</th>\n",
       "    </tr>\n",
       "  </thead>\n",
       "  <tbody>\n",
       "    <tr>\n",
       "      <th>0</th>\n",
       "      <td>1.0</td>\n",
       "      <td>3472.0</td>\n",
       "      <td>998</td>\n",
       "      <td>1.0</td>\n",
       "      <td>7</td>\n",
       "      <td>4</td>\n",
       "      <td>42</td>\n",
       "      <td>colonial</td>\n",
       "      <td>no</td>\n",
       "      <td>25900</td>\n",
       "    </tr>\n",
       "    <tr>\n",
       "      <th>1</th>\n",
       "      <td>1.0</td>\n",
       "      <td>3531.0</td>\n",
       "      <td>1500</td>\n",
       "      <td>2.0</td>\n",
       "      <td>7</td>\n",
       "      <td>4</td>\n",
       "      <td>62</td>\n",
       "      <td>colonial</td>\n",
       "      <td>no</td>\n",
       "      <td>29500</td>\n",
       "    </tr>\n",
       "    <tr>\n",
       "      <th>2</th>\n",
       "      <td>1.0</td>\n",
       "      <td>2275.0</td>\n",
       "      <td>1175</td>\n",
       "      <td>1.0</td>\n",
       "      <td>6</td>\n",
       "      <td>3</td>\n",
       "      <td>40</td>\n",
       "      <td>colonial</td>\n",
       "      <td>no</td>\n",
       "      <td>27900</td>\n",
       "    </tr>\n",
       "    <tr>\n",
       "      <th>3</th>\n",
       "      <td>1.0</td>\n",
       "      <td>4050.0</td>\n",
       "      <td>1232</td>\n",
       "      <td>1.0</td>\n",
       "      <td>6</td>\n",
       "      <td>3</td>\n",
       "      <td>54</td>\n",
       "      <td>colonial</td>\n",
       "      <td>no</td>\n",
       "      <td>25900</td>\n",
       "    </tr>\n",
       "    <tr>\n",
       "      <th>4</th>\n",
       "      <td>1.0</td>\n",
       "      <td>4455.0</td>\n",
       "      <td>1121</td>\n",
       "      <td>1.0</td>\n",
       "      <td>6</td>\n",
       "      <td>3</td>\n",
       "      <td>42</td>\n",
       "      <td>colonial</td>\n",
       "      <td>no</td>\n",
       "      <td>29900</td>\n",
       "    </tr>\n",
       "  </tbody>\n",
       "</table>\n",
       "</div>"
      ],
      "text/plain": [
       "   bathrooms  sitesize  livingsize  garages  rooms  bedrooms  age     style  \\\n",
       "0        1.0    3472.0         998      1.0      7         4   42  colonial   \n",
       "1        1.0    3531.0        1500      2.0      7         4   62  colonial   \n",
       "2        1.0    2275.0        1175      1.0      6         3   40  colonial   \n",
       "3        1.0    4050.0        1232      1.0      6         3   54  colonial   \n",
       "4        1.0    4455.0        1121      1.0      6         3   42  colonial   \n",
       "\n",
       "  fireplace  sellingprice  \n",
       "0        no         25900  \n",
       "1        no         29500  \n",
       "2        no         27900  \n",
       "3        no         25900  \n",
       "4        no         29900  "
      ]
     },
     "execution_count": 8,
     "metadata": {},
     "output_type": "execute_result"
    }
   ],
   "source": [
    "data = pd.read_csv('houses.csv')\n",
    "data.head()"
   ]
  },
  {
   "cell_type": "markdown",
   "id": "5164d5ac",
   "metadata": {},
   "source": [
    "### Task 3.1 ###\n",
    "\n",
    "Fit a linear regression of *sellingprice* as a function of *livingsize* using. Print the summary of this linear model and interpret **all of** the useful information you can get from the summary."
   ]
  },
  {
   "cell_type": "code",
   "execution_count": 9,
   "id": "96f102dd",
   "metadata": {},
   "outputs": [
    {
     "data": {
      "image/png": "[encoded data removed]",
      "text/plain": [
       "<Figure size 864x576 with 1 Axes>"
      ]
     },
     "metadata": {
      "needs_background": "light"
     },
     "output_type": "display_data"
    }
   ],
   "source": [
    "data_livsel = data[['livingsize', 'sellingprice']]\n",
    "val = data_livsel.values\n",
    "\n",
    "# Plot the two data columns against each other in a scatterplot\n",
    "fig, ax = plt.subplots(1, 1, figsize=(12, 8))\n",
    "ax.scatter(val[:, 0], val[:, 1])\n",
    "ax.set_title('Scatterplot of livingsize and sellingprice');\n",
    "ax.set_xlabel('livingsize')\n",
    "ax.set_ylabel('sellingprice');"
   ]
  },
  {
   "cell_type": "code",
   "execution_count": 10,
   "id": "019bf6c3",
   "metadata": {},
   "outputs": [
    {
     "name": "stdout",
     "output_type": "stream",
     "text": [
      "Key characteristics of the fitted sklearn linear model\n",
      "\n",
      "Intercept:  15295.208164249503 \n",
      "Slope:  14.006310405478402\n"
     ]
    }
   ],
   "source": [
    "model = LinearRegression() # Load a linear regression model https://scikit-learn.org/stable/modules/linear_model.html\n",
    "X_val = val[:, 0].reshape(-1, 1) #pack each value into its own array (holds 1 value only)\n",
    "y_val = val[:, 1]\n",
    "model.fit(X_val,y_val);\n",
    "print(\"Key characteristics of the fitted sklearn linear model\")\n",
    "print(\"\\nIntercept: \", model.intercept_, \"\\nSlope: \", model.coef_[0])"
   ]
  },
  {
   "cell_type": "code",
   "execution_count": 11,
   "id": "5467253e",
   "metadata": {},
   "outputs": [
    {
     "name": "stdout",
     "output_type": "stream",
     "text": [
      "Key characteristics of the fitted scipy linear model\n",
      "Intercept:  15295.2081642495 \n",
      "Slope:  14.006310405478406 \n",
      "p-Value:  0.0006245162196361209 \n",
      "r-Value:  0.6260038769923945\n",
      "Std-Err:  3.561520443477435 \n",
      "Intercept Std-Err:  5007.203555793075\n"
     ]
    }
   ],
   "source": [
    "linregress = stats.linregress(val[:, 0], y_val) #https://docs.scipy.org/doc/scipy/reference/generated/scipy.stats.linregress.html#scipy.stats.linregress\n",
    "print(\"Key characteristics of the fitted scipy linear model\")\n",
    "print(\"Intercept: \", linregress.intercept, \"\\nSlope: \", linregress.slope, \"\\np-Value: \", linregress.pvalue, \"\\nr-Value: \", linregress.rvalue)\n",
    "print(\"Std-Err: \", linregress.stderr, \"\\nIntercept Std-Err: \", linregress.intercept_stderr)"
   ]
  },
  {
   "cell_type": "code",
   "execution_count": 12,
   "id": "1b42a0d9",
   "metadata": {},
   "outputs": [
    {
     "name": "stdout",
     "output_type": "stream",
     "text": [
      "[[  975.  28951.4]\n",
      " [  988.  29133.4]\n",
      " [  998.  29273.5]\n",
      " [ 1020.  29581.6]\n",
      " [ 1121.  30996.3]\n",
      " [ 1121.  30996.3]\n",
      " [ 1175.  31752.6]\n",
      " [ 1200.  32102.8]\n",
      " [ 1225.  32452.9]\n",
      " [ 1232.  32551. ]\n",
      " [ 1240.  32663. ]\n",
      " [ 1256.  32887.1]\n",
      " [ 1376.  34567.9]\n",
      " [ 1488.  36136.6]\n",
      " [ 1500.  36304.7]\n",
      " [ 1500.  36304.7]\n",
      " [ 1501.  36318.7]\n",
      " [ 1501.  36318.7]\n",
      " [ 1504.  36360.7]\n",
      " [ 1552.  37033. ]\n",
      " [ 1652.  38433.6]\n",
      " [ 1664.  38601.7]\n",
      " [ 1690.  38965.9]\n",
      " [ 1777.  40184.4]\n",
      " [ 1820.  40786.7]\n",
      " [ 1831.  40940.8]]\n"
     ]
    },
    {
     "data": {
      "text/html": [
       "<div>\n",
       "<style scoped>\n",
       "    .dataframe tbody tr th:only-of-type {\n",
       "        vertical-align: middle;\n",
       "    }\n",
       "\n",
       "    .dataframe tbody tr th {\n",
       "        vertical-align: top;\n",
       "    }\n",
       "\n",
       "    .dataframe thead th {\n",
       "        text-align: right;\n",
       "    }\n",
       "</style>\n",
       "<table border=\"1\" class=\"dataframe\">\n",
       "  <thead>\n",
       "    <tr style=\"text-align: right;\">\n",
       "      <th></th>\n",
       "      <th>sum_sq</th>\n",
       "      <th>df</th>\n",
       "      <th>F</th>\n",
       "      <th>PR(&gt;F)</th>\n",
       "    </tr>\n",
       "  </thead>\n",
       "  <tbody>\n",
       "    <tr>\n",
       "      <th>Intercept</th>\n",
       "      <td>2.133666e+08</td>\n",
       "      <td>1.0</td>\n",
       "      <td>9.33083</td>\n",
       "      <td>0.005448</td>\n",
       "    </tr>\n",
       "    <tr>\n",
       "      <th>livingsize</th>\n",
       "      <td>3.536574e+08</td>\n",
       "      <td>1.0</td>\n",
       "      <td>15.46595</td>\n",
       "      <td>0.000625</td>\n",
       "    </tr>\n",
       "    <tr>\n",
       "      <th>Residual</th>\n",
       "      <td>5.488041e+08</td>\n",
       "      <td>24.0</td>\n",
       "      <td>NaN</td>\n",
       "      <td>NaN</td>\n",
       "    </tr>\n",
       "  </tbody>\n",
       "</table>\n",
       "</div>"
      ],
      "text/plain": [
       "                  sum_sq    df         F    PR(>F)\n",
       "Intercept   2.133666e+08   1.0   9.33083  0.005448\n",
       "livingsize  3.536574e+08   1.0  15.46595  0.000625\n",
       "Residual    5.488041e+08  24.0       NaN       NaN"
      ]
     },
     "metadata": {},
     "output_type": "display_data"
    }
   ],
   "source": [
    "# Run some predictions on our model\n",
    "X_sort = np.sort(val[:, 0]) # First sort x-values from smallest to largest\n",
    "predictions_sort = np.round(model.predict(X_sort.reshape(-1, 1)), 1) #run prediction on the sorted values\n",
    "conc = np.zeros((X_sort.size, 2))\n",
    "for x in range(X_sort.size):\n",
    "    conc[x][0] = X_sort[x]\n",
    "    conc[x][1] = predictions_sort[x]\n",
    "\n",
    "print(conc) #print x value and prediction base on it\n",
    "\n",
    "ols_model1 = ols('sellingprice ~ livingsize', data=data_livsel).fit()\n",
    "anova_table = sm.stats.anova_lm(ols_model1, typ=3)\n",
    "display(anova_table)"
   ]
  },
  {
   "cell_type": "markdown",
   "id": "b8bf3734",
   "metadata": {},
   "source": [
    "From the model the two parameters intercept ($\\beta_0$) and slope ($\\beta_1$) can be read and they are `15295.21` and `14.01` respectivly. Given the regular form of the linear regression function $y = \\beta_0 + \\beta_1x$ and $\\beta_0 = 15295.21$, $\\beta_1 = 14.01$ this results into our particulary linear regression function being $y = 15295.21 + 14.01x$.\n",
    "\n",
    "Further values that could be read from the statistics are an `rvalue` of `0.626`, indicating a positive, however not ultra strong, linear relationship between our two parameters livingsize and sellingprice. With the very small `pvalue` of 0.000624 it indicates that we can safely reject the null hypothesis and the coefficient is a meaningfull addition to our model. This further on means that 'livingsize' has a large influence on the outcome of sellingprice and can explain it.\n",
    "\n",
    "Finally, the gotten linear function is plotted in the scatter plot from before"
   ]
  },
  {
   "cell_type": "code",
   "execution_count": 13,
   "id": "93915eaa",
   "metadata": {},
   "outputs": [
    {
     "data": {
      "image/png": "[encoded data removed]",
      "text/plain": [
       "<Figure size 864x576 with 1 Axes>"
      ]
     },
     "metadata": {
      "needs_background": "light"
     },
     "output_type": "display_data"
    }
   ],
   "source": [
    "fig, ax = plt.subplots(1, 1, figsize=(12, 8))\n",
    "ax.scatter(val[:, 0], val[:, 1], label='true y data', color='k')\n",
    "ax.plot(\n",
    "    X_sort, \n",
    "    predictions_sort, \n",
    "    marker='.', \n",
    "    markeredgecolor='b', \n",
    "    linestyle='-', \n",
    "    color='r',\n",
    "    label='regression prediction',\n",
    ")\n",
    "ax.set_title('Scatterplot of livingsize and sellingprice with the linear model')\n",
    "ax.set_xlabel('livingsize')\n",
    "ax.set_ylabel('sellingprice')\n",
    "ax.legend(loc='best');"
   ]
  },
  {
   "cell_type": "markdown",
   "id": "e19622b5",
   "metadata": {},
   "source": [
    "### Task 3.2 ###\n",
    "\n",
    "Setup a X design matrix (manually in the program)\n",
    "\n",
    "According to the slides, the intercept variable $\\beta_0$ is set to 1 for each entry, therefore the first entry in every row is set to 1 and $\\beta_1$ comes as the second item."
   ]
  },
  {
   "cell_type": "code",
   "execution_count": 14,
   "id": "420ae0f6",
   "metadata": {},
   "outputs": [
    {
     "name": "stdout",
     "output_type": "stream",
     "text": [
      "design matrix X:\n",
      " [[   1.  998.]\n",
      " [   1. 1500.]\n",
      " [   1. 1175.]\n",
      " [   1. 1232.]\n",
      " [   1. 1121.]\n",
      " [   1.  988.]\n",
      " [   1. 1240.]\n",
      " [   1. 1501.]\n",
      " [   1. 1225.]\n",
      " [   1. 1552.]\n",
      " [   1.  975.]\n",
      " [   1. 1121.]\n",
      " [   1. 1020.]\n",
      " [   1. 1501.]\n",
      " [   1. 1664.]\n",
      " [   1. 1488.]\n",
      " [   1. 1376.]\n",
      " [   1. 1500.]\n",
      " [   1. 1256.]\n",
      " [   1. 1690.]\n",
      " [   1. 1820.]\n",
      " [   1. 1652.]\n",
      " [   1. 1777.]\n",
      " [   1. 1504.]\n",
      " [   1. 1831.]\n",
      " [   1. 1200.]]\n"
     ]
    }
   ],
   "source": [
    "X = np.concatenate([np.ones((X_val.shape[0], 1)), X_val], axis=1)\n",
    "print('design matrix X:\\n', X)"
   ]
  },
  {
   "cell_type": "markdown",
   "id": "bbb08dff",
   "metadata": {},
   "source": [
    "### Task 3.3 ###\n",
    "\n",
    "Calculate $\\hat\\beta$ by using least square method (compute it manually in matrix form), confirm you get the same result from the coefficients you got from Q3.1.\n",
    "\n",
    "To manually calculate $\\hat\\beta$, the following formular is used: $\\hat\\beta = (X^tX)^{-1}X^tY$"
   ]
  },
  {
   "cell_type": "code",
   "execution_count": 15,
   "id": "1366c0e7",
   "metadata": {},
   "outputs": [
    {
     "name": "stdout",
     "output_type": "stream",
     "text": [
      "Intercept:  15295.20816424943\n",
      "Slope:  14.006310405478416\n"
     ]
    }
   ],
   "source": [
    "XtX_inv = np.linalg.inv(X.T @ X)\n",
    "XtY = X.T @ y_val\n",
    "beta = XtX_inv @ XtY\n",
    "beta0, beta1 = beta\n",
    "\n",
    "print(\"Intercept: \", beta0)\n",
    "print(\"Slope: \", beta1)"
   ]
  },
  {
   "cell_type": "markdown",
   "id": "4060f00f",
   "metadata": {},
   "source": [
    "As manually calculated, $\\beta_0 = 15295.21$ and $\\beta_1 = 14.01$, which matches the calculated results from above that were calculated by the Linear Regression model from before.\n",
    "\n",
    "\\begin{equation}\n",
    "\\hat{\\beta} = \n",
    "    \\begin{pmatrix} 15295.21 \\\\ \n",
    "    14.01 \n",
    "\\end{pmatrix} \n",
    "\\end{equation}"
   ]
  },
  {
   "cell_type": "markdown",
   "id": "c72dbaf8",
   "metadata": {},
   "source": [
    "### Task 3.4 ###\n",
    "\n",
    "What is the degree of freedom of this model? Please explain how you get this\n",
    "number."
   ]
  },
  {
   "cell_type": "markdown",
   "id": "b59b4444",
   "metadata": {},
   "source": [
    "Usually, the degrees of freedom are calculated as $df = n-k$ where $n$ refers to the number of samples and $k$ to the number of parameters including the intercept term (i.e. $|\\hat\\beta|$)."
   ]
  },
  {
   "cell_type": "code",
   "execution_count": 16,
   "id": "45f2bc1e",
   "metadata": {},
   "outputs": [
    {
     "name": "stdout",
     "output_type": "stream",
     "text": [
      "Shape of sample vector X:   (26, 2)\n",
      "Shape of target vector y:   (26,)\n",
      "Shape of parameter vector:  (2,)\n"
     ]
    }
   ],
   "source": [
    "print(\"Shape of sample vector X:  \", X.shape)\n",
    "print(\"Shape of target vector y:  \", y_val.shape)\n",
    "print(\"Shape of parameter vector: \", beta.shape)"
   ]
  },
  {
   "cell_type": "markdown",
   "id": "fd5faa4b",
   "metadata": {},
   "source": [
    "In this case, $n=26$ and $k= |\\hat\\beta|=2$, therefore $df = 26-2 = 24$. The degree of freedom for this model therefore is **24**."
   ]
  },
  {
   "cell_type": "markdown",
   "id": "b2bdfb43",
   "metadata": {},
   "source": [
    "### Task 3.5 ###\n",
    "\n",
    "Calculate the mean square error(MSE) (Manually in matrix form)"
   ]
  },
  {
   "cell_type": "markdown",
   "id": "5a24b62c",
   "metadata": {},
   "source": [
    "The mean squared error for a given regression function $f$ and input $x$ is given as followed:  $MSE(f, x) = E(Y-f(x))^2$ where $Y$ is the true target value, in our case the selling price and $f(x)$ is the estimated selling price from our model. This holds for a single value. If we have more than one sample, then the mean is the average over all squared error terms.\n",
    "\n",
    "$MSE = \\frac{1}{n}\\Sigma_{i=1}^{n}(Y_i - f(x_i))^2\\$"
   ]
  },
  {
   "cell_type": "code",
   "execution_count": 17,
   "id": "14561923",
   "metadata": {},
   "outputs": [
    {
     "name": "stdout",
     "output_type": "stream",
     "text": [
      "Mean Squared Error (MSE):    21107851.54071137\n",
      "Root of Mean Squared Error:  4594.3281925338515\n"
     ]
    }
   ],
   "source": [
    "y_pred = model.predict(X_val)\n",
    "y_true = y_val\n",
    "\n",
    "serror = (y_true - y_pred) ** 2\n",
    "mse = serror.mean()\n",
    "print(\"Mean Squared Error (MSE):   \", mse)\n",
    "meanerror = np.sqrt(mse)\n",
    "print(\"Root of Mean Squared Error: \", meanerror)"
   ]
  },
  {
   "cell_type": "markdown",
   "id": "f50a87a2",
   "metadata": {},
   "source": [
    "$MSE = 21107851.54$  \n",
    "$RMSE = 4594.33$"
   ]
  },
  {
   "cell_type": "markdown",
   "id": "b15915cb",
   "metadata": {},
   "source": [
    "### Task 3.6 ###\n",
    "\n",
    "Calculate $cov(\\hat\\beta)$ as a matrix, confirming that these main variances match the result from Q 3.1."
   ]
  },
  {
   "cell_type": "markdown",
   "id": "fbf251d5",
   "metadata": {},
   "source": [
    "The necessesary formular for the residual variance is as follows:  \n",
    "$s^2 = \\frac{1}{n-p-1} \\Sigma_{i=1}^{n} (y_i - \\hat y_i)^2$\n",
    "\n",
    "In this formular, $n$ is the number of rows in our data and $p$ the length of the $\\hat\\beta$ vector. With this information, the covariance matrix can be roughly calculated as:  \n",
    "$Cov(\\hat\\beta) = \\sigma^2 (X^tX)^{-1} \\approx s^2(X^tX)^{-1}$"
   ]
  },
  {
   "cell_type": "code",
   "execution_count": 18,
   "id": "4e64c252",
   "metadata": {},
   "outputs": [
    {
     "name": "stdout",
     "output_type": "stream",
     "text": [
      "Residual variance s2:  22866839.169103984\n",
      "[[25072087.44914683   -17517.68275012]\n",
      " [  -17517.68275012       12.68442787]]\n",
      "               Intercept    livingsize\n",
      "Intercept   2.507209e+07 -17517.682750\n",
      "livingsize -1.751768e+04     12.684428\n",
      "\n",
      "Comparison to show ratio between the params:\n",
      "             Intercept  livingsize\n",
      "Intercept         1.0         1.0\n",
      "livingsize        1.0         1.0\n"
     ]
    }
   ],
   "source": [
    "res = y_true - y_pred\n",
    "sum_res = np.sum(res ** 2)\n",
    "s2 = sum_res / (X.shape[0] - X.shape[1])\n",
    "print(\"Residual variance s2: \", s2)\n",
    "\n",
    "cov_beta = s2 * XtX_inv\n",
    "print(cov_beta)\n",
    "\n",
    "orig_params = ols_model1.cov_params()\n",
    "print(orig_params)\n",
    "\n",
    "print(\"\\nComparison to show ratio between the params:\\n\", cov_beta / orig_params)"
   ]
  },
  {
   "cell_type": "markdown",
   "id": "e6e2a71f",
   "metadata": {},
   "source": [
    "The manually calculated params match the ones which where automatically calculated by the model in Q3.1"
   ]
  },
  {
   "cell_type": "markdown",
   "id": "c179e1b1",
   "metadata": {},
   "source": [
    "### Task 3.7 ###\n",
    "\n",
    "Fit a linear regression of *sellingprice* as a function of *livingsize*, *age*, and *sitesize*. Print the summary of this linear model."
   ]
  },
  {
   "cell_type": "code",
   "execution_count": 19,
   "id": "00c0f7f1",
   "metadata": {},
   "outputs": [
    {
     "name": "stdout",
     "output_type": "stream",
     "text": [
      "Shape of X:  (26, 3) \n",
      "Shape of y:  (26, 1)\n"
     ]
    }
   ],
   "source": [
    "df_data = data[['livingsize', 'age', 'sitesize', 'sellingprice']]\n",
    "val = df_data.values\n",
    "X_val = val[:, :3]\n",
    "y_val = val[:, 3:]\n",
    "\n",
    "print(\"Shape of X: \", X_val.shape, \"\\nShape of y: \", y_val.shape)"
   ]
  },
  {
   "cell_type": "code",
   "execution_count": 20,
   "id": "854e2d95",
   "metadata": {},
   "outputs": [
    {
     "name": "stdout",
     "output_type": "stream",
     "text": [
      "Key characteristics of the fitted sklearn linear model\n",
      "\n",
      "Intercept:  21034.53018640742 \n",
      "Slope coefficients:  [  12.04223611 -127.32110305    0.27578092]\n"
     ]
    },
    {
     "data": {
      "text/html": [
       "<div>\n",
       "<style scoped>\n",
       "    .dataframe tbody tr th:only-of-type {\n",
       "        vertical-align: middle;\n",
       "    }\n",
       "\n",
       "    .dataframe tbody tr th {\n",
       "        vertical-align: top;\n",
       "    }\n",
       "\n",
       "    .dataframe thead th {\n",
       "        text-align: right;\n",
       "    }\n",
       "</style>\n",
       "<table border=\"1\" class=\"dataframe\">\n",
       "  <thead>\n",
       "    <tr style=\"text-align: right;\">\n",
       "      <th></th>\n",
       "      <th>sum_sq</th>\n",
       "      <th>df</th>\n",
       "      <th>F</th>\n",
       "      <th>PR(&gt;F)</th>\n",
       "    </tr>\n",
       "  </thead>\n",
       "  <tbody>\n",
       "    <tr>\n",
       "      <th>Intercept</th>\n",
       "      <td>2.717923e+08</td>\n",
       "      <td>1.0</td>\n",
       "      <td>13.066420</td>\n",
       "      <td>0.001536</td>\n",
       "    </tr>\n",
       "    <tr>\n",
       "      <th>livingsize</th>\n",
       "      <td>1.846457e+08</td>\n",
       "      <td>1.0</td>\n",
       "      <td>8.876844</td>\n",
       "      <td>0.006917</td>\n",
       "    </tr>\n",
       "    <tr>\n",
       "      <th>age</th>\n",
       "      <td>6.719468e+07</td>\n",
       "      <td>1.0</td>\n",
       "      <td>3.230385</td>\n",
       "      <td>0.086026</td>\n",
       "    </tr>\n",
       "    <tr>\n",
       "      <th>sitesize</th>\n",
       "      <td>5.166618e+06</td>\n",
       "      <td>1.0</td>\n",
       "      <td>0.248385</td>\n",
       "      <td>0.623160</td>\n",
       "    </tr>\n",
       "    <tr>\n",
       "      <th>Residual</th>\n",
       "      <td>4.576181e+08</td>\n",
       "      <td>22.0</td>\n",
       "      <td>NaN</td>\n",
       "      <td>NaN</td>\n",
       "    </tr>\n",
       "  </tbody>\n",
       "</table>\n",
       "</div>"
      ],
      "text/plain": [
       "                  sum_sq    df          F    PR(>F)\n",
       "Intercept   2.717923e+08   1.0  13.066420  0.001536\n",
       "livingsize  1.846457e+08   1.0   8.876844  0.006917\n",
       "age         6.719468e+07   1.0   3.230385  0.086026\n",
       "sitesize    5.166618e+06   1.0   0.248385  0.623160\n",
       "Residual    4.576181e+08  22.0        NaN       NaN"
      ]
     },
     "metadata": {},
     "output_type": "display_data"
    }
   ],
   "source": [
    "model = LinearRegression()\n",
    "X = X_val\n",
    "y = y_val.ravel()\n",
    "model.fit(X, y)\n",
    "print(\"Key characteristics of the fitted sklearn linear model\")\n",
    "print(\"\\nIntercept: \", model.intercept_, \"\\nSlope coefficients: \", model.coef_)\n",
    "\n",
    "ols_model2 = ols('sellingprice ~ livingsize + age + sitesize', data=df_data).fit()\n",
    "anova_table = sm.stats.anova_lm(ols_model2, typ=3)\n",
    "display(anova_table)"
   ]
  },
  {
   "cell_type": "markdown",
   "id": "2f564ba0",
   "metadata": {},
   "source": [
    "For this linear model, we again have an intercept term and this time three coefficients for the slope (one for each variable it depends on).\n",
    "\n",
    "\\begin{equation}\n",
    "\\hat\\beta =\n",
    "    \\begin{pmatrix}\n",
    "        21034.53\\\\\n",
    "        12.04\\\\\n",
    "        -127.32\\\\\n",
    "        0.27\n",
    "    \\end{pmatrix}\n",
    "\\end{equation}"
   ]
  },
  {
   "cell_type": "markdown",
   "id": "9d9180e1",
   "metadata": {},
   "source": [
    "For this model, the individual attributes do not have as strong a influence as our single attribute had in Q3.1, however they perform very well together. Non of them is individually significant enough, but alltogether they do indeed outperform the first model which only depends on a single attribute and an intercept term to perform the linear regression.\n",
    "\n",
    "The `PR(>F)` (pvalue) value for livingsize is not as small as it was before, but still very much smaller than $0.01$ and therefore indicating a significant influence of this attribute on the whole model. Age does not perform as well, but its value higher than $0.05$, but still smaller than $0.01$, which indicates that it is still an important characteristic, but far less for the prediction than livingsize. Sitesize has a very large pvalue, indicating it is not much contributing / not a significant predictor for this model."
   ]
  },
  {
   "cell_type": "markdown",
   "id": "f9ffbc8a",
   "metadata": {},
   "source": [
    "### Task 3.8 ###\n",
    "\n",
    "Calculate the least square estimator for the y-intercept and three slopes (i.e. calculate $\\hat\\beta$) “by hand” similar as Q3.3. Also check that you are doing it correct by comparing the result from Q3.6.\n",
    "\n",
    "Assumption: It was Q3.7, not Q3.6, that was meant"
   ]
  },
  {
   "cell_type": "code",
   "execution_count": 21,
   "id": "5de3f6d4",
   "metadata": {},
   "outputs": [
    {
     "name": "stdout",
     "output_type": "stream",
     "text": [
      "Intercept:  [21034.53018641]\n",
      "Slope livingsize:  [12.04223611]\n",
      "Slope age:  [-127.32110305]\n",
      "Slope sitesize:  [0.27578092]\n"
     ]
    }
   ],
   "source": [
    "X = np.concatenate([np.ones((X_val.shape[0], 1)), X_val], axis=1)\n",
    "XtX_inv = np.linalg.inv(X.T @ X)\n",
    "XtY = X.T @ y_val\n",
    "beta = XtX_inv @ XtY\n",
    "beta0, beta1, beta2, beta3 = beta\n",
    "print(\"Intercept: \", beta0)\n",
    "print(\"Slope livingsize: \", beta1)\n",
    "print(\"Slope age: \", beta2)\n",
    "print(\"Slope sitesize: \", beta3)"
   ]
  },
  {
   "cell_type": "markdown",
   "id": "d0102790",
   "metadata": {},
   "source": [
    "As in task Q3.3, the manually calculated terms match the terms from the model perfectly.  \n",
    "\n",
    "\\begin{equation}\n",
    "\\hat\\beta =\n",
    "    \\begin{pmatrix}\n",
    "        21034.53\\\\\n",
    "        12.04\\\\\n",
    "        -127.32\\\\\n",
    "        0.27\n",
    "    \\end{pmatrix}\n",
    "\\end{equation}"
   ]
  },
  {
   "cell_type": "markdown",
   "id": "61551ad9",
   "metadata": {},
   "source": [
    "### Task 3.9 ###\n",
    "\n",
    "Calculate the variance-covariance matrix of $\\hat\\beta$ “by hand” using a similar process as Q 3.5.\n",
    "\n",
    "Assumption: It was Q3.6, not Q3.5, that was meant"
   ]
  },
  {
   "cell_type": "code",
   "execution_count": 22,
   "id": "19df99cc",
   "metadata": {},
   "outputs": [
    {
     "name": "stdout",
     "output_type": "stream",
     "text": [
      "Residual variance s2:  20800824.867937725\n",
      "[[33861720.8353882    -14781.71150683  -235065.3074685      -650.26304641]\n",
      " [  -14781.71150683       16.33637503      -14.87910137       -1.18737936]\n",
      " [ -235065.3074685       -14.87910137     5018.18230287       11.51890473]\n",
      " [    -650.26304641       -1.18737936       11.51890473        0.30619822]]\n",
      "               Intercept    livingsize            age    sitesize\n",
      "Intercept   3.386172e+07 -14781.711507 -235065.307468 -650.263046\n",
      "livingsize -1.478171e+04     16.336375     -14.879101   -1.187379\n",
      "age        -2.350653e+05    -14.879101    5018.182303   11.518905\n",
      "sitesize   -6.502630e+02     -1.187379      11.518905    0.306198\n",
      "\n",
      "Comparison to show ratio between the params:\n",
      "             Intercept  livingsize  age  sitesize\n",
      "Intercept         1.0         1.0  1.0       1.0\n",
      "livingsize        1.0         1.0  1.0       1.0\n",
      "age               1.0         1.0  1.0       1.0\n",
      "sitesize          1.0         1.0  1.0       1.0\n"
     ]
    }
   ],
   "source": [
    "y_pred = model.predict(val[:, :3])\n",
    "y_true = y_val.ravel()\n",
    "res = y_true - y_pred\n",
    "sum_res = np.sum(res ** 2)\n",
    "s2 = sum_res / (X.shape[0] - X.shape[1])\n",
    "print(\"Residual variance s2: \", s2)\n",
    "\n",
    "cov_beta = s2 * XtX_inv\n",
    "print(cov_beta)\n",
    "\n",
    "orig_params = ols_model2.cov_params()\n",
    "print(orig_params)\n",
    "\n",
    "print(\"\\nComparison to show ratio between the params:\\n\", cov_beta / orig_params)"
   ]
  },
  {
   "cell_type": "markdown",
   "id": "5718b618",
   "metadata": {},
   "source": [
    "Again, the manually calculated results match the ones from the model pretty well. The formular approach was the same as in Q3.6"
   ]
  },
  {
   "cell_type": "markdown",
   "id": "08d5c236",
   "metadata": {},
   "source": [
    "As this tasks description mentions Q3.5, even though I assume this is a mere typo and 3.6 was meant, the MSE and RMSE are once again recalculated. The formulars are the same as in Q3.5 and will not be written down here again."
   ]
  },
  {
   "cell_type": "code",
   "execution_count": 23,
   "id": "50696160",
   "metadata": {},
   "outputs": [
    {
     "name": "stdout",
     "output_type": "stream",
     "text": [
      "Mean Squared Error (MSE):    17600697.965178076\n",
      "Root of Mean Squared Error:  4195.318577316635\n"
     ]
    }
   ],
   "source": [
    "serror = (y_true - y_pred) ** 2\n",
    "mse = serror.mean()\n",
    "print(\"Mean Squared Error (MSE):   \", mse)\n",
    "meanerror = np.sqrt(mse)\n",
    "print(\"Root of Mean Squared Error: \", meanerror)"
   ]
  },
  {
   "cell_type": "markdown",
   "id": "9755cbe4",
   "metadata": {},
   "source": [
    "$MSE = 21107851.54$  \n",
    "$RMSE = 4594.33$\n",
    "\n",
    "According to this results, the second model with more attributes performs better on the data, resulting in less overall error between the real value and the predicted one."
   ]
  }
 ],
 "metadata": {
  "kernelspec": {
   "display_name": "Python 3 (ipykernel)",
   "language": "python",
   "name": "python3"
  },
  "language_info": {
   "codemirror_mode": {
    "name": "ipython",
    "version": 3
   },
   "file_extension": ".py",
   "mimetype": "text/x-python",
   "name": "python",
   "nbconvert_exporter": "python",
   "pygments_lexer": "ipython3",
   "version": "3.8.5"
  }
 },
 "nbformat": 4,
 "nbformat_minor": 5
}
