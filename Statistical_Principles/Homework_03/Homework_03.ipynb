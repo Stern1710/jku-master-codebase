{
 "cells": [
  {
   "cell_type": "markdown",
   "id": "c80f00d2",
   "metadata": {},
   "source": [
    "# Homework 03 #\n",
    "\n",
    "Sternbauer, k11812499"
   ]
  },
  {
   "cell_type": "code",
   "execution_count": 1,
   "id": "e2377131",
   "metadata": {},
   "outputs": [],
   "source": [
    "import pandas as pd\n",
    "import numpy as np\n",
    "\n",
    "import scipy.stats as stats\n",
    "\n",
    "import statsmodels.api as sm\n",
    "from statsmodels.formula.api import ols"
   ]
  },
  {
   "cell_type": "markdown",
   "id": "830017ec",
   "metadata": {},
   "source": [
    "## Task 1 ##\n",
    "Discuss the purpose of statistical design in your own words."
   ]
  },
  {
   "cell_type": "markdown",
   "id": "ff565da6",
   "metadata": {},
   "source": [
    "The purpose of statistical design is to make out differences in the outcome of an experiment by changing one or more process variables. Therefore correlations between various factors can be observed. Process variables are factors that have an influence on the environment in which an experiment is placed. Statistical design of experiments is a good way to plan and carry out an experiment such that the gained data can be analyzied and brings meaningful and hopefully objective results"
   ]
  },
  {
   "cell_type": "markdown",
   "id": "6d1b16be",
   "metadata": {},
   "source": [
    "## Task 2 ##\n",
    "Discuss the importance of blocking in experimental design."
   ]
  },
  {
   "cell_type": "markdown",
   "id": "ef70e285",
   "metadata": {},
   "source": [
    "With blocking, the experimental units (example: Humans, animals, things) are partioned into into homogenious blocks (i.e. groups) that share similiar characteristics with each other. This is done such that unexplained variability is reduced and precision is increased.  \n",
    "Example: A group of people has to be distributed into two groups for a medical experiment. Various factors such as sex, age, known dieseases, etc. have to be kept in mind when blocking the experimental units, such that each block has an equal share or all known factors."
   ]
  },
  {
   "cell_type": "markdown",
   "id": "0b54d0f3",
   "metadata": {},
   "source": [
    "## Task 3 ##\n",
    "Discuss the importance of randomization in experimental design."
   ]
  },
  {
   "cell_type": "markdown",
   "id": "cfee11ee",
   "metadata": {},
   "source": [
    "With randomization, the aim is to reduce the influence of personal or accidental bias on the selection of experimental units. In its simplest form, it works by randomly selection units from the pool of availables. A variant of randomization uses permutation within the pool of experimental units to assign them to a group. Stratified random sampling is used when units are split into different stratas (example: Different income levels between districts in a city). To sample equally withing such a strata, one is selected and simple random sampling is applied to it.\n",
    "\n",
    "Example for simple random sampling: A teacher picks student randomly with the help of a random number generation. Therefore the personal bias of said teacher is ruled out."
   ]
  },
  {
   "cell_type": "markdown",
   "id": "dac10bae",
   "metadata": {},
   "source": [
    "## Task 4 ##\n",
    "Discuss the importance of the replicates in experimental design."
   ]
  },
  {
   "cell_type": "markdown",
   "id": "0cd28f58",
   "metadata": {},
   "source": [
    "A replicate occurs when the same experiment is run multiple times with the same methods on typically larger number of, and always different subjects (experimental units). The aim is reduce variability, improve the significance of the experimental result and to increase confidence in the results. Replication cannot correct for a systematic bias (e.g. bias of the measurement instruments).\n",
    "\n",
    "Example: A new treatment (maybe a vaccine) is first off tested on very few people only, where it shows favourable results. However, this data is very little, therefore a replication of the experiment on a larger group of people is  carried out and the results are again evaluated. The more meaningful replicates are done, the higher the significance and confidence typially are."
   ]
  },
  {
   "cell_type": "markdown",
   "id": "f6de9238",
   "metadata": {},
   "source": [
    "## Task 5 ##\n",
    "What is(are) the assumption(s) need to be made for simple ANOVA if there is\n",
    "any."
   ]
  },
  {
   "cell_type": "markdown",
   "id": "87d327dd",
   "metadata": {},
   "source": [
    "ANOVA is short of the \"Analysis of Variances\" as is a collection of various statistical methods and used to analyze the difference in means between more than two groups. It is an extension of the t-test (or better say it uses the t-test to compare means).  \n",
    "Assumptions (if simple ANOVA means single-factor ANOVA):\n",
    "- **One** shared group variable\n",
    "- **One** dependant variable\n",
    "- The groups have to be independant from each other\n",
    "- A random selection of the required samples\n",
    "- All units have to be normally distributed and share the same variance\n",
    "\n",
    "Example: Compare the average grade of students in the TNF faculty of JKU. Then the course of studies (e.g. Computer Science, Physics, Biochemistriy, and many more) is the **one** share group variable and the average grade is the **one** dependant variable."
   ]
  },
  {
   "cell_type": "markdown",
   "id": "538a6d0d",
   "metadata": {},
   "source": [
    "## Task 6 ##\n",
    "What scenario you would use ANOVA, please give a concrete example of your own."
   ]
  },
  {
   "cell_type": "markdown",
   "id": "117f1dae",
   "metadata": {},
   "source": [
    "Let's say I am a teacher or researcher at JKU and I would like to find out if students from other universities studying computer science perform better than my own in Linz. I'd like to check if one group of students outperforms all others (or if one university severly lacks in their educational quality). To do this, a set of standardized questions is designed from professors and researches of all universities involved to bring is as little bias as possible. As ANOVA is helpful for testing three or more variables, is would be an approriate tool to do so."
   ]
  },
  {
   "cell_type": "markdown",
   "id": "7fde311f",
   "metadata": {},
   "source": [
    "## Task 7 ##\n",
    "A plant scientist investigated plant uptake of heavy metals(for example, nickel)\n",
    "when four rates of sludge applications were used. For a single variety of sweet\n",
    "corn, a total of 20 plants were established. The plants were individually potted\n",
    "and 5 were randomly chosen to receive each rate of sludge. After a designated\n",
    "period of time following the sludge application, the leaves were taken from each\n",
    "plant and analyzed for presence of the heavy metal."
   ]
  },
  {
   "cell_type": "markdown",
   "id": "f30cf521",
   "metadata": {},
   "source": [
    "(a) Identify the experimental unit and specify a model equation. Identify all\n",
    "terms."
   ]
  },
  {
   "cell_type": "markdown",
   "id": "52e4c18e",
   "metadata": {},
   "source": [
    "**Experimental unit:** Sweet corn plant in a pot \n",
    "\n",
    "**Model equation**:\n",
    "$ y_{ij} = \\mu + \\tau_j + \\epsilon_{ij}$ where $1 \\leq i \\leq t; 1 \\leq j \\leq r$\n",
    "- $r$ treatments with $t$ observations per treatment\n",
    "- i=1..5 the replication of number a treatment level (5 plants for each treatment level)\n",
    "- j=1..4 the different number of treatment levels (four different rates of sludge application\n",
    "- $\\mu$ is interpreted as the overall mean outcome and a constant (in this case the levels of heavy metals)\n",
    "- $\\tau_j$ is the effect of the treatment on a plant (deviation from overall mean level of heavy metals under the treatment)\n",
    "- $\\epsilon_{ij}$ represent an individual deviations from the mean, is attached to each treatment and replica individually and can also be called an error term.\n",
    "- $y_{ij}$ is the observed outcome for the i-th individual under treatment j"
   ]
  },
  {
   "cell_type": "markdown",
   "id": "9397557f",
   "metadata": {},
   "source": [
    "(b) Set up the ANOVA table (sources and df)."
   ]
  },
  {
   "cell_type": "markdown",
   "id": "031465f2",
   "metadata": {},
   "source": [
    "| Sources of variation | Degrees of Freedom     |\n",
    "|----------------------|------------------------|\n",
    "| treatment            | t-1 = 5-1 = 4          |\n",
    "| within               | t(r-1) = 5*(4-1) = 15  |\n",
    "| total                | rt - 1 = 4* 5 - 1 = 19 |"
   ]
  },
  {
   "cell_type": "markdown",
   "id": "90d32e2a",
   "metadata": {},
   "source": [
    "(c) Identify a contrast that the experimenter might be interested in testing."
   ]
  },
  {
   "cell_type": "markdown",
   "id": "466f274e",
   "metadata": {},
   "source": [
    "The contrast between the lowest and the highest rate of sludge application could be interesting to the experimenter to see the effects. If none or just a very small increase is observed, the rate of sludge has very little effect on heavy metals in a plant or the rights were not high enough to cause any real effect (which might be good because the rates where chosen according to what we find in the environment). A sharp increase on the other hand would suggest that the different sludge treatments to have a significant effect on the concentration of heavy metals in a plant."
   ]
  },
  {
   "cell_type": "markdown",
   "id": "a8f740fa",
   "metadata": {},
   "source": [
    "## Task 8 ##\n",
    "A series of runs were performed to determine how the wash water temperature\n",
    "and the detergent concentration affect the bacterial count on the palms of subjects\n",
    "in a hand washing experiment."
   ]
  },
  {
   "cell_type": "markdown",
   "id": "030fffec",
   "metadata": {},
   "source": [
    "(a) Identify the experimental unit."
   ]
  },
  {
   "cell_type": "markdown",
   "id": "f59cffdb",
   "metadata": {},
   "source": [
    "**Experimental unit:** Palms of each individual subject"
   ]
  },
  {
   "cell_type": "markdown",
   "id": "594dd8e7",
   "metadata": {},
   "source": [
    "(b) Identify the factors."
   ]
  },
  {
   "cell_type": "markdown",
   "id": "b358c97a",
   "metadata": {},
   "source": [
    "- wash water temperature\n",
    "- detergent concentration\n",
    "\n",
    "Additional influence might come from factors like\n",
    "- How long hands are washed\n",
    "- How thoroughly a subjects washes their hands\n",
    "- How much bacteria was on their palms before the experiment"
   ]
  },
  {
   "cell_type": "markdown",
   "id": "39bd12ba",
   "metadata": {},
   "source": [
    "(c) Identify the response."
   ]
  },
  {
   "cell_type": "markdown",
   "id": "95ad00aa",
   "metadata": {},
   "source": [
    "Bacterial count on palms of subjects"
   ]
  },
  {
   "cell_type": "markdown",
   "id": "87065033",
   "metadata": {},
   "source": [
    "## Task 9 ##\n",
    "Describe a situation within your realm of experience (your work, your hobby, or\n",
    "school) where you might like to predict the result of some future action. Explain\n",
    "how an experimental design, rather than an observational study, might enhance\n",
    "your ability to make this prediction."
   ]
  },
  {
   "cell_type": "markdown",
   "id": "8d74a32a",
   "metadata": {},
   "source": [
    "At work, programming methods should be revised and it is to be checked which one is brings forwards the best results **in terms of memory safety**. All programmers are randomly assigned into different teams, the same goes for the softwar engineers. Each team is then assigned one programing method (example: Extreme programming, waterfall model, Scrum), with a maximum of three replicas in the method. All teams have the same task to fullfill within the same amount of time. After the specified time period, measureable factors such as compilation time, execution time, number of implemented features etc. are also taken next to the memory safety aspect. The programing technique of the winner group is then selected for future tasks and will be evaluated further."
   ]
  },
  {
   "cell_type": "markdown",
   "id": "ed62131f",
   "metadata": {},
   "source": [
    "## Task 10 ##\n",
    " Import data “chocolate.csv” Researchers has done an experiment to investigate the effect of consuming chocolate on cardiovascular health. The experiment consist of using three different types of chocolates: (1) 100g of dark chocolate, (2) 100 g of dark chocolate with 200 mL of full-fat milk, and (3) 200 g of milk chocolate. Twelve subjects were used, 7 women and 5 men. On different days a subject consumed one of the chocolate factor levels and one hour later the total antioxidant capacity of their blood plasma was measured."
   ]
  },
  {
   "cell_type": "code",
   "execution_count": 2,
   "id": "1ac6596e",
   "metadata": {},
   "outputs": [
    {
     "data": {
      "text/html": [
       "<div>\n",
       "<style scoped>\n",
       "    .dataframe tbody tr th:only-of-type {\n",
       "        vertical-align: middle;\n",
       "    }\n",
       "\n",
       "    .dataframe tbody tr th {\n",
       "        vertical-align: top;\n",
       "    }\n",
       "\n",
       "    .dataframe thead th {\n",
       "        text-align: right;\n",
       "    }\n",
       "</style>\n",
       "<table border=\"1\" class=\"dataframe\">\n",
       "  <thead>\n",
       "    <tr style=\"text-align: right;\">\n",
       "      <th></th>\n",
       "      <th>Factor</th>\n",
       "      <th>Subject</th>\n",
       "      <th>Observation</th>\n",
       "    </tr>\n",
       "  </thead>\n",
       "  <tbody>\n",
       "    <tr>\n",
       "      <th>0</th>\n",
       "      <td>DC</td>\n",
       "      <td>1</td>\n",
       "      <td>118.8</td>\n",
       "    </tr>\n",
       "    <tr>\n",
       "      <th>1</th>\n",
       "      <td>DC+MK</td>\n",
       "      <td>1</td>\n",
       "      <td>105.4</td>\n",
       "    </tr>\n",
       "    <tr>\n",
       "      <th>2</th>\n",
       "      <td>MC</td>\n",
       "      <td>1</td>\n",
       "      <td>102.1</td>\n",
       "    </tr>\n",
       "    <tr>\n",
       "      <th>3</th>\n",
       "      <td>DC</td>\n",
       "      <td>2</td>\n",
       "      <td>122.6</td>\n",
       "    </tr>\n",
       "    <tr>\n",
       "      <th>4</th>\n",
       "      <td>DC+MK</td>\n",
       "      <td>2</td>\n",
       "      <td>101.1</td>\n",
       "    </tr>\n",
       "    <tr>\n",
       "      <th>5</th>\n",
       "      <td>MC</td>\n",
       "      <td>2</td>\n",
       "      <td>105.8</td>\n",
       "    </tr>\n",
       "    <tr>\n",
       "      <th>6</th>\n",
       "      <td>DC</td>\n",
       "      <td>3</td>\n",
       "      <td>115.6</td>\n",
       "    </tr>\n",
       "    <tr>\n",
       "      <th>7</th>\n",
       "      <td>DC+MK</td>\n",
       "      <td>3</td>\n",
       "      <td>102.7</td>\n",
       "    </tr>\n",
       "    <tr>\n",
       "      <th>8</th>\n",
       "      <td>MC</td>\n",
       "      <td>3</td>\n",
       "      <td>99.6</td>\n",
       "    </tr>\n",
       "    <tr>\n",
       "      <th>9</th>\n",
       "      <td>DC</td>\n",
       "      <td>4</td>\n",
       "      <td>113.6</td>\n",
       "    </tr>\n",
       "  </tbody>\n",
       "</table>\n",
       "</div>"
      ],
      "text/plain": [
       "  Factor  Subject  Observation\n",
       "0     DC        1        118.8\n",
       "1  DC+MK        1        105.4\n",
       "2     MC        1        102.1\n",
       "3     DC        2        122.6\n",
       "4  DC+MK        2        101.1\n",
       "5     MC        2        105.8\n",
       "6     DC        3        115.6\n",
       "7  DC+MK        3        102.7\n",
       "8     MC        3         99.6\n",
       "9     DC        4        113.6"
      ]
     },
     "metadata": {},
     "output_type": "display_data"
    }
   ],
   "source": [
    "data = pd.read_csv('chocolate.csv')\n",
    "display(data.head(10))"
   ]
  },
  {
   "cell_type": "markdown",
   "id": "f625e658",
   "metadata": {},
   "source": [
    "(a) Fit a ANOVA with this data."
   ]
  },
  {
   "cell_type": "markdown",
   "id": "048b072e",
   "metadata": {},
   "source": [
    "Hypothesis:\n",
    "$h_0$: $\\mu_{dc} = \\mu_{dc_mk} = \\mu_{mc}$  \n",
    "$h_1$: Not all $\\mu$ values are the same\n",
    "\n",
    "Groups based on factors (DC, DC+MK, MC)"
   ]
  },
  {
   "cell_type": "code",
   "execution_count": 3,
   "id": "6d881cbb",
   "metadata": {},
   "outputs": [
    {
     "name": "stdout",
     "output_type": "stream",
     "text": [
      "Wilk-Shapiro test stats: 0.90518718957901, 0.18502956628799438\n",
      "Wilk-Shapiro test stats: 0.9564668536186218, 0.7324605584144592\n",
      "Wilk-Shapiro test stats: 0.9697774648666382, 0.9084591865539551\n",
      "Levene test stats: 0.021277420918676362, 0.9789607652073091\n"
     ]
    }
   ],
   "source": [
    "df_dc = data[data['Factor']=='DC'][\"Observation\"].to_numpy()\n",
    "df_dcmk = data[data['Factor']=='DC+MK'][\"Observation\"].to_numpy()\n",
    "df_mc = data[data['Factor']=='MC'][\"Observation\"].to_numpy()\n",
    "\n",
    "shap_stat, shap_p = stats.shapiro(df_dc)\n",
    "print(f'Wilk-Shapiro test stats: {shap_stat}, {shap_p}')\n",
    "shap_stat, shap_p = stats.shapiro(df_dcmk)\n",
    "print(f'Wilk-Shapiro test stats: {shap_stat}, {shap_p}')\n",
    "shap_stat, shap_p = stats.shapiro(df_mc)\n",
    "print(f'Wilk-Shapiro test stats: {shap_stat}, {shap_p}')\n",
    "\n",
    "lev_stat, lev_p = stats.levene(df_dc, df_dcmk, df_mc)\n",
    "print(f'Levene test stats: {lev_stat}, {lev_p}')"
   ]
  },
  {
   "cell_type": "markdown",
   "id": "47c035bf",
   "metadata": {},
   "source": [
    "For all our test sets, we cannot reject the null hypothesis (p-value greater than 0.05), therefore we can assume that data is drawn from a normal distribution (according to SciPy reference <https://docs.scipy.org/doc/scipy/reference/generated/scipy.stats.shapiro.html>)  \n",
    "Due to the Levene test, we can also assume that data has the same variance inbetween groups"
   ]
  },
  {
   "cell_type": "code",
   "execution_count": 4,
   "id": "d660b821",
   "metadata": {},
   "outputs": [
    {
     "name": "stdout",
     "output_type": "stream",
     "text": [
      "F-value: 93.57559776071176\n",
      "P-value: 2.5152590041683006e-14\n"
     ]
    }
   ],
   "source": [
    "fval, pval = stats.f_oneway(df_dc, df_dcmk, df_mc)\n",
    "print(f'F-value: {fval}\\nP-value: {pval}');"
   ]
  },
  {
   "cell_type": "markdown",
   "id": "4d35067f",
   "metadata": {},
   "source": [
    "(b) What does the p-value from ANOVA above tells you ?"
   ]
  },
  {
   "cell_type": "markdown",
   "id": "08887101",
   "metadata": {},
   "source": [
    "As the p-value is less than a significance level of common values like 0.05 or 0.01, it can be concluded that there exists a statistically significant difference between the two groups. However, it only means that there is some difference, but at this point it cannot be know which two pairs of groups have a significant difference."
   ]
  },
  {
   "cell_type": "markdown",
   "id": "17d5db31",
   "metadata": {},
   "source": [
    "(c) Fit a linear model without intercept to estimate the individual effects."
   ]
  },
  {
   "cell_type": "markdown",
   "id": "c058a373",
   "metadata": {},
   "source": [
    "For comparisons with the results of the anova table from before, take a look at the values for F-statistics. They are very similiar."
   ]
  },
  {
   "cell_type": "code",
   "execution_count": 5,
   "id": "fc784f58",
   "metadata": {},
   "outputs": [
    {
     "data": {
      "text/html": [
       "<table class=\"simpletable\">\n",
       "<caption>OLS Regression Results</caption>\n",
       "<tr>\n",
       "  <th>Dep. Variable:</th>       <td>Observation</td>   <th>  R-squared:         </th> <td>   0.850</td>\n",
       "</tr>\n",
       "<tr>\n",
       "  <th>Model:</th>                   <td>OLS</td>       <th>  Adj. R-squared:    </th> <td>   0.841</td>\n",
       "</tr>\n",
       "<tr>\n",
       "  <th>Method:</th>             <td>Least Squares</td>  <th>  F-statistic:       </th> <td>   93.58</td>\n",
       "</tr>\n",
       "<tr>\n",
       "  <th>Date:</th>             <td>Sat, 21 May 2022</td> <th>  Prob (F-statistic):</th> <td>2.52e-14</td>\n",
       "</tr>\n",
       "<tr>\n",
       "  <th>Time:</th>                 <td>21:47:30</td>     <th>  Log-Likelihood:    </th> <td> -91.726</td>\n",
       "</tr>\n",
       "<tr>\n",
       "  <th>No. Observations:</th>      <td>    36</td>      <th>  AIC:               </th> <td>   189.5</td>\n",
       "</tr>\n",
       "<tr>\n",
       "  <th>Df Residuals:</th>          <td>    33</td>      <th>  BIC:               </th> <td>   194.2</td>\n",
       "</tr>\n",
       "<tr>\n",
       "  <th>Df Model:</th>              <td>     2</td>      <th>                     </th>     <td> </td>   \n",
       "</tr>\n",
       "<tr>\n",
       "  <th>Covariance Type:</th>      <td>nonrobust</td>    <th>                     </th>     <td> </td>   \n",
       "</tr>\n",
       "</table>\n",
       "<table class=\"simpletable\">\n",
       "<tr>\n",
       "    <td></td>       <th>coef</th>     <th>std err</th>      <th>t</th>      <th>P>|t|</th>  <th>[0.025</th>    <th>0.975]</th>  \n",
       "</tr>\n",
       "<tr>\n",
       "  <th>DC</th>    <td>  116.0583</td> <td>    0.932</td> <td>  124.466</td> <td> 0.000</td> <td>  114.161</td> <td>  117.955</td>\n",
       "</tr>\n",
       "<tr>\n",
       "  <th>DC+MK</th> <td>  100.7000</td> <td>    0.932</td> <td>  107.995</td> <td> 0.000</td> <td>   98.803</td> <td>  102.597</td>\n",
       "</tr>\n",
       "<tr>\n",
       "  <th>MC</th>    <td>  100.1833</td> <td>    0.932</td> <td>  107.441</td> <td> 0.000</td> <td>   98.286</td> <td>  102.080</td>\n",
       "</tr>\n",
       "</table>\n",
       "<table class=\"simpletable\">\n",
       "<tr>\n",
       "  <th>Omnibus:</th>       <td> 2.959</td> <th>  Durbin-Watson:     </th> <td>   1.340</td>\n",
       "</tr>\n",
       "<tr>\n",
       "  <th>Prob(Omnibus):</th> <td> 0.228</td> <th>  Jarque-Bera (JB):  </th> <td>   1.725</td>\n",
       "</tr>\n",
       "<tr>\n",
       "  <th>Skew:</th>          <td>-0.412</td> <th>  Prob(JB):          </th> <td>   0.422</td>\n",
       "</tr>\n",
       "<tr>\n",
       "  <th>Kurtosis:</th>      <td> 3.686</td> <th>  Cond. No.          </th> <td>    1.00</td>\n",
       "</tr>\n",
       "</table><br/><br/>Notes:<br/>[1] Standard Errors assume that the covariance matrix of the errors is correctly specified."
      ],
      "text/plain": [
       "<class 'statsmodels.iolib.summary.Summary'>\n",
       "\"\"\"\n",
       "                            OLS Regression Results                            \n",
       "==============================================================================\n",
       "Dep. Variable:            Observation   R-squared:                       0.850\n",
       "Model:                            OLS   Adj. R-squared:                  0.841\n",
       "Method:                 Least Squares   F-statistic:                     93.58\n",
       "Date:                Sat, 21 May 2022   Prob (F-statistic):           2.52e-14\n",
       "Time:                        21:47:30   Log-Likelihood:                -91.726\n",
       "No. Observations:                  36   AIC:                             189.5\n",
       "Df Residuals:                      33   BIC:                             194.2\n",
       "Df Model:                           2                                         \n",
       "Covariance Type:            nonrobust                                         \n",
       "==============================================================================\n",
       "                 coef    std err          t      P>|t|      [0.025      0.975]\n",
       "------------------------------------------------------------------------------\n",
       "DC           116.0583      0.932    124.466      0.000     114.161     117.955\n",
       "DC+MK        100.7000      0.932    107.995      0.000      98.803     102.597\n",
       "MC           100.1833      0.932    107.441      0.000      98.286     102.080\n",
       "==============================================================================\n",
       "Omnibus:                        2.959   Durbin-Watson:                   1.340\n",
       "Prob(Omnibus):                  0.228   Jarque-Bera (JB):                1.725\n",
       "Skew:                          -0.412   Prob(JB):                        0.422\n",
       "Kurtosis:                       3.686   Cond. No.                         1.00\n",
       "==============================================================================\n",
       "\n",
       "Notes:\n",
       "[1] Standard Errors assume that the covariance matrix of the errors is correctly specified.\n",
       "\"\"\""
      ]
     },
     "metadata": {},
     "output_type": "display_data"
    }
   ],
   "source": [
    "X_val = pd.get_dummies(data['Factor'])\n",
    "Y_val = data['Observation']\n",
    "\n",
    "model = sm.OLS(Y_val,X_val).fit() # does not do an intercept term automatically -> perfectc\n",
    "    \n",
    "display(model.summary())"
   ]
  },
  {
   "cell_type": "markdown",
   "id": "b42dbea9",
   "metadata": {},
   "source": [
    "(d) From the result above, what is your conclusion ?"
   ]
  },
  {
   "cell_type": "markdown",
   "id": "26449c73",
   "metadata": {},
   "source": [
    "The resulting values are the same for both the ANOVA and the linear regression model. However, with the linear regression, the shared group variable, which was a categorical value, had to be encoded first (using one-hot encoding) to be able to fit a linear regression model to it."
   ]
  }
 ],
 "metadata": {
  "kernelspec": {
   "display_name": "Python 3 (ipykernel)",
   "language": "python",
   "name": "python3"
  },
  "language_info": {
   "codemirror_mode": {
    "name": "ipython",
    "version": 3
   },
   "file_extension": ".py",
   "mimetype": "text/x-python",
   "name": "python",
   "nbconvert_exporter": "python",
   "pygments_lexer": "ipython3",
   "version": "3.8.5"
  }
 },
 "nbformat": 4,
 "nbformat_minor": 5
}
