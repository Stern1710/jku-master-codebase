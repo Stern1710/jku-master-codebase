{
 "cells": [
  {
   "cell_type": "markdown",
   "metadata": {
    "deletable": false,
    "editable": false,
    "nbgrader": {
     "cell_type": "markdown",
     "checksum": "8b6304cebda102721aedbd1a02c07f39",
     "grade": false,
     "grade_id": "cell-4e2239f339cf593f",
     "locked": true,
     "schema_version": 3,
     "solution": false,
     "task": false
    }
   },
   "source": [
    "# Gibbs Sampling II & Parameter Learning\n",
    "## Problem Set 3 - Probabilistic Models UE\n",
    "\n",
    "---\n",
    "In the third assignment, you will familiarise yourself with Gibbs sampling, estimate the (conditional) probability tables (i.e., parameters) of a given network structure from data, and compare the performance of different models in terms of log-likelihood.\n",
    "\n",
    "**Questions?** Post them into the Problem Set Forum!\n",
    "\n",
    "## Submission\n",
    "\n",
    "**Due-Date:** see Moodle\n",
    " \n",
    "**Automatic Grading:** \n",
    "- **Store your results into the corresponding result variables or implement the provided function stubs**; otherwise, we will not grade your solution (i.e., we assign 0 points).\n",
    "- **Do not create new cells or delete existing ones.** Instead, replace 'YOUR ANSWER HERE' or '# YOUR CODE HERE' with your solution.\n",
    "\n",
    "<div class=\"alert alert-warning\">\n",
    "    \n",
    "**Submission:** As a ZIP-package via Moodle; the ZIP-package **must have the following structure**:\n",
    "    \n",
    "    + <student ID, (k + 8 digits), e.g. k01234567>.zip\n",
    "    |\n",
    "    +-- ps<problem set #>\n",
    "    |   +-- Instructions.ipynb\n",
    "    |   |-- Problem 1.ipynb\n",
    "    |   |-- ...\n",
    "    |   |-- Problem <# of problems>.ipynb\n",
    "    |   |-- <supplementary materials>\n",
    "    |   +-- ...\n",
    "    + \n",
    "    \n",
    "</div>\n",
    "\n",
    "\n",
    "\n",
    "## How to use Custom Classes\n",
    "        \n",
    "For an intoduction of how to use the Custom Classes (*BayesNet* and *Variable*) please refer to the *BayesNet Introduction.ipynb* provided with problem set 2."
   ]
  },
  {
   "cell_type": "code",
   "execution_count": null,
   "metadata": {},
   "outputs": [],
   "source": []
  }
 ],
 "metadata": {
  "kernelspec": {
   "display_name": "Python 3 (ipykernel)",
   "language": "python",
   "name": "python3"
  },
  "language_info": {
   "codemirror_mode": {
    "name": "ipython",
    "version": 3
   },
   "file_extension": ".py",
   "mimetype": "text/x-python",
   "name": "python",
   "nbconvert_exporter": "python",
   "pygments_lexer": "ipython3",
   "version": "3.8.5"
  }
 },
 "nbformat": 4,
 "nbformat_minor": 2
}
