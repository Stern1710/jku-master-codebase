{
 "cells": [
  {
   "cell_type": "markdown",
   "metadata": {
    "deletable": false,
    "editable": false,
    "nbgrader": {
     "cell_type": "markdown",
     "checksum": "1b6f8dec5f888a8be4b54a68b1f1dcc8",
     "grade": false,
     "grade_id": "cell-e70df08d01d96457",
     "locked": true,
     "schema_version": 3,
     "solution": false,
     "task": false
    }
   },
   "source": [
    "<div class=\"alert alert-danger\">\n",
    "\n",
    "**Read the `Instructions` notebook** before you start working on this problem set! It contains instructions on how to create the submission package. If you need more details on the *BayesNet* class, have a look at the **`BayesNet Introduction` notebook** of Problem Set 2.\n",
    "    \n",
    "</div>\n",
    "\n",
    "**General Remarks**:\n",
    "- Do not delete or add cells.\n",
    "- Store your results into the corresponding result variables or implement the provided function stubs.\n",
    "- Replace the placeholders `# YOUR CODE HERE` `raise NotImplementedError()` / `YOUR ANSWER HERE` with your code / answers."
   ]
  },
  {
   "cell_type": "code",
   "execution_count": 1,
   "metadata": {
    "deletable": false,
    "editable": false,
    "nbgrader": {
     "cell_type": "code",
     "checksum": "0ffdb374537744995e24d5d7ead5b7aa",
     "grade": false,
     "grade_id": "cell-93a25d73c760b3dc",
     "locked": true,
     "schema_version": 3,
     "solution": false,
     "task": false
    }
   },
   "outputs": [],
   "source": [
    "import numpy as np\n",
    "import matplotlib.pyplot as plt\n",
    "\n",
    "from bayesian_network import BayesNet, Variable\n",
    "from utils import sample_categorical, sample_lw, get_default_bayes_net"
   ]
  },
  {
   "cell_type": "markdown",
   "metadata": {
    "deletable": false,
    "editable": false,
    "nbgrader": {
     "cell_type": "markdown",
     "checksum": "517da68f7d065efd00aa31fac674edce",
     "grade": false,
     "grade_id": "cell-22454d3cc82de6a4",
     "locked": true,
     "schema_version": 3,
     "solution": false,
     "task": false
    }
   },
   "source": [
    "# Gibbs Sampling\n",
    "\n",
    "\n",
    "In Gibbs sampling we sample directly from $P( \\mathbf{X} \\mid \\mathbf{E}=\\mathbf{e})$. We do this by implicitly constructing a sequence of proposal distributions that converge to the target distribution.\n",
    "\n",
    "To make your solutions comparable to ours, we ask you to implement three functions, namely:\n",
    "\n",
    "- `resampling_distribution`,\n",
    "- `sample_gibbs`, and\n",
    "- `gibbs_sampling`.\n",
    "\n",
    "`resampling_distribution` computes the re-sampling distribution for a given variable.\n",
    "\n",
    "`sample_gibbs` samples a sequence of random events according to all the relevant re-sampling distributions. \n",
    "\n",
    "`gibbs_sampling` approximates $P( X \\mid \\mathbf{E}=\\mathbf{e})$ from a sequence of random events. Again, we will only consider probabilistic queries with one query variable $X$.\n",
    "\n",
    "### Pre-computing the Re-sampling Distribution\n",
    "\n",
    "\n",
    "Before we implement the Gibbs sampling algorithm, let us fist write a helper function, which pre-computes the re-sampling distribtuion $P(X \\mid mb(X))$ for an arbitrary variable $X$ in a given Bayesian Network.\n",
    "\n",
    "Reconsider the Bayesian network from Problem Set 2:\n",
    "\n",
    "<img width='30%' src='img/bn.svg'>\n",
    "\n",
    "To pre-compute $P(B \\mid mb(B)) = P(B \\mid A, C, D)$, we need the conditional distributions of $B$ and all of $B$'s children, i.e., $P(B \\mid A)$ and $P(D \\mid A, C)$\n",
    "\n",
    "\n",
    "<img width='30%' src='img/mb.png'>\n",
    "\n",
    "\n",
    "The re-sampling distibution of $B$ can then be computed from these components as follows: $$P(B \\mid A, C, D) = \\frac{ P(D \\mid B, C) \\cdot P(B \\mid A)}{P(D \\mid A, C)} = \\frac{ P(B, D \\mid A, C)}{P(D \\mid A, C)} = \\frac{ P(B, D \\mid A, C)}{\\sum_{b \\in val(B)} P(B=b, D \\mid A, C)}$$\n",
    "\n",
    "As an example, let's compute the re-sampling distribution for $B$ with NumPy. First, let us create the Bayesian network:"
   ]
  },
  {
   "cell_type": "code",
   "execution_count": 2,
   "metadata": {
    "deletable": false,
    "editable": false,
    "nbgrader": {
     "cell_type": "code",
     "checksum": "78b0e85595a97484f14c9b151fd34605",
     "grade": false,
     "grade_id": "cell-58b823716104508c",
     "locked": true,
     "schema_version": 3,
     "solution": false,
     "task": false
    }
   },
   "outputs": [],
   "source": [
    "# initialize the Bayes net\n",
    "_A_, _B_, _C_, _D_, _E_ = 0, 1, 2, 3, 4\n",
    "\n",
    "# see tables in BayesNet Introduction Notebook of Problem Set 2\n",
    "A = np.array([0.2, 0.8])\n",
    "B_A = np.array([[0.9, 0.2], [0.1, 0.8]])\n",
    "C = np.array([0.9, 0.1])\n",
    "D_BC = np.array([[[0.1, 0.2], [0.99, 0.8]], [[0.9, 0.8], [0.01, 0.2]]])\n",
    "E_C = np.array([[0.7, 0.4], [0.3, 0.6]])\n",
    "            \n",
    "bayes_net = BayesNet(\n",
    "    (A, [_A_]),\n",
    "    (B_A, [_B_, _A_]),\n",
    "    (C, [_C_]),\n",
    "    (D_BC, [_D_, _B_, _C_]),\n",
    "    (E_C, [_E_, _C_])\n",
    ")"
   ]
  },
  {
   "cell_type": "markdown",
   "metadata": {
    "deletable": false,
    "editable": false,
    "nbgrader": {
     "cell_type": "markdown",
     "checksum": "8f9e40fd5bba4161014f61f00e3a3610",
     "grade": false,
     "grade_id": "cell-8712f6a224f45f16",
     "locked": true,
     "schema_version": 3,
     "solution": false,
     "task": false
    }
   },
   "source": [
    "We can use the (conditional) probability distribution tables of each variable (`variable.pdt`) to compute the re-sampling distribution. Note that the axes of `variable.pdt` are in correspondence with the `variable.id`s of all variables, and singleton dimensions are inserted for non-parent variables. This will make computations easier because the axes of all tables align, and thus we don't have to swap dimensions or insert empty dimensions for broadcasting:"
   ]
  },
  {
   "cell_type": "code",
   "execution_count": 3,
   "metadata": {
    "deletable": false,
    "editable": false,
    "nbgrader": {
     "cell_type": "code",
     "checksum": "a0648d50b6a0db5c2ec9d3d517d29295",
     "grade": false,
     "grade_id": "cell-1897c98f4ee3961e",
     "locked": true,
     "schema_version": 3,
     "solution": false,
     "task": false
    }
   },
   "outputs": [
    {
     "name": "stdout",
     "output_type": "stream",
     "text": [
      "Shape of P(A):     (2, 1, 1, 1, 1)\n",
      "Shape of P(B | A): (2, 2, 1, 1, 1)\n"
     ]
    }
   ],
   "source": [
    "print('Shape of P(A):    ', bayes_net[_A_].pdt.shape)\n",
    "print('Shape of P(B | A):', bayes_net[_B_].pdt.shape)"
   ]
  },
  {
   "cell_type": "markdown",
   "metadata": {
    "deletable": false,
    "editable": false,
    "nbgrader": {
     "cell_type": "markdown",
     "checksum": "11e8bc06e57228d319df70c4a4520868",
     "grade": false,
     "grade_id": "cell-c024eb3ad8adb810",
     "locked": true,
     "schema_version": 3,
     "solution": false,
     "task": false
    }
   },
   "source": [
    "Computing $P(B \\mid A, C, D) = \\frac{ P(B, D \\mid A, C)}{\\sum_{b \\in val(B)} P(B=b, D \\mid A, C)}$ is easy, we already did similar computations in problem set 1:"
   ]
  },
  {
   "cell_type": "code",
   "execution_count": 4,
   "metadata": {
    "deletable": false,
    "editable": false,
    "nbgrader": {
     "cell_type": "code",
     "checksum": "dc9f633af495670ac7a29ad5b17aea66",
     "grade": false,
     "grade_id": "cell-73e3e9a6e21a2639",
     "locked": true,
     "schema_version": 3,
     "solution": false,
     "task": false
    }
   },
   "outputs": [
    {
     "name": "stdout",
     "output_type": "stream",
     "text": [
      "(2, 2, 2, 2, 1)\n"
     ]
    }
   ],
   "source": [
    "# compute the rdt\n",
    "\n",
    "# P(D | B, C) * P(B | A) == P(B, D | A, C)\n",
    "BD_AC = bayes_net[_D_].pdt * bayes_net[_B_].pdt\n",
    "\n",
    "# P(D | B, C) * P(B | A) / P(D | A, C) == P(B, D | A, C) / P(D | A, C)\n",
    "B_ACD = BD_AC / BD_AC.sum(axis=_B_, keepdims=True) # don't discard summed-out dimension\n",
    "\n",
    "print(B_ACD.shape)"
   ]
  },
  {
   "cell_type": "markdown",
   "metadata": {
    "deletable": false,
    "editable": false,
    "nbgrader": {
     "cell_type": "markdown",
     "checksum": "7b2e3a2b7245dc9cecafd0531822af9f",
     "grade": false,
     "grade_id": "cell-5074a9f409bd1ba1",
     "locked": true,
     "schema_version": 3,
     "solution": false,
     "task": false
    }
   },
   "source": [
    "The dimensions of the re-sampling distribution table are sorted by variable id, and singleton dimensions of size 1 are inserted for non-Markov-blanket variables. This is also the expected output format of the *resampling_distribution* function."
   ]
  },
  {
   "cell_type": "markdown",
   "metadata": {
    "deletable": false,
    "editable": false,
    "nbgrader": {
     "cell_type": "markdown",
     "checksum": "59dd96c3b3a6ae17f5d7f34a8e10fd47",
     "grade": false,
     "grade_id": "cell-ce7079af7a88edfa",
     "locked": true,
     "schema_version": 3,
     "solution": false,
     "task": false
    }
   },
   "source": [
    "## Pre-computing All the Re-sampling Distributions\n",
    "\n",
    "The `BayesNet` class has an optional constructor argument named `resampling_distribution` that we did not use so far: It can take a function that computes the resampling distribution for a given variable. If this is provided, the `BayesNet` will use it to precompute resampling distribution tables for all its variables upon construction. These will come useful when we implement Gibbs sampling."
   ]
  },
  {
   "cell_type": "markdown",
   "metadata": {
    "deletable": false,
    "editable": false,
    "nbgrader": {
     "cell_type": "markdown",
     "checksum": "75dfb806c2a81341033e6fb7fa7a910f",
     "grade": false,
     "grade_id": "cell-d986051209025f5f",
     "locked": true,
     "schema_version": 3,
     "solution": false,
     "task": false
    }
   },
   "source": [
    "<div class=\"alert alert-warning\">\n",
    "    Implement the <i>resampling_distribution</i> function, which computes the re-sampling distribution for a given variable. (4 points)\n",
    "</div>\n",
    "\n",
    "`resampling_distribution` takes two parameters:\n",
    "- `variable` is a `Variable` object for which the re-sampling distribution is to be computed.\n",
    "- `bayes_net` is a `BayesNet` object which holds the (conditional) probability distribution table of each variable.\n",
    "\n",
    "`resampling_distribution` returns a tuple containing two objects:\n",
    "- a `np.ndarray` containing the re-sampling distribution $P(X \\mid \\textit{mb}(X))$ of the variable. The dimensions of the re-sampling distribution table must be sorted by variable id, and singleton dimensions of size 1 must be inserted for non-Markov-blanket variables (see example above).\n",
    "- a `set` containing the IDs of all variables in $\\textit{mb}(X)$. \n",
    "\n",
    "**Hints**:\n",
    " - `bayes_net[i]` returns the variable object with id `i`\n",
    " - `variable.parents` and `variable.children` will give you a `set` consisting of the ids of all parent and child variables, respectively.\n",
    " - `variable.pdt` gives the conitional probabilty table of variable given its parents. The axis of this table are sorted by variable id, and singleton dimensions of size 1 are inserted for parent variables.\n",
    " - use `mb.add` or `mb.union` to add new vaiables to the `set`\n",
    " - use `mb.remove` or `mb.difference` to remove variables from the `set`\n",
    " - Remember to set `keepdims=True` when using `np.sum` to avoid broadcasting issues later on."
   ]
  },
  {
   "cell_type": "code",
   "execution_count": 5,
   "metadata": {
    "deletable": false,
    "nbgrader": {
     "cell_type": "code",
     "checksum": "28006a54e815025c5a2b4004ec8abf1e",
     "grade": false,
     "grade_id": "cell-464a86a09df9563f",
     "locked": false,
     "schema_version": 3,
     "solution": true,
     "task": false
    }
   },
   "outputs": [],
   "source": [
    "def resampling_distribution(variable: Variable, bayes_net: BayesNet):\n",
    "    '''\n",
    "    Computes the resampling distribution given a variable and a Bayesian network.\n",
    "    :param variable: The variable for which to compute the resampling distribution.\n",
    "    :param bayes_net: A Bayesian network of type BayesNet. The Bayes net is used to obtain \n",
    "                      probability table from child variables.\n",
    "    :returns: A tuple containing the resampling distribution and a set containing\n",
    "              the IDs of variables in the Markov blanket.\n",
    "    '''\n",
    "    \n",
    "    rdt, mb = None, None\n",
    "    \n",
    "    # YOUR CODE HERE  \n",
    "    # Init markov blanket\n",
    "    mb = set()\n",
    "    \n",
    "    for var in variable.parents:\n",
    "        mb.add(var)\n",
    "    for var in variable.children:\n",
    "        mb.add(var)\n",
    "        for var_par in bayes_net[var].parents:\n",
    "            mb.add(var_par)\n",
    "\n",
    "    mb.discard(variable.id)\n",
    "    \n",
    "    # Finished markov blanket, move on to resampling distribution\n",
    "    rdt = variable.pdt\n",
    "    for kid in variable.children:\n",
    "        rdt = rdt * bayes_net[kid].pdt\n",
    "\n",
    "    rdt = rdt / rdt.sum(axis=variable.id, keepdims=True)\n",
    "            \n",
    "    assert rdt.ndim == len(bayes_net),'Not enough singleton dimensions for easy broadcasting'\n",
    "    assert variable.id not in mb, 'Variable must not be part of its own Markov blanket'\n",
    "    assert type(mb) is set, 'Markov blanket ids need to be returned as a set'\n",
    "    \n",
    "    return rdt, mb"
   ]
  },
  {
   "cell_type": "code",
   "execution_count": 6,
   "metadata": {
    "deletable": false,
    "editable": false,
    "nbgrader": {
     "cell_type": "code",
     "checksum": "46cbfc3bd0c9a2cc9fe1150749357f1a",
     "grade": true,
     "grade_id": "cell-6d645eda5b831e05",
     "locked": true,
     "points": 4,
     "schema_version": 3,
     "solution": false,
     "task": false
    }
   },
   "outputs": [],
   "source": [
    "# get_default_bayes_net returns the same Bayes net as defined above; just in case the variable was modified...\n",
    "bayes_net = get_default_bayes_net()\n",
    "\n",
    "# compute resampling distribution table of P( B | mb(B) ); same as above \n",
    "rdt = bayes_net[_D_].pdt * bayes_net[_B_].pdt\n",
    "rdt = rdt / rdt.sum(axis=_B_, keepdims=True)\n",
    "# set containing all the indices of the variables in mb(B)\n",
    "mb = {_A_, _D_, _C_}\n",
    "\n",
    "expected = rdt, mb\n",
    "actual = resampling_distribution(bayes_net[_B_], bayes_net)\n",
    "\n",
    "#sanity checks\n",
    "assert type(actual[1]) == type(expected[1]), f'Set of parents has wrong data type.\\n Expected: {type(expected[1])}\\nGiven: {type(actual[1])}'\n",
    "assert actual[1] == expected[1], f'The variables in the Markov blanket are not correct.\\n Expected: {expected[1]}\\nGiven: {actual[1]}'\n",
    "\n",
    "assert expected[0].shape == actual[0].shape, f'\\nResampling distribution has the wrong shape!\\nExpected: {expected[0].shape}\\nGiven:\\t  {actual[0].shape}'\n",
    "assert expected[0].dtype == actual[0].dtype, f'\\nWrong numpy array data type!\\nExpected: {expected[0].dtype}\\nGiven:\\t  {actual[0].dtype}'\n",
    "assert np.allclose(expected[0], actual[0]), f'Computation of resampling distribution did not yield the correct result.'"
   ]
  },
  {
   "cell_type": "markdown",
   "metadata": {
    "deletable": false,
    "editable": false,
    "nbgrader": {
     "cell_type": "markdown",
     "checksum": "2b3b69ab0751de49641b976f4544be08",
     "grade": false,
     "grade_id": "cell-19c55071121f95ac",
     "locked": true,
     "schema_version": 3,
     "solution": false,
     "task": false
    }
   },
   "source": [
    "### Gibbs Sampling\n",
    "\n",
    "<div class=\"alert alert-warning\">\n",
    "Implement the <i>sample_gibbs</i> function, which samples directly from $P( \\mathbf{X} \\mid \\mathbf{E}=\\mathbf{e})$. (4 points)\n",
    "</div>\n",
    "\n",
    "`sample_gibbs` takes five parameters:\n",
    "- `bayes_net` is a `BayesNet` object to draw samples from (it uses your `resampling_distribution()` from above).\n",
    "- `sample_size` is the number of samples to use for the estimation.\n",
    "- `evidence` is a dictionary of variable_ids (keys) and values (values) assigned to the variable. (optional, default = {})\n",
    "- `burn_in_samples` gives the number of burn-in steps to take (>= 0). (optional, default = 0)\n",
    "- `sample_distance` gives the number of steps to take to get the next sample (> 0). (optional, default = 1)\n",
    "\n",
    "`sample_gibbs` function must return one object:\n",
    "- samples from $P( \\mathbf{X} \\mid \\mathbf{E}=\\mathbf{e})$ of type `np.ndarray`, with shape `(sample_size, len(bayes_net))`\n",
    "\n",
    "\n",
    "Initialize the Markov chain with a random event drawn from $\\mathcal{B}_{\\mathbf{E}=\\mathbf{e}}$ (the mutilated network). The first element in the sample is the random event obtained after performing total of `burn_in_samples` steps. Thereafter, perform `sample_distance` steps to obtain each one of the next `sample_size` samples. Hence, `burn_in_samples + (sample_size - 1) * sample_distance` steps will be performed in total.\n",
    "\n",
    "To make your implementation comparable to ours, sample the new values for the non-evidence variables in the topological order provided by the BayesNet class, i.e., `for variable in bayes_net: ...`.\n",
    "\n",
    "\n",
    "**Hints**:\n",
    "- `sample_lw(bayes_net, 1, evidence=evidence)[0]` draws an initial sample from $\\mathcal{B}_{\\mathbf{E}=\\mathbf{e}}$\n",
    "  - we implemented and imported `sample_lw` for you; no need to copy-paste it from the previous problem set!\n",
    "- the pre-computation of the re-sampling distributions is handled by the BayesNet (we pass your `resampling_distribution` function to the BayesNet object at instantiation time)\n",
    "- to obtain the 1-D distribution $P(X \\mid \\mathit{mb}(X))$, simply call `variable(sample, resampling=True)`; this uses the precomputed resampling distribution instead of `variable.pdt`, and is only available because we passed `resampling_distribution` to the BayesNet constructor\n",
    "- we will again need a function that samples from a discrete 1-D probability distribution; for this purpose, use the `sample_categorical()` function explained in the BayesNet Introduction notebook, which takes a 1-D NumPy array representing a probability distribution and draws a sample from it\n",
    "- it may help to define a function that performs $n$ Gibbs steps on a sample, and reuse it &mdash; you can even define a local function in the middle of `sample_gibbs()`! mind that Python arguments are passed by reference, use `.copy()` on an `ndarray` if needed.\n"
   ]
  },
  {
   "cell_type": "code",
   "execution_count": 7,
   "metadata": {
    "deletable": false,
    "nbgrader": {
     "cell_type": "code",
     "checksum": "f205b2bb4981297214cff9af0fef82fd",
     "grade": false,
     "grade_id": "cell-5bffad00b80764bf",
     "locked": false,
     "schema_version": 3,
     "solution": true,
     "task": false
    }
   },
   "outputs": [],
   "source": [
    "def sample_gibbs(bayes_net: BayesNet, sample_size: int, evidence: dict={}, burn_in_samples: int=0, sample_distance: int=1):\n",
    "    '''\n",
    "    Returns sample_size samples from the P( X | E=e ).\n",
    "    :param bayes_net: A Bayesian network of type BayesNet.\n",
    "    :param sample_size: The number of samples to use for the estimation.\n",
    "    :param evidence: A dictionary of evidence variables (keys, int) and their correponding values (values, int).\n",
    "    :param burn_in_samples: The number of burn-in samples to throw away (>= 0).\n",
    "    :param sample_distance: Use only every n-th sample. (> 0)\n",
    "    :returns: A NumPy array of type np.int64 with shape (sample_size, len(bayes_net)).\n",
    "    '''\n",
    "    \n",
    "    assert burn_in_samples >= 0\n",
    "    assert sample_distance > 0\n",
    "    \n",
    "    samples = np.empty((sample_size, len(bayes_net)), np.int64)\n",
    "    \n",
    "    # the initial sample to start the Markov chain with\n",
    "    sample = sample_lw(bayes_net, 1, evidence=evidence)[0].squeeze()\n",
    "\n",
    "    # YOUR CODE HERE  \n",
    "    def perform_steps(n_steps: int, local_sample):\n",
    "        for i in range(0, n_steps):\n",
    "            for var in bayes_net:\n",
    "                if var.id not in evidence:\n",
    "                    dist = var(local_sample, resampling=True)\n",
    "                    local_sample[var.id] = sample_categorical(dist)\n",
    "                \n",
    "        return local_sample\n",
    "            \n",
    "    # First, run over burn_in_sample size and collect first sample\n",
    "    samples[0] = perform_steps(burn_in_samples, sample)\n",
    "    \n",
    "    # Collect samples with given sample distance\n",
    "    for j in range(1, sample_size):\n",
    "        samples[j] = perform_steps(sample_distance, samples[j-1].copy())\n",
    "            \n",
    "    return samples"
   ]
  },
  {
   "cell_type": "code",
   "execution_count": 8,
   "metadata": {
    "deletable": false,
    "editable": false,
    "nbgrader": {
     "cell_type": "code",
     "checksum": "4d229b82fb3bd6605006d03a365447ba",
     "grade": true,
     "grade_id": "cell-4c54221d4bd46592",
     "locked": true,
     "points": 4,
     "schema_version": 3,
     "solution": false,
     "task": false
    },
    "scrolled": true
   },
   "outputs": [],
   "source": [
    "# get_default_bayes_net returns the same Bayes net as defined above; just in case the variable was modified...\n",
    "# this time we also pass the function to pre-compute the resampling distributions\n",
    "bayes_net = get_default_bayes_net(resampling_distribution=resampling_distribution)\n",
    "\n",
    "np.random.seed(0)\n",
    "expected = np.array([[0, 0, 0, 1, 0], [0, 0, 0, 0, 0], [0, 0, 1, 0, 0],\n",
    "                     [0, 0, 0, 0, 0], [0, 0, 0, 1, 0], [0, 0, 0, 1, 1]], dtype=np.int64)\n",
    "actual = sample_gibbs(bayes_net, 6, {0:0}, 7, 3)\n",
    "\n",
    "# sanity checks\n",
    "assert type(actual) == type(expected), f'\\nWrong output type!\\nExpected: {type(expected)}\\nGiven:\\t  {type(actual)}'\n",
    "assert actual.shape == expected.shape, f'\\nWrong output shape!\\nExpected: {expected.shape}\\nGiven:\\t  {actual.shape}'\n",
    "assert actual.dtype == expected.dtype, f'\\nWrong numpy array data type!\\nExpected: {expected.dtype}\\nGiven:\\t  {actual.dtype}'\n",
    "assert np.allclose(actual, expected), f'samples and reference samples do not match.\\nExpected:\\n{expected}\\n\\nGiven:\\n{actual}\\n\\nIf your last two samples are the same, this may hint at a bug.'"
   ]
  },
  {
   "cell_type": "markdown",
   "metadata": {
    "deletable": false,
    "editable": false,
    "nbgrader": {
     "cell_type": "markdown",
     "checksum": "917cf18f528f2d085c68e9994f84d916",
     "grade": false,
     "grade_id": "cell-f980ef62e03bc242",
     "locked": true,
     "schema_version": 3,
     "solution": false,
     "task": false
    }
   },
   "source": [
    "<div class=\"alert alert-warning\">\n",
    "Implement the <i>gibbs_sampling</i> function to estimate the probability distribution over the query variable $X$ given the evidence $\\mathbf{E}=\\mathbf{e}$, $P(X \\mid \\mathbf{E}=\\mathbf{e})$. (2 points)\n",
    "</div>\n",
    "\n",
    "`gibbs_sampling` takes six parameters:\n",
    "- `bayes_net` is a `BayesNet` object to draw samples from.\n",
    "- `query_variable_id` is the id of the query variable (int).\n",
    "- `evidence` is a dictionary of variable_ids (keys) and values (values) assigned to the variable. (optional, default = {})\n",
    "- `sample_size` gives the number of samples to use for the estimation (optional, default = 100).\n",
    "- `burn_in_samples` gives the number of burn-in samples to throw away (>= 0). (optional, default = 0)\n",
    "- `sample_distance` gives the number of steps to take to get the next sample (> 0). (optional, default = 1)\n",
    "\n",
    "`gibbs_sampling` function must return one object:\n",
    "-  The 1-D probability distribution over variable $X$ of type `np.ndarray` with shape `(bayes_net[query_variable_id].num_values,)`.\n",
    "\n",
    "\n",
    "**Hints**:\n",
    "- use `np.bincount` to count the number of occurrences of each value; don't forget to set minlength\n",
    "- the number of values a variable can take can be obtained via `variable.num_values`\n",
    "- for simplicity, we will only consider probabilistic queries with one query variable $X$"
   ]
  },
  {
   "cell_type": "code",
   "execution_count": 9,
   "metadata": {
    "deletable": false,
    "nbgrader": {
     "cell_type": "code",
     "checksum": "3162d5e7fa6e95f9f47f535604257f1a",
     "grade": false,
     "grade_id": "cell-01863042be3b4d68",
     "locked": false,
     "schema_version": 3,
     "solution": true,
     "task": false
    }
   },
   "outputs": [],
   "source": [
    "def gibbs_sampling(bayes_net: BayesNet, query_variable_id: int, evidence: dict={}, sample_size: int=100, burn_in_samples: int=0, sample_distance: int=1):\n",
    "    '''\n",
    "    Estimates the distribution of the query variale given the value of the evidence variables.\n",
    "    :param bayes_net: A Bayesian network of type BayesNet.\n",
    "    :param query_variable_id: The id of the query variable (int).\n",
    "    :param evidence: A dictionary of evidence variables (keys, int) and their correponding values (values, int).\n",
    "    :param sample_size: The number of samples to use for the estimation.\n",
    "    :burn_in_samples: The number of burn-in samples to throw away (>= 0).\n",
    "    :param sample_distance: Use only every n-th sample. (> 0)\n",
    "    :returns: A NumPy array of type np.float64 representing the conditional distribution of the query variable given evidence. \n",
    "    '''\n",
    "    \n",
    "    # draw samples...\n",
    "    samples = sample_gibbs(\n",
    "        bayes_net, \n",
    "        sample_size, \n",
    "        evidence=evidence, \n",
    "        burn_in_samples=burn_in_samples, \n",
    "        sample_distance=sample_distance\n",
    "    )\n",
    "    \n",
    "    # YOUR CODE HERE\n",
    "    distribution = np.bincount(samples[:,query_variable_id], minlength=bayes_net[query_variable_id].num_values)\n",
    "    \n",
    "    return distribution / sample_size"
   ]
  },
  {
   "cell_type": "code",
   "execution_count": 10,
   "metadata": {
    "deletable": false,
    "editable": false,
    "nbgrader": {
     "cell_type": "code",
     "checksum": "511bdf982a02b603f7e15b6e2dfd2248",
     "grade": true,
     "grade_id": "cell-4b6cfd6dfcb9aeaa",
     "locked": true,
     "points": 2,
     "schema_version": 3,
     "solution": false,
     "task": false
    }
   },
   "outputs": [],
   "source": [
    "# get_default_bayes_net returns the same Bayes net as defined above; just in case the variable was modified...\n",
    "# again, we also pass the function to pre-compute the resampling distributions\n",
    "bayes_net = get_default_bayes_net(resampling_distribution=resampling_distribution)\n",
    "\n",
    "np.random.seed(0)\n",
    "expected = np.array([0.25, 0.75], dtype=np.float64)\n",
    "actual = gibbs_sampling(bayes_net, 0, {2:1}, 100, 5, 3)\n",
    "\n",
    "# sanity checks\n",
    "assert type(actual) == type(expected), f'\\nWrong output type!\\nExpected: {type(expected)}\\nGiven:\\t  {type(actual)}'\n",
    "assert actual.shape == expected.shape, f'\\nWrong output shape!\\nExpected: {expected.shape}\\nGiven:\\t  {actual.shape}'\n",
    "assert actual.dtype == expected.dtype , f'\\nWrong numpy array data type!\\nExpected: {expected.dtype}\\nGiven:\\t  {actual.dtype}'\n",
    "assert np.allclose(actual, expected), f'\\nWrong output value. Expected: {expected}\\nGiven:\\t  {actual}'"
   ]
  },
  {
   "cell_type": "markdown",
   "metadata": {
    "deletable": false,
    "editable": false,
    "nbgrader": {
     "cell_type": "markdown",
     "checksum": "918c953ace81c398652578cf5703d5bd",
     "grade": false,
     "grade_id": "cell-6b71a5c25f4de499",
     "locked": true,
     "schema_version": 3,
     "solution": false,
     "task": false
    }
   },
   "source": [
    "## Example\n",
    "\n",
    "\n",
    "Reconsider the Bayesian Network from the previous problems:\n",
    "\n",
    "<img width='30%' src='img/bn.svg'>\n",
    "\n",
    "The conditional probability tables are given as:\n",
    "\n",
    "<table style=\"float: left;margin:5px;\"><tr><th>P(A)</th><th>$a_0$<br></th><th>$a_1$</th></tr><tr><td>-</td><td>0.2</td><td>0.8</td></tr></table>\n",
    "\n",
    "<table style=\"float: left;margin:5px;\"><tr><th>P(C)</th><th>$c_0$<br></th><th>$c_1$</th></tr><tr><td>-</td><td>0.9</td><td>0.1</td></tr></table>\n",
    "\n",
    "<table style=\"float: left;margin:5px;\"><tr><th>P(B | A)</th><th>$a_0$<br></th><th>$a_1$</th></tr><tr><td>$b_0$</td><td>0.9</td><td>0.2</td></tr><tr><td>$b_1$</td><td>0.1</td><td>0.8</td></tr></table>\n",
    "\n",
    "\n",
    "<table style=\"float: left;margin:5px;\"><tr><th rowspan=\"2\">P(D | B, C)</th><th colspan=\"2\">$b_0$<br></th><th colspan=\"2\">$b_1$</th></tr><tr><td>$c_0$</td><td>$c_1$</td><td>$c_0$</td><td>$c_1$</td></tr><tr><td>$d_0$<br></td><td>0.1</td><td>0.2</td><td>0.99</td><td>0.8</td></tr><tr><td>$d_1$</td><td>0.9</td><td>0.8</td><td>0.01</td><td>0.2</td></tr></table>\n",
    "\n",
    "<table style=\"float: left;margin:5px;\"><tr><th>P(E | C)</th><th>$c_0$</th><th>$c_1$</th></tr><tr><td>$e_0$</td><td>0.7</td><td>0.4</td></tr><tr><td>$e_1$</td><td>0.3</td><td>0.6</td></tr></table>"
   ]
  },
  {
   "cell_type": "code",
   "execution_count": 11,
   "metadata": {
    "deletable": false,
    "editable": false,
    "nbgrader": {
     "cell_type": "code",
     "checksum": "455c7409e034f50d0d865c6f96c48c6a",
     "grade": false,
     "grade_id": "cell-1ff7d8ff45f4c36e",
     "locked": true,
     "schema_version": 3,
     "solution": false,
     "task": false
    }
   },
   "outputs": [],
   "source": [
    "bayes_net = get_default_bayes_net(resampling_distribution=resampling_distribution)"
   ]
  },
  {
   "cell_type": "markdown",
   "metadata": {
    "deletable": false,
    "editable": false,
    "nbgrader": {
     "cell_type": "markdown",
     "checksum": "3a9fb2d1359afc365da53fd8adefd326",
     "grade": false,
     "grade_id": "cell-5dc000e76026780b",
     "locked": true,
     "schema_version": 3,
     "solution": false,
     "task": false
    }
   },
   "source": [
    "### Comparison\n",
    "\n",
    "Run the following code cell to plot the average [Kullback-Leibler divergence](https://en.wikipedia.org/wiki/Kullback%E2%80%93Leibler_divergence) between the exact distribution $P(A \\mid D, E)$ and the approximations computed with Gibbs sampling. Different lines represent different value assignments to the evidence variables $D$ and $E$.\n",
    "\n",
    "**Hint**: The computation of the approximations might take a while."
   ]
  },
  {
   "cell_type": "code",
   "execution_count": 12,
   "metadata": {
    "deletable": false,
    "editable": false,
    "nbgrader": {
     "cell_type": "code",
     "checksum": "9ca77d10d2ec0e511f3816e125802291",
     "grade": false,
     "grade_id": "cell-752ca4bf80183a1d",
     "locked": true,
     "schema_version": 3,
     "solution": false,
     "task": false
    }
   },
   "outputs": [
    {
     "data": {
      "image/png": "[encoded data removed]",
      "text/plain": [
       "<Figure size 720x576 with 1 Axes>"
      ]
     },
     "metadata": {
      "needs_background": "light"
     },
     "output_type": "display_data"
    }
   ],
   "source": [
    "from utils import approx_error\n",
    "\n",
    "_A_, _B_, _C_, _D_, _E_ = 0, 1, 2, 3, 4\n",
    "\n",
    "A = np.array([0.2, 0.8])\n",
    "B_A = np.array([[0.9, 0.2], [0.1, 0.8]])\n",
    "C = np.array([0.9, 0.1])\n",
    "D_BC = np.array([[[0.1, 0.2], [0.99, 0.8]], [[0.9, 0.8], [0.01, 0.2]]])\n",
    "E_C = np.array([[0.7, 0.4], [0.3, 0.6]])\n",
    "\n",
    "ABCDE = A[:, None, None, None, None] * B_A.T[:, :, None, None, None] * C [None, None, :, None, None] * D_BC.transpose(1, 2, 0)[None, :, :, :, None] * E_C.T[None, None, :, None, :]\n",
    "ADE = ABCDE.sum(axis=(1, 2))\n",
    "A_DE = ADE / ADE.sum(axis=0)[None, :, :]\n",
    "\n",
    "np.random.seed(0)\n",
    "errs = {}\n",
    "sample_counts = np.array([10, 20, 40, 320, 1280])\n",
    "\n",
    "# compute approximation error\n",
    "for d, e in zip([0, 0, 1, 1], [0, 1, 0, 1]):\n",
    "    errs[(d, e)] = approx_error(\n",
    "       bayes_net,\n",
    "       gibbs_sampling,  \n",
    "       A_DE[:, d, e],\n",
    "       _A_,\n",
    "       {_D_:d, _E_:e}, \n",
    "       sample_counts,\n",
    "       n_runs=100,\n",
    "       burn_in_samples=0,\n",
    "       sample_distance=1\n",
    "   )\n",
    "\n",
    "# plot\n",
    "plt.figure(figsize=(10, 8))\n",
    "plt.title('Kullback-Leibler Divergence')\n",
    "for d, e in zip([0, 0, 1, 1], [0, 1, 0, 1]):\n",
    "    plt.plot(sample_counts, errs[(d, e)], label=f'e:{e}, d:{d}', lw=2)\n",
    "    \n",
    "plt.legend()\n",
    "plt.xscale('log')\n",
    "plt.yscale('log')\n",
    "plt.xlim(sample_counts.min(), sample_counts.max())\n",
    "plt.xlabel('Number of samples')\n",
    "plt.show()"
   ]
  },
  {
   "cell_type": "markdown",
   "metadata": {
    "deletable": false,
    "editable": false,
    "nbgrader": {
     "cell_type": "markdown",
     "checksum": "3faa7a201ef50fcab5d7306352e3b49a",
     "grade": false,
     "grade_id": "cell-e8cbe8dab5f9ad38",
     "locked": true,
     "schema_version": 3,
     "solution": false,
     "task": false
    }
   },
   "source": [
    "<div class=\"alert alert-warning\">\n",
    "Indicate which of the following statements is true by storing True or False into the provided variables. (0.5 points each)\n",
    "</div>\n",
    "\n",
    "1. In Gibbs sampling, the probability distribution over the next sample $\\mathbf{x}^{(t+1)}$ depends on all previous samples $\\mathbf{x}^{(0)}, \\dots, \\mathbf{x}^{(t)}$.\n",
    "2. The resampling distribution of variable $C$ is correctly described by $\\frac{1}{Z} \\cdot P(C) \\cdot P(C \\mid E) \\cdot P(C \\mid D)$, where $Z$ is the normalization constant $P(D, E)$.\n",
    "3. Subsequent samples from the Markov chain $\\mathbf{x}^{(t)}$, $\\mathbf{x}^{(t+1)}$ are highly correlated. To counter this (i.e., to *un-bias the approximation*), we start with a burn-in phase in which we discard many initial samples, i.e., we discard $\\mathbf{x}^{(0)} \\dots \\mathbf{x}^{(T)}$, where $T \\gg 1$.\n",
    "4. The Metropolis-Hastings algorithm does not require direct access to the resampling distribution."
   ]
  },
  {
   "cell_type": "code",
   "execution_count": 13,
   "metadata": {
    "deletable": false,
    "nbgrader": {
     "cell_type": "code",
     "checksum": "e4cedd943e96c6dda8eeb32cc1ec16b3",
     "grade": false,
     "grade_id": "cell-4a47aa006c9895ea",
     "locked": false,
     "schema_version": 3,
     "solution": true,
     "task": false
    }
   },
   "outputs": [],
   "source": [
    "results = dict()\n",
    "results['1'] = None\n",
    "results['2'] = None\n",
    "results['3'] = None\n",
    "results['4'] = None\n",
    "\n",
    "# remove this placeholder\n",
    "# YOUR CODE HERE\n",
    "results['1'] = False\n",
    "results['2'] = False\n",
    "results['3'] = False\n",
    "results['4'] = True"
   ]
  },
  {
   "cell_type": "code",
   "execution_count": 14,
   "metadata": {
    "deletable": false,
    "editable": false,
    "nbgrader": {
     "cell_type": "code",
     "checksum": "c66a41da1e3da9cd4127b243c112114a",
     "grade": true,
     "grade_id": "cell-dfc2020a1b55731c",
     "locked": true,
     "points": 0.5,
     "schema_version": 3,
     "solution": false,
     "task": false
    }
   },
   "outputs": [],
   "source": [
    "# this is a hidden test; don't remove ..."
   ]
  },
  {
   "cell_type": "code",
   "execution_count": 15,
   "metadata": {
    "deletable": false,
    "editable": false,
    "nbgrader": {
     "cell_type": "code",
     "checksum": "0fa7cc609186132a9e4f2ef815394d8f",
     "grade": true,
     "grade_id": "cell-d63ae6497cb5a4d5",
     "locked": true,
     "points": 0.5,
     "schema_version": 3,
     "solution": false,
     "task": false
    }
   },
   "outputs": [],
   "source": [
    "# this is a hidden test; don't remove ..."
   ]
  },
  {
   "cell_type": "code",
   "execution_count": 16,
   "metadata": {
    "deletable": false,
    "editable": false,
    "nbgrader": {
     "cell_type": "code",
     "checksum": "56385e51d7205fc52cf4f7ad51118acc",
     "grade": true,
     "grade_id": "cell-dfd7870c5b3c722f",
     "locked": true,
     "points": 0.5,
     "schema_version": 3,
     "solution": false,
     "task": false
    }
   },
   "outputs": [],
   "source": [
    "# this is a hidden test; don't remove ..."
   ]
  },
  {
   "cell_type": "code",
   "execution_count": 17,
   "metadata": {
    "deletable": false,
    "editable": false,
    "nbgrader": {
     "cell_type": "code",
     "checksum": "fa89da32ce62c22c94dc3b5df2b7d708",
     "grade": true,
     "grade_id": "cell-22069a58a077ce38",
     "locked": true,
     "points": 0.5,
     "schema_version": 3,
     "solution": false,
     "task": false
    }
   },
   "outputs": [],
   "source": [
    "# this is a hidden test; don't remove ..."
   ]
  }
 ],
 "metadata": {
  "kernelspec": {
   "display_name": "Python 3 (ipykernel)",
   "language": "python",
   "name": "python3"
  },
  "language_info": {
   "codemirror_mode": {
    "name": "ipython",
    "version": 3
   },
   "file_extension": ".py",
   "mimetype": "text/x-python",
   "name": "python",
   "nbconvert_exporter": "python",
   "pygments_lexer": "ipython3",
   "version": "3.8.5"
  }
 },
 "nbformat": 4,
 "nbformat_minor": 4
}
