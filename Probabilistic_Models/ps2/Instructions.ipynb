{
 "cells": [
  {
   "cell_type": "markdown",
   "metadata": {
    "deletable": false,
    "editable": false,
    "nbgrader": {
     "cell_type": "markdown",
     "checksum": "f1ccee1fda41ff9ee1e8d1142b87b8b0",
     "grade": false,
     "grade_id": "cell-4e2239f339cf593f",
     "locked": true,
     "schema_version": 3,
     "solution": false,
     "task": false
    }
   },
   "source": [
    "# Approximate Inference\n",
    "## Problem Set 2 - Probabilistic Models UE (WS 2021)\n",
    "\n",
    "---\n",
    "In many real-world Bayesian networks, exact inference is impossible. However, we can answer arbitrary queries by generating samples from the target distribution and estimating the probabilities via counting. In the second assignment, you will familiarise yourself with two approximate inference methods for Bayesian networks:\n",
    "- Rejection Sampling\n",
    "- Likelihood Weighting\n",
    "\n",
    "A third one, Gibbs Sampling, will be handled in the third assignment.\n",
    "\n",
    "**Questions?** Post them into the Problem Set Forum!\n",
    "\n",
    "## Submission\n",
    "\n",
    "**Due-Date:** see Moodle\n",
    " \n",
    "**Automatic Grading:** \n",
    "- **Store your results into the corresponding result variables or implement the provided function stubs**; otherwise, we will not grade your solution (i.e., we assign 0 points).\n",
    "- **Do not create new cells or delete existing ones.** Instead, replace 'YOUR ANSWER HERE' or '# YOUR CODE HERE' with your solution.\n",
    "\n",
    "<div class=\"alert alert-warning\">\n",
    "    \n",
    "**Submission:** As a ZIP-package via Moodle; the ZIP-package **must have the following structure**:\n",
    "    \n",
    "    <student ID, (k + 8 digits), e.g. k01234567>.zip\n",
    "    +-- ps<problem set #>\n",
    "    |   +-- Problem 1.ipynb\n",
    "    |   |-- \n",
    "    |   |-- ...\n",
    "    |   |-- Problem <# of problems>.ipynb\n",
    "    |   |-- Supplementary Materials (optional)\n",
    "    |   +-- ...\n",
    "    + \n",
    "    \n",
    "</div>\n",
    "\n",
    "\n",
    "\n",
    "## Introduction to Custom Classes\n",
    "        \n",
    "In addition to this problem set, we give a brief overview of how to use the helper classes (*BayesNet* and *Variable*) which you can find in the *BayesNet Introduction.ipynb* notebook. "
   ]
  },
  {
   "cell_type": "code",
   "execution_count": null,
   "metadata": {},
   "outputs": [],
   "source": []
  }
 ],
 "metadata": {
  "kernelspec": {
   "display_name": "Python 3 (ipykernel)",
   "language": "python",
   "name": "python3"
  },
  "language_info": {
   "codemirror_mode": {
    "name": "ipython",
    "version": 3
   },
   "file_extension": ".py",
   "mimetype": "text/x-python",
   "name": "python",
   "nbconvert_exporter": "python",
   "pygments_lexer": "ipython3",
   "version": "3.8.5"
  }
 },
 "nbformat": 4,
 "nbformat_minor": 2
}
