{
 "cells": [
  {
   "cell_type": "markdown",
   "metadata": {
    "deletable": false,
    "editable": false,
    "nbgrader": {
     "cell_type": "markdown",
     "checksum": "6d0c601fb5459ff0e860c9a0b2d8ec52",
     "grade": false,
     "grade_id": "cell-c781491e675bc243",
     "locked": true,
     "schema_version": 3,
     "solution": false,
     "task": false
    }
   },
   "source": [
    "<div class=\"alert alert-danger\">\n",
    "    Read the Instructions.ipynb notebook!\n",
    "</div>"
   ]
  },
  {
   "cell_type": "markdown",
   "metadata": {
    "deletable": false,
    "editable": false,
    "nbgrader": {
     "cell_type": "markdown",
     "checksum": "50381f194ffc989bfa6e61afbe081cb8",
     "grade": false,
     "grade_id": "cell-b2e0ba07390e1f91",
     "locked": true,
     "schema_version": 3,
     "solution": false,
     "task": false
    }
   },
   "source": [
    "# 1. Inference-by-Enumeration (10 points)\n",
    "\n",
    "The Inference-by-Enumeration algorithm computes the answer to a probabilistic query $P(\\mathbf{X} \\mid \\mathbf{E})$ exactly from the full joint distribution table (FJDT).\n",
    "\n",
    "---\n",
    "### 1.1. Implementation\n",
    "\n",
    "\n",
    "<div class=\"alert alert-warning\">\n",
    "Implement the Inference-by-Enumeration algorithm. (2 points)\n",
    "</div>\n",
    "\n",
    "Implement the `inference_by_enumeration` function for a generic probabilistic query of the form $P(\\mathbf{X} \\mid \\mathbf{E})$. Note that this version of the Inference-by-Enumeration algorithm computes the probabilistic query for all possible assignments to the evidence variables, not only for one specific assignment (cf. slide deck: Probabilistic Models - Part 2: Fundamental Concepts and Notation, p. 40). The function must return one object:\n",
    "- The answer to the probabilistic query, which is a `np.ndarray` with the same number of dimensions and the same variable order as the FJDT, but not the same size: The dimensions of non-query and non-evidence variables ($\\mathbf{Z}$) must be converted to singleton dimensions, i.e., dimensions of size one.\n",
    "\n",
    "For example, if we have a full joint distribution table of three binary variables (shape $2\\times2\\times2$) and we ask for the distribution of the first variable given the second variable, the resulting conditional distribution table would be of shape $2\\times2\\times1$.\n",
    "\n",
    "**Hint:** Remember to solve this without a `for` loop. Set the `keepdims` parameter of NumPy's <a href=\"https://numpy.org/doc/stable/reference/generated/numpy.sum.html\">sum</a> method to `True` to not discard the reduced dimensions. Keeping these empty dimensions simplifies <a href=\"https://numpy.org/doc/stable/user/basics.broadcasting.html\">broadcasting operations</a> to a no-brainer."
   ]
  },
  {
   "cell_type": "code",
   "execution_count": 1,
   "metadata": {
    "deletable": false,
    "editable": false,
    "nbgrader": {
     "cell_type": "code",
     "checksum": "b365f5f777d01b6067e5bdb4b3de9e13",
     "grade": false,
     "grade_id": "cell-51881e798cecd18e",
     "locked": true,
     "schema_version": 3,
     "solution": false,
     "task": false
    }
   },
   "outputs": [],
   "source": [
    "import numpy as np\n",
    "from helpers import print_table"
   ]
  },
  {
   "cell_type": "code",
   "execution_count": 7,
   "metadata": {
    "deletable": false,
    "nbgrader": {
     "cell_type": "code",
     "checksum": "c5aa04b113f1798af7ffbc26a43242cf",
     "grade": false,
     "grade_id": "cell-e338604447ed75ae",
     "locked": false,
     "schema_version": 3,
     "solution": true,
     "task": false
    }
   },
   "outputs": [],
   "source": [
    "def inference_by_enumeration(FJDT: np.ndarray, query_variable_indices: tuple, evidence_variable_indices: tuple=tuple()) -> np.ndarray:\n",
    "    '''\n",
    "    Computes the answer to a probabilistic query exactly from the full joint distribution table.\n",
    "    :param table: The full joint distribution table as a np.ndarray.\n",
    "    :param query_variable_indices: A tuple containing the indices of the query variables in the FJDT.\n",
    "    :param evidence_variable_indices: A tuple containing the indices of the evidence variables in the FJDT.\n",
    "    :returns: The answer to the probabilistic query; a `np.ndarray`.\n",
    "    ''' \n",
    "    assert type(FJDT) == np.ndarray, \"FJDT must be a np.ndarray\"\n",
    "    assert type(query_variable_indices) == tuple, \"query_variable_indices must be a tuple\"\n",
    "    assert type(evidence_variable_indices) == tuple, \"evidence_variable_indices must be a tuple\"\n",
    "    \n",
    "    # compute the set of non-query and non-evidence variables, Z\n",
    "    query_variables = query_variable_indices + evidence_variable_indices\n",
    "    Z = tuple(set(range(FJDT.ndim)).difference(query_variables))\n",
    "\n",
    "    # YOUR CODE HERE\n",
    "    #sum out the non-query, non-evidence variables\n",
    "    p1 = np.sum(FJDT, axis=Z, keepdims=True)\n",
    "    #sum out the query variables\n",
    "    normConst = np.sum(p1, axis=query_variable_indices, keepdims=True)\n",
    "    # normalize\n",
    "    return p1 / normConst"
   ]
  },
  {
   "cell_type": "code",
   "execution_count": 8,
   "metadata": {
    "deletable": false,
    "editable": false,
    "nbgrader": {
     "cell_type": "code",
     "checksum": "817cfb452efd8a92118ca59f8c43177c",
     "grade": true,
     "grade_id": "cell-401afea0155cf05c",
     "locked": true,
     "points": 2,
     "schema_version": 3,
     "solution": false,
     "task": false
    },
    "scrolled": true
   },
   "outputs": [],
   "source": [
    "# create a full joint distribution table for three binary variables\n",
    "ABC = np.ones((2,2,2)) / 8\n",
    "# name the variable indices so we can refer to them more easily\n",
    "A, B, C = 0, 1, 2\n",
    "\n",
    "# check type & shape of result\n",
    "assert type(inference_by_enumeration(ABC, (B, C), ())) == np.ndarray\n",
    "# compute P(A)\n",
    "assert inference_by_enumeration(ABC, (A,), ()).shape == (2, 1, 1)\n",
    "# compute P(BC)\n",
    "assert inference_by_enumeration(ABC, (B, C), ()).shape == (1, 2, 2)\n",
    "# compute P(BC|A)\n",
    "assert inference_by_enumeration(ABC, (B, C), (A,)).shape == (2, 2, 2)\n",
    "# compute P(B|AC)\n",
    "assert inference_by_enumeration(ABC, (B,), (C,A,)).shape == (2, 2, 2)\n"
   ]
  },
  {
   "cell_type": "markdown",
   "metadata": {
    "deletable": false,
    "editable": false,
    "nbgrader": {
     "cell_type": "markdown",
     "checksum": "f424ad3f119c47d786594bd9c91bae56",
     "grade": false,
     "grade_id": "cell-2a50910ecab76ec5",
     "locked": true,
     "schema_version": 3,
     "solution": false,
     "task": false
    }
   },
   "source": [
    "---\n",
    "### 1.2. Full Joint Distribution Table\n",
    "\n",
    "<br>\n",
    "<center><img src=\"https://upload.wikimedia.org/wikipedia/commons/b/b9/Atlantic_blue_marlin.jpg\" width=\"500\" height=\"600\">\n",
    "<br>\n",
    "\n",
    "Based on his experience, Santiago, an old Cuban fisherman, has learned that temperature and precipitation are the most prominent factors influencing marlin fishing. After decades of (more or less) successful years, he decides to retire and pass on his knowledge to a young apprentice. Since the apprentice received excellent grades in her probabilistic models class, he creates the following full joint distribution table $P(C, R, H)$ and hands it over to her:\n",
    "\n",
    "\n",
    "<table style=\"border-collapse:collapse;border-spacing:0;width:500px\"><tr><th style=\"font-family:Arial, sans-serif;font-size:14px;font-weight:normal;padding:10px 5px;border-style:solid;border-width:1px;overflow:hidden;word-break:normal;text-align:center\" rowspan=\"2\">$P({C}, {R}, {H})$</th><th style=\"font-family:Arial, sans-serif;font-size:14px;font-weight:normal;padding:10px 5px;border-style:solid;border-width:1px;overflow:hidden;word-break:normal;text-align:center;vertical-align:top\" colspan=\"2\">$\\neg r$<br></th><th style=\"font-family:Arial, sans-serif;font-size:14px;font-weight:normal;padding:10px 5px;border-style:solid;border-width:1px;overflow:hidden;word-break:normal;text-align:center;vertical-align:top\" colspan=\"2\">$r$</th></tr><tr><td style=\"font-family:Arial, sans-serif;font-size:14px;padding:10px 5px;border-style:solid;border-width:1px;overflow:hidden;word-break:normal;text-align:center;vertical-align:top\">$\\neg h$</td><td style=\"font-family:Arial, sans-serif;font-size:14px;padding:10px 5px;border-style:solid;border-width:1px;overflow:hidden;word-break:normal;text-align:center;vertical-align:top\">$h$</td><td style=\"font-family:Arial, sans-serif;font-size:14px;padding:10px 5px;border-style:solid;border-width:1px;overflow:hidden;word-break:normal;text-align:center;vertical-align:top\">$\\neg h$</td><td style=\"font-family:Arial, sans-serif;font-size:14px;padding:10px 5px;border-style:solid;border-width:1px;overflow:hidden;word-break:normal;text-align:center;vertical-align:top\">$h$</td></tr><tr><td style=\"font-family:Arial, sans-serif;font-size:14px;padding:10px 5px;border-style:solid;border-width:1px;overflow:hidden;word-break:normal;text-align:center\">$\\neg c$<br></td><td style=\"font-family:Arial, sans-serif;font-size:14px;padding:10px 5px;border-style:solid;border-width:1px;overflow:hidden;word-break:normal;text-align:center;vertical-align:top\">0.25</td><td style=\"font-family:Arial, sans-serif;font-size:14px;padding:10px 5px;border-style:solid;border-width:1px;overflow:hidden;word-break:normal;text-align:center;vertical-align:top\">0.39</td><td style=\"font-family:Arial, sans-serif;font-size:14px;padding:10px 5px;border-style:solid;border-width:1px;overflow:hidden;word-break:normal;text-align:center;vertical-align:top\">0.30</td><td style=\"font-family:Arial, sans-serif;font-size:14px;padding:10px 5px;border-style:solid;border-width:1px;overflow:hidden;word-break:normal;text-align:center;vertical-align:top\">0.01<br></td></tr><tr><td style=\"font-family:Arial, sans-serif;font-size:14px;padding:10px 5px;border-style:solid;border-width:1px;overflow:hidden;word-break:normal;text-align:center\">$c$</td><td style=\"font-family:Arial, sans-serif;font-size:14px;padding:10px 5px;border-style:solid;border-width:1px;overflow:hidden;word-break:normal;text-align:center;vertical-align:top\">0.03</td><td style=\"font-family:Arial, sans-serif;font-size:14px;padding:10px 5px;border-style:solid;border-width:1px;overflow:hidden;word-break:normal;text-align:center;vertical-align:top\">0.01</td><td style=\"font-family:Arial, sans-serif;font-size:14px;padding:10px 5px;border-style:solid;border-width:1px;overflow:hidden;word-break:normal;text-align:center;vertical-align:top\">0.05</td><td style=\"font-family:Arial, sans-serif;font-size:14px;padding:10px 5px;border-style:solid;border-width:1px;overflow:hidden;word-break:normal;text-align:center;vertical-align:top\">0.05</td></tr></table>\n",
    "\n",
    "In this table, $C$, $R$, and $H$ are the binary random variables encoding catch, rain, and hot, respectively. \n",
    "    \n",
    "    \n",
    "**Hint**: You can use `print_table` to print your probability distribution tables in a similar fashion."
   ]
  },
  {
   "cell_type": "code",
   "execution_count": 4,
   "metadata": {
    "deletable": false,
    "editable": false,
    "nbgrader": {
     "cell_type": "code",
     "checksum": "cf96dbb6a8fc3d340b4096ab18b9d70c",
     "grade": false,
     "grade_id": "cell-8521b465b79c30bb",
     "locked": true,
     "schema_version": 3,
     "solution": false,
     "task": false
    }
   },
   "outputs": [
    {
     "name": "stdout",
     "output_type": "stream",
     "text": [
      "Help on function print_table in module helpers:\n",
      "\n",
      "print_table(probability_table: numpy.ndarray, variable_names: str) -> None\n",
      "    Prints a probability distribution table.\n",
      "    \n",
      "    Parameters\n",
      "    ----------\n",
      "    probability_table : np.ndarray\n",
      "        The probability distribution table\n",
      "    variable_names : str\n",
      "        A string containing the variable names, e.g., 'CDE'.\n",
      "    \n",
      "    Returns\n",
      "    -------\n",
      "    None\n",
      "\n"
     ]
    }
   ],
   "source": [
    "help(print_table)"
   ]
  },
  {
   "cell_type": "markdown",
   "metadata": {
    "deletable": false,
    "editable": false,
    "nbgrader": {
     "cell_type": "markdown",
     "checksum": "943e109e119d16c75916e55e3c3e7a45",
     "grade": false,
     "grade_id": "cell-8a1c4e6e175e9891",
     "locked": true,
     "schema_version": 3,
     "solution": false,
     "task": false
    }
   },
   "source": [
    "<div class=\"alert alert-warning\">\n",
    "Create a NumPy array that contains the full joint distribution table $P(C, R, H)$ as defined above. <b>Important</b>: Encode $C$, $R$, and $H$ in the first, second, and third dimension of the NumPy array, respectively. Use index 0 for event *False* and index 1 for event *True*. (1 point)\n",
    "</div>"
   ]
  },
  {
   "cell_type": "code",
   "execution_count": 5,
   "metadata": {
    "deletable": false,
    "jupyter": {
     "outputs_hidden": true
    },
    "nbgrader": {
     "cell_type": "code",
     "checksum": "43e525fc7a6b6de69635eb33836072d1",
     "grade": false,
     "grade_id": "cell-30fabe50b83e969e",
     "locked": false,
     "schema_version": 3,
     "solution": true,
     "task": false
    }
   },
   "outputs": [
    {
     "data": {
      "text/html": [
       "<table><tr><td> </td><td>$r_0$</td><td>$r_0$</td><td>$r_1$</td><td>$r_1$</td></tr><tr><td> </td><td>$h_0$</td><td>$h_1$</td><td>$h_0$</td><td>$h_1$</td></tr><tr><td>$c_0$</td><td>0.250</td><td>0.390</td><td>0.300</td><td>0.010</td></tr><tr><td>$c_1$</td><td>0.030</td><td>0.010</td><td>0.005</td><td>0.005</td></tr></table>"
      ],
      "text/plain": [
       "<IPython.core.display.HTML object>"
      ]
     },
     "metadata": {},
     "output_type": "display_data"
    }
   ],
   "source": [
    "CRH = None\n",
    "# Check the result with print_table(CRH, 'CRH')\n",
    "\n",
    "# remove the placeholder\n",
    "# YOUR CODE HERE\n",
    "CRH = np.array([[[0.25, 0.39], [0.3, 0.01]], [[0.03, 0.01], [0.005, 0.005]]])\n",
    "C_, R_, H_ = 0, 1, 2\n",
    "print_table(CRH, 'CRH')"
   ]
  },
  {
   "cell_type": "code",
   "execution_count": 6,
   "metadata": {
    "deletable": false,
    "editable": false,
    "nbgrader": {
     "cell_type": "code",
     "checksum": "6527084fabb1b71fd5545972b155c08b",
     "grade": true,
     "grade_id": "cell-ec062108f58d1520",
     "locked": true,
     "points": 1,
     "schema_version": 3,
     "solution": false,
     "task": false
    }
   },
   "outputs": [],
   "source": [
    "assert CRH is not None, 'Store the result into the variable \\'CRH\\'!'\n",
    "assert CRH.shape == (2,2,2), 'The full joint distribution table must have shape (2,2,2)'\n",
    "assert CRH.sum() == 1, 'The probabilities of all atomic events must sum to one.'\n"
   ]
  },
  {
   "cell_type": "markdown",
   "metadata": {
    "deletable": false,
    "editable": false,
    "nbgrader": {
     "cell_type": "markdown",
     "checksum": "2d37b5a59972f88435d63ae11278d1d4",
     "grade": false,
     "grade_id": "cell-b64bca9a4bdc38bd",
     "locked": true,
     "schema_version": 3,
     "solution": false,
     "task": false
    }
   },
   "source": [
    "---\n",
    "### 1.3. Probabilistic Queries\n",
    "\n",
    "\n",
    "Compute the following two probabilistic queries. For each query, there are three tasks:\n",
    "1. Write down the probabilistic query and compute the answer from the full joint distribution. Show all intermediate steps, but keep your answer short! Use $\\LaTeX$ and Markdown.\n",
    "2. Give the shape of the solution (without singleton dimensions) and the number of non-redundant entries in the result table, storing your answer into the provided variables.\n",
    "3. Check your answer with the `inference_by_enumeration` function and store the result into the provided variable. Select the result for the given evidence and remove singleton dimensions."
   ]
  },
  {
   "cell_type": "markdown",
   "metadata": {
    "deletable": false,
    "editable": false,
    "nbgrader": {
     "cell_type": "markdown",
     "checksum": "91b504244ab46eb2062295c6e288626f",
     "grade": false,
     "grade_id": "cell-b64bca9a4bdc38db",
     "locked": true,
     "schema_version": 3,
     "solution": false,
     "task": false
    }
   },
   "source": [
    "<div class=\"alert alert-warning\">\n",
    "Compute the probability distribution over catching a marlin. (3 points)\n",
    "</div>"
   ]
  },
  {
   "cell_type": "markdown",
   "metadata": {
    "deletable": false,
    "nbgrader": {
     "cell_type": "markdown",
     "checksum": "88db38ae9157fcf1eb1be1ea55263c08",
     "grade": true,
     "grade_id": "cell-ca7d9d48de034ca9",
     "locked": false,
     "points": 1,
     "schema_version": 3,
     "solution": true,
     "task": false
    }
   },
   "source": [
    "$$P(c) = \\sum_{x, y}^{}P(c, R = x, H = y) \\\\\n",
    "= P(c,-r,-h)+ P(c,-r,h) + P(c,r,-h) + P(c,r,h) \\\\\n",
    "=0.03+0.01+0.005+0.005 = 0.05$$\n",
    "\n",
    "$$P(\\neg c) = \\sum_{x, y}^{}P(\\neg c, R = x, H = y) \\\\\n",
    "= P(\\neg c,-r,-h)+ P(\\neg c,-r,h) + P(\\neg c,r,-h) + P(\\neg c,r,h) \\\\\n",
    "=0.25+0.39+0.30+0.01 = 0.95$$\n",
    "\n",
    "$$P(C) = [0.95, 0.05]$$"
   ]
  },
  {
   "cell_type": "code",
   "execution_count": 20,
   "metadata": {
    "deletable": false,
    "jupyter": {
     "outputs_hidden": true
    },
    "nbgrader": {
     "cell_type": "code",
     "checksum": "36a854857dcaa4b020f49f37eb93183f",
     "grade": false,
     "grade_id": "cell-799837f1d9e67e4d",
     "locked": false,
     "schema_version": 3,
     "solution": true,
     "task": false
    }
   },
   "outputs": [
    {
     "data": {
      "text/html": [
       "<table><tr><td>$c_0$</td><td>0.950</td></tr><tr><td>$c_1$</td><td>0.050</td></tr></table>"
      ],
      "text/plain": [
       "<IPython.core.display.HTML object>"
      ]
     },
     "metadata": {},
     "output_type": "display_data"
    }
   ],
   "source": [
    "probability_table_shape = (2,) # e.g., (2,2,2) for the FJDT, (2,) for a vector, () for a scalar\n",
    "number_non_redundant_elements = 1 # e.g., 2*2*2 - 1 for the FJDT \n",
    "C = None # Use inference_by_enumeration to compute the result. Select the result for the given evidence (if any) and discard singleton dimensions.\n",
    "\n",
    "# remove the placeholder\n",
    "# YOUR CODE HERE<\n",
    "C = inference_by_enumeration(CRH, (C_,), ()).squeeze()\n",
    "print_table(C, 'C')"
   ]
  },
  {
   "cell_type": "code",
   "execution_count": 21,
   "metadata": {
    "deletable": false,
    "editable": false,
    "nbgrader": {
     "cell_type": "code",
     "checksum": "8715eb2a3a284df08233696e41016219",
     "grade": true,
     "grade_id": "cell-0b1fb5bccc5bd6aa",
     "locked": true,
     "points": 2,
     "schema_version": 3,
     "solution": false,
     "task": false
    }
   },
   "outputs": [],
   "source": [
    "assert type(probability_table_shape) is tuple, 'Shape of the result must be a tuple.'\n",
    "assert type(number_non_redundant_elements) is int, 'Number of elements must be int.'\n",
    "assert C is not None, 'Store the result into the variable \\'C\\'!'\n"
   ]
  },
  {
   "cell_type": "markdown",
   "metadata": {
    "deletable": false,
    "editable": false,
    "nbgrader": {
     "cell_type": "markdown",
     "checksum": "4f6a468e569481f99ac42cdb8e76c299",
     "grade": false,
     "grade_id": "cell-76f2ef690962ea83",
     "locked": true,
     "schema_version": 3,
     "solution": false,
     "task": false
    }
   },
   "source": [
    "<div class=\"alert alert-warning\">\n",
    "Compute the probability distribution over catching a marlin given the temperature being hot. (3 points)\n",
    "</div>"
   ]
  },
  {
   "cell_type": "markdown",
   "metadata": {
    "deletable": false,
    "nbgrader": {
     "cell_type": "markdown",
     "checksum": "62ee3c9889feb0b3c4a1053622816215",
     "grade": true,
     "grade_id": "cell-35c1fbb0bedbd99d",
     "locked": false,
     "points": 1,
     "schema_version": 3,
     "solution": true,
     "task": false
    }
   },
   "source": [
    "$$P(c | h) = \\frac{P(c \\wedge h)}{P(h)} = \\\\ \\frac{0.01 + 0.005}{0.39+0.01+0.01+0.005} =  \\\\ 0.036$$\n",
    "\n",
    "$$P(\\neg c | h) = \\frac{P(\\neg c \\wedge h)}{P(h)} = \\\\ \\frac{0.39+0.01}{0.39+0.01+0.01+0.005} = \\\\ 0.964$$\n",
    "\n",
    "$$P(C | h) = {0.964, 0.036}$$"
   ]
  },
  {
   "cell_type": "code",
   "execution_count": 23,
   "metadata": {
    "deletable": false,
    "nbgrader": {
     "cell_type": "code",
     "checksum": "0dafadc255a2a6c130cdf2471f49c729",
     "grade": false,
     "grade_id": "cell-2562d460b40a9390",
     "locked": false,
     "schema_version": 3,
     "solution": true,
     "task": false
    }
   },
   "outputs": [
    {
     "name": "stdout",
     "output_type": "stream",
     "text": [
      "[[[0.94017094 0.96385542]]\n",
      "\n",
      " [[0.05982906 0.03614458]]]\n"
     ]
    }
   ],
   "source": [
    "probability_table_shape = (2,1,2) # e.g., (2,2,2) for the FJDT, (2,) for a vector, () for a scalar\n",
    "number_non_redundant_elements = 1 # Assuming that we do not factor in the elements of !h, i.e. counting them as redundant\n",
    "C_h = None # Use inference_by_enumeration to compute the result. Select the result for the given evidence (if any) and discard singleton dimensions.\n",
    "\n",
    "# remove the placeholder\n",
    "# YOUR CODE HERE\n",
    "C_h = inference_by_enumeration(CRH, (C_,), (H_,))\n",
    "print(C_h)"
   ]
  },
  {
   "cell_type": "code",
   "execution_count": 10,
   "metadata": {
    "deletable": false,
    "editable": false,
    "nbgrader": {
     "cell_type": "code",
     "checksum": "93f248cd74b3d2f9898c9b23a1b9137b",
     "grade": true,
     "grade_id": "cell-83e9f4c5300646fc",
     "locked": true,
     "points": 2,
     "schema_version": 3,
     "solution": false,
     "task": false
    }
   },
   "outputs": [],
   "source": [
    "assert type(probability_table_shape) is tuple, 'Shape of the result must be a tuple.'\n",
    "assert type(number_non_redundant_elements) is int, 'Number of elements must be int.'\n",
    "assert C_h is not None, 'Store the result into the variable \\'C_h\\'!'\n"
   ]
  },
  {
   "cell_type": "markdown",
   "metadata": {
    "deletable": false,
    "editable": false,
    "nbgrader": {
     "cell_type": "markdown",
     "checksum": "f89b344961154bae1d95d87f05626171",
     "grade": false,
     "grade_id": "cell-b595169e7b70a756",
     "locked": true,
     "schema_version": 3,
     "solution": false,
     "task": false
    }
   },
   "source": [
    "---\n",
    "### 1.4. Independence\n",
    "\n",
    "<div class=\"alert alert-warning\">\n",
    "Show that catching the marlin is not independent of the weather being hot, i.e., $C \\not \\perp H$. Check your result with NumPy. (1 point)\n",
    "</div>\n",
    "\n",
    "\n",
    "\n",
    "**Hint**: It is sufficient to print the joint distribution and the product of the marginal distributions (use `print_table`.)"
   ]
  },
  {
   "cell_type": "code",
   "execution_count": 10,
   "metadata": {
    "deletable": false,
    "nbgrader": {
     "cell_type": "code",
     "checksum": "b6f4656dfd90f1b3a89e8ada67ae3ca1",
     "grade": false,
     "grade_id": "cell-f2c76a832cc06c59",
     "locked": false,
     "schema_version": 3,
     "solution": true,
     "task": false
    }
   },
   "outputs": [
    {
     "name": "stdout",
     "output_type": "stream",
     "text": [
      "False\n",
      "Product of Marginals:\n"
     ]
    },
    {
     "data": {
      "text/html": [
       "<table><tr><td> </td><td>$h_0$</td><td>$h_1$</td></tr><tr><td>$c_0$</td><td>0.550</td><td>0.400</td></tr><tr><td>$c_1$</td><td>0.035</td><td>0.015</td></tr></table>"
      ],
      "text/plain": [
       "<IPython.core.display.HTML object>"
      ]
     },
     "metadata": {},
     "output_type": "display_data"
    },
    {
     "name": "stdout",
     "output_type": "stream",
     "text": [
      "Joint Probability:\n"
     ]
    },
    {
     "data": {
      "text/html": [
       "<table><tr><td> </td><td>$h_0$</td><td>$h_1$</td></tr><tr><td>$c_0$</td><td>0.556</td><td>0.394</td></tr><tr><td>$c_1$</td><td>0.029</td><td>0.021</td></tr></table>"
      ],
      "text/plain": [
       "<IPython.core.display.HTML object>"
      ]
     },
     "metadata": {},
     "output_type": "display_data"
    }
   ],
   "source": [
    "CH = None # store the joint distribution here\n",
    "C_times_H = None # store the product of the marginal distributions here\n",
    "\n",
    "# remove the placeholder\n",
    "# YOUR CODE HERE\n",
    "CH = inference_by_enumeration(CRH, (C_,H_,), ()).squeeze()\n",
    "C_times_H = (inference_by_enumeration(CRH, (C_,), ()) * inference_by_enumeration(CRH, (H_,), ())).squeeze() \n",
    "\n",
    "print((CH == C_times_H).all())\n",
    "\n",
    "print('Product of Marginals:')\n",
    "print_table(CH, 'CH')\n",
    "\n",
    "print('Joint Probability:')\n",
    "print_table(C_times_H, 'CH')"
   ]
  },
  {
   "cell_type": "code",
   "execution_count": 12,
   "metadata": {
    "deletable": false,
    "editable": false,
    "nbgrader": {
     "cell_type": "code",
     "checksum": "1d1702a8cfe5acf95f8665aeb0a1c2cd",
     "grade": true,
     "grade_id": "cell-1264ae651b7ddb7b",
     "locked": true,
     "points": 1,
     "schema_version": 3,
     "solution": false,
     "task": false
    }
   },
   "outputs": [],
   "source": [
    "assert type(CH) == np.ndarray, 'Results must be NumPy arrays.'\n",
    "assert type(C_times_H) == np.ndarray, 'Results must be NumPy arrays.'\n",
    "\n",
    "assert CH.shape == (2,2), 'Results must be 2x2 arrays.'\n",
    "assert C_times_H.shape == (2,2), 'Results must be 2x2 arrays.'"
   ]
  },
  {
   "cell_type": "code",
   "execution_count": null,
   "metadata": {},
   "outputs": [],
   "source": []
  },
  {
   "cell_type": "code",
   "execution_count": null,
   "metadata": {},
   "outputs": [],
   "source": []
  }
 ],
 "metadata": {
  "kernelspec": {
   "display_name": "Python 3 (ipykernel)",
   "language": "python",
   "name": "python3"
  },
  "language_info": {
   "codemirror_mode": {
    "name": "ipython",
    "version": 3
   },
   "file_extension": ".py",
   "mimetype": "text/x-python",
   "name": "python",
   "nbconvert_exporter": "python",
   "pygments_lexer": "ipython3",
   "version": "3.8.5"
  }
 },
 "nbformat": 4,
 "nbformat_minor": 4
}
