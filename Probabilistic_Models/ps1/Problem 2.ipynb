{
 "cells": [
  {
   "cell_type": "code",
   "execution_count": 1,
   "id": "633ec9d3",
   "metadata": {},
   "outputs": [],
   "source": [
    "import numpy as np\n",
    "from helpers import print_table"
   ]
  },
  {
   "cell_type": "code",
   "execution_count": 2,
   "id": "1c53a613",
   "metadata": {
    "deletable": false,
    "nbgrader": {
     "cell_type": "code",
     "checksum": "d3a8ca023ad6c3e1a32e248e3e1db8fc",
     "grade": false,
     "grade_id": "cell-1486738b77c0d868",
     "locked": false,
     "schema_version": 3,
     "solution": true,
     "task": false
    }
   },
   "outputs": [],
   "source": [
    "# copy inference_by_enumeration from Problem 1 & print and compare the probability tables here!\n",
    "\n",
    "# YOUR CODE HERE\n",
    "def inference_by_enumeration(FJDT: np.ndarray, query_variable_indices: tuple, evidence_variable_indices: tuple=tuple()) -> np.ndarray:\n",
    "    '''\n",
    "    Computes the answer to a probabilistic query exactly from the full joint distribution table.\n",
    "    :param table: The full joint distribution table as a np.ndarray.\n",
    "    :param query_variable_indices: A tuple containing the indices of the query variables in the FJDT.\n",
    "    :param evidence_variable_indices: A tuple containing the indices of the evidence variables in the FJDT.\n",
    "    :returns: The answer to the probabilistic query; a `np.ndarray`.\n",
    "    ''' \n",
    "    assert type(FJDT) == np.ndarray, \"FJDT must be a np.ndarray\"\n",
    "    assert type(query_variable_indices) == tuple, \"query_variable_indices must be a tuple\"\n",
    "    assert type(evidence_variable_indices) == tuple, \"evidence_variable_indices must be a tuple\"\n",
    "    \n",
    "    # compute the set of non-query and non-evidence variables, Z\n",
    "    query_variables = query_variable_indices + evidence_variable_indices\n",
    "    Z = tuple(set(range(FJDT.ndim)).difference(query_variables))\n",
    "\n",
    "    # YOUR CODE HERE\n",
    "    p1 = np.sum(FJDT, axis=Z, keepdims=True)\n",
    "    normConst = np.sum(p1, axis=query_variable_indices, keepdims=True)\n",
    "    return p1 / normConst"
   ]
  },
  {
   "cell_type": "markdown",
   "id": "1287c9a6",
   "metadata": {
    "deletable": false,
    "editable": false,
    "nbgrader": {
     "cell_type": "markdown",
     "checksum": "f54614a23e9861d16bea5c943264df20",
     "grade": false,
     "grade_id": "cell-73f8efb96600e317",
     "locked": true,
     "schema_version": 3,
     "solution": false,
     "task": false
    }
   },
   "source": [
    "# 2. Pairwise vs. Mutual Independence (4 points)\n",
    "\n",
    "**Definition**: We say that two random variables are *pairwise independent* if $$p(X_n \\mid X_m) = P(X_n)$$ and hence $$p(X_m, X_n) =  p(X_n \\mid X_m) p(X_m) = p(X_n) p(X_m) $$\n",
    "\n",
    "**Definition**: We say that $n$ random variables are *mutually independent* if $$p(X_i \\mid X_{S}) = p(X_i)\\;\\; \\forall S \\subseteq \\{1, \\dots, n\\} \\setminus \\{ i \\}$$ and hence $$p(X_{1:n}) = \\prod_{i=1}^n p(X_i)$$\n",
    "\n",
    "\n",
    "\n",
    "\n",
    "<div class=\"alert alert-warning\">\n",
    "Show that pairwise independence between all pairs of variables does not necessarily imply mutual independence. Come up with a minimal counterexample that has exactly three binary random variables. (4 points)\n",
    "</div>\n",
    "\n",
    "Specify this counterexample via its full joint distribution table (FJDT). **Briefly** outline your thought process in the text field below (use $\\LaTeX$ and markdown) and store the model's full joint distribution table into the `XYZ` variable. It is sufficient to show pairwise independence and non-mutual independence by comparing products of marginals and joint distributions. \n",
    "\n",
    "**Hint**: Copy your implementation of `inference_by_enumeration` from Problem 1. You can use `print_table` to visualize your distribution tables such as the FJDT, products of marginals, and joint distributions."
   ]
  },
  {
   "cell_type": "code",
   "execution_count": 3,
   "id": "77258042",
   "metadata": {
    "deletable": false,
    "editable": false,
    "nbgrader": {
     "cell_type": "code",
     "checksum": "762aadb6b57567c75e543872c27732ff",
     "grade": false,
     "grade_id": "cell-1c3382c777224895",
     "locked": true,
     "schema_version": 3,
     "solution": false,
     "task": false
    }
   },
   "outputs": [
    {
     "name": "stdout",
     "output_type": "stream",
     "text": [
      "Help on function print_table in module helpers:\n",
      "\n",
      "print_table(probability_table: numpy.ndarray, variable_names: str) -> None\n",
      "    Prints a probability distribution table.\n",
      "    \n",
      "    Parameters\n",
      "    ----------\n",
      "    probability_table : np.ndarray\n",
      "        The probability distribution table\n",
      "    variable_names : str\n",
      "        A string containing the variable names, e.g., 'CDE'.\n",
      "    \n",
      "    Returns\n",
      "    -------\n",
      "    None\n",
      "\n"
     ]
    }
   ],
   "source": [
    "help(print_table)"
   ]
  },
  {
   "cell_type": "markdown",
   "id": "28c49be1",
   "metadata": {
    "deletable": false,
    "nbgrader": {
     "cell_type": "markdown",
     "checksum": "73024bf370185c75dfedbc6ad6eb68ad",
     "grade": true,
     "grade_id": "cell-6ced5d0ec1cbd764",
     "locked": false,
     "points": 1,
     "schema_version": 3,
     "solution": true,
     "task": false
    }
   },
   "source": [
    "When thinking of the three variables X,Y,Z, we could assign them each a unit square inside a $[0,1] \\times [0,1]$ area. Therefore, we have a probability for A, B, C of\n",
    "$$P(A) = P(B) = P(C) = \\frac{1}{2}$$\n",
    "\n",
    "Furthermore, it should be noted that:\n",
    "$$P(A \\cap B) = P(A \\cap C) = P(B \\cap C) = \\frac{1}{2}$$\n",
    "\n",
    "From this the following can be said:\n",
    "$$P(A \\cap B) = P(A)*P(B) \\\\\n",
    "P(A \\cap C) = P(A) * P(C) \\\\\n",
    "P(B \\cap C) = P(B) * P(C)  $$\n",
    "\n",
    "However, there is a contradiction forming, because $P(A \\cap B \\cap C) = P(A \\cap B = \\frac{1}{4})$, yet $P(A)*P(B)*P(C) = \\frac{1}{8}$. From this can be concluded that A, B and C are not independent from each other, as this would have resultet in the same values for both $P(A \\cap B \\cap C)$ and $P(A)*P(B)*P(C)$"
   ]
  },
  {
   "cell_type": "code",
   "execution_count": 4,
   "id": "678a1414",
   "metadata": {
    "deletable": false,
    "nbgrader": {
     "cell_type": "code",
     "checksum": "00271c6bdb0b928a11b9ff99d368237c",
     "grade": false,
     "grade_id": "cell-7f0b4fa0aa65bb39",
     "locked": false,
     "schema_version": 3,
     "solution": true,
     "task": false
    },
    "scrolled": true
   },
   "outputs": [
    {
     "name": "stdout",
     "output_type": "stream",
     "text": [
      "FJDT\n"
     ]
    },
    {
     "data": {
      "text/html": [
       "<table><tr><td> </td><td>$y_0$</td><td>$y_0$</td><td>$y_1$</td><td>$y_1$</td></tr><tr><td> </td><td>$z_0$</td><td>$z_1$</td><td>$z_0$</td><td>$z_1$</td></tr><tr><td>$x_0$</td><td>0.250</td><td>0.000</td><td>0.000</td><td>0.250</td></tr><tr><td>$x_1$</td><td>0.000</td><td>0.250</td><td>0.250</td><td>0.000</td></tr></table>"
      ],
      "text/plain": [
       "<IPython.core.display.HTML object>"
      ]
     },
     "metadata": {},
     "output_type": "display_data"
    },
    {
     "name": "stdout",
     "output_type": "stream",
     "text": [
      "Single\n"
     ]
    },
    {
     "data": {
      "text/html": [
       "<table><tr><td>$x_0$</td><td>0.500</td></tr><tr><td>$x_1$</td><td>0.500</td></tr></table>"
      ],
      "text/plain": [
       "<IPython.core.display.HTML object>"
      ]
     },
     "metadata": {},
     "output_type": "display_data"
    },
    {
     "data": {
      "text/html": [
       "<table><tr><td>$y_0$</td><td>0.500</td></tr><tr><td>$y_1$</td><td>0.500</td></tr></table>"
      ],
      "text/plain": [
       "<IPython.core.display.HTML object>"
      ]
     },
     "metadata": {},
     "output_type": "display_data"
    },
    {
     "data": {
      "text/html": [
       "<table><tr><td>$z_0$</td><td>0.500</td></tr><tr><td>$z_1$</td><td>0.500</td></tr></table>"
      ],
      "text/plain": [
       "<IPython.core.display.HTML object>"
      ]
     },
     "metadata": {},
     "output_type": "display_data"
    },
    {
     "name": "stdout",
     "output_type": "stream",
     "text": [
      "Joint\n"
     ]
    },
    {
     "data": {
      "text/html": [
       "<table><tr><td> </td><td>$y_0$</td><td>$y_1$</td></tr><tr><td>$x_0$</td><td>0.250</td><td>0.250</td></tr><tr><td>$x_1$</td><td>0.250</td><td>0.250</td></tr></table>"
      ],
      "text/plain": [
       "<IPython.core.display.HTML object>"
      ]
     },
     "metadata": {},
     "output_type": "display_data"
    },
    {
     "data": {
      "text/html": [
       "<table><tr><td> </td><td>$z_0$</td><td>$z_1$</td></tr><tr><td>$x_0$</td><td>0.250</td><td>0.250</td></tr><tr><td>$x_1$</td><td>0.250</td><td>0.250</td></tr></table>"
      ],
      "text/plain": [
       "<IPython.core.display.HTML object>"
      ]
     },
     "metadata": {},
     "output_type": "display_data"
    },
    {
     "data": {
      "text/html": [
       "<table><tr><td> </td><td>$z_0$</td><td>$z_1$</td></tr><tr><td>$y_0$</td><td>0.250</td><td>0.250</td></tr><tr><td>$y_1$</td><td>0.250</td><td>0.250</td></tr></table>"
      ],
      "text/plain": [
       "<IPython.core.display.HTML object>"
      ]
     },
     "metadata": {},
     "output_type": "display_data"
    },
    {
     "name": "stdout",
     "output_type": "stream",
     "text": [
      "Marginals multiplied\n"
     ]
    },
    {
     "data": {
      "text/html": [
       "<table><tr><td> </td><td>$y_0$</td><td>$y_1$</td></tr><tr><td>$x_0$</td><td>0.250</td><td>0.250</td></tr><tr><td>$x_1$</td><td>0.250</td><td>0.250</td></tr></table>"
      ],
      "text/plain": [
       "<IPython.core.display.HTML object>"
      ]
     },
     "metadata": {},
     "output_type": "display_data"
    },
    {
     "data": {
      "text/html": [
       "<table><tr><td> </td><td>$z_0$</td><td>$z_1$</td></tr><tr><td>$x_0$</td><td>0.250</td><td>0.250</td></tr><tr><td>$x_1$</td><td>0.250</td><td>0.250</td></tr></table>"
      ],
      "text/plain": [
       "<IPython.core.display.HTML object>"
      ]
     },
     "metadata": {},
     "output_type": "display_data"
    },
    {
     "data": {
      "text/html": [
       "<table><tr><td> </td><td>$z_0$</td><td>$z_1$</td></tr><tr><td>$y_0$</td><td>0.250</td><td>0.250</td></tr><tr><td>$y_1$</td><td>0.250</td><td>0.250</td></tr></table>"
      ],
      "text/plain": [
       "<IPython.core.display.HTML object>"
      ]
     },
     "metadata": {},
     "output_type": "display_data"
    },
    {
     "name": "stdout",
     "output_type": "stream",
     "text": [
      "P(A, B, C) = FJDT\n"
     ]
    },
    {
     "data": {
      "text/html": [
       "<table><tr><td> </td><td>$y_0$</td><td>$y_0$</td><td>$y_1$</td><td>$y_1$</td></tr><tr><td> </td><td>$z_0$</td><td>$z_1$</td><td>$z_0$</td><td>$z_1$</td></tr><tr><td>$x_0$</td><td>0.250</td><td>0.000</td><td>0.000</td><td>0.250</td></tr><tr><td>$x_1$</td><td>0.000</td><td>0.250</td><td>0.250</td><td>0.000</td></tr></table>"
      ],
      "text/plain": [
       "<IPython.core.display.HTML object>"
      ]
     },
     "metadata": {},
     "output_type": "display_data"
    },
    {
     "name": "stdout",
     "output_type": "stream",
     "text": [
      "P(A)*P(B)*P(C)\n"
     ]
    },
    {
     "data": {
      "text/html": [
       "<table><tr><td> </td><td>$y_0$</td><td>$y_0$</td><td>$y_1$</td><td>$y_1$</td></tr><tr><td> </td><td>$z_0$</td><td>$z_1$</td><td>$z_0$</td><td>$z_1$</td></tr><tr><td>$x_0$</td><td>0.125</td><td>0.125</td><td>0.125</td><td>0.125</td></tr><tr><td>$x_1$</td><td>0.125</td><td>0.125</td><td>0.125</td><td>0.125</td></tr></table>"
      ],
      "text/plain": [
       "<IPython.core.display.HTML object>"
      ]
     },
     "metadata": {},
     "output_type": "display_data"
    }
   ],
   "source": [
    "XYZ = np.ones((2,2,2))\n",
    "\n",
    "# YOUR CODE HERE\n",
    "XYZ = np.zeros((2,2,2))\n",
    "X, Y, Z = 0, 1, 2\n",
    "\n",
    "XYZ[0,0,0] = 1/4\n",
    "XYZ[0,1,1] = 1/4\n",
    "XYZ[1,0,1] = 1/4\n",
    "XYZ[1,1,0] = 1/4\n",
    "\n",
    "print(\"FJDT\")\n",
    "print_table(XYZ, \"XYZ\")\n",
    "\n",
    "print(\"Single\")\n",
    "print_table(inference_by_enumeration(XYZ, (X,), ()).squeeze(), \"X\")\n",
    "print_table(inference_by_enumeration(XYZ, (Y,), ()).squeeze(), \"Y\")\n",
    "print_table(inference_by_enumeration(XYZ, (Z,), ()).squeeze(), \"Z\")\n",
    "\n",
    "print(\"Joint\")\n",
    "print_table(inference_by_enumeration(XYZ, (X,Y), ()).squeeze(), \"XY\")\n",
    "print_table(inference_by_enumeration(XYZ, (X,Z), ()).squeeze(), \"XZ\")\n",
    "print_table(inference_by_enumeration(XYZ, (Y,Z), ()).squeeze(), \"YZ\")\n",
    "\n",
    "print(\"Marginals multiplied\")\n",
    "print_table((inference_by_enumeration(XYZ, (X,), ()) * inference_by_enumeration(XYZ, (Y,), ())).squeeze(),\"XY\")\n",
    "print_table((inference_by_enumeration(XYZ, (X,), ())* inference_by_enumeration(XYZ, (Z,), ())).squeeze(), \"XZ\")\n",
    "print_table((inference_by_enumeration(XYZ, (Y,), ()) * inference_by_enumeration(XYZ, (Z,), ())).squeeze(), \"YZ\")\n",
    "\n",
    "print(\"P(A, B, C) = FJDT\")\n",
    "print_table(inference_by_enumeration(XYZ, (X,Y,Z,), ()), \"XYZ\")\n",
    "print(\"P(A)*P(B)*P(C)\")\n",
    "a_b_c = inference_by_enumeration(XYZ, (X,), ()) * inference_by_enumeration(XYZ, (Y,), ()) * inference_by_enumeration(XYZ, (Z,), ())\n",
    "print_table(a_b_c.squeeze(), \"XYZ\")"
   ]
  },
  {
   "cell_type": "code",
   "execution_count": 5,
   "id": "2a511c8f",
   "metadata": {
    "deletable": false,
    "editable": false,
    "nbgrader": {
     "cell_type": "code",
     "checksum": "5440312e3c4f4431a9c1368eb9860657",
     "grade": true,
     "grade_id": "cell-b612791dd41278bf",
     "locked": true,
     "points": 2,
     "schema_version": 3,
     "solution": false,
     "task": false
    }
   },
   "outputs": [],
   "source": [
    "assert XYZ.shape == (2, 2, 2), 'FJDT must have shape (2,2,2)'\n",
    "assert XYZ.sum() == 1, 'Probabilites in FJDT must sum to one'\n"
   ]
  },
  {
   "cell_type": "code",
   "execution_count": null,
   "id": "f53442d9",
   "metadata": {},
   "outputs": [],
   "source": []
  }
 ],
 "metadata": {
  "kernelspec": {
   "display_name": "Python 3 (ipykernel)",
   "language": "python",
   "name": "python3"
  },
  "language_info": {
   "codemirror_mode": {
    "name": "ipython",
    "version": 3
   },
   "file_extension": ".py",
   "mimetype": "text/x-python",
   "name": "python",
   "nbconvert_exporter": "python",
   "pygments_lexer": "ipython3",
   "version": "3.8.5"
  }
 },
 "nbformat": 4,
 "nbformat_minor": 5
}
