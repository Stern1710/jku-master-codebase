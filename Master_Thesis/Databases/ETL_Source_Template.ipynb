{
    "metadata": {
        "kernelspec": {
            "name": "SQL",
            "display_name": "SQL",
            "language": "sql"
        },
        "language_info": {
            "name": "sql",
            "version": ""
        }
    },
    "nbformat_minor": 2,
    "nbformat": 4,
    "cells": [
        {
            "cell_type": "markdown",
            "source": [
                "# ETL from Source to TemplateDB\n",
                "\n",
                "This ETL area serves multiple purposes:\n",
                "\n",
                "1. Reset the data items in TemplateDB if existing\n",
                "2. Load data into TemplateDB from source systems\n",
                "\n",
                "It's supposed to run on the TemplateDB database, but some checks can be done on the master database of SQL Server.\n",
                "\n",
                "If possible, it should run without a staging area."
            ],
            "metadata": {
                "azdata_cell_guid": "c4456540-e5a4-4914-86a4-62b6f18be1c1"
            },
            "attachments": {}
        },
        {
            "cell_type": "code",
            "source": [
                "USE master\r\n",
                "GO\r\n",
                "\r\n",
                "DECLARE @errorMSG varchar(300) = ''\r\n",
                "\r\n",
                "IF DB_ID('JKU-Student-System') IS NULL\r\n",
                "   SET @errorMSG = @errorMSG + 'JKU-Student-System missing' + CHAR(13)\r\n",
                "IF DB_ID('MedUniWien-Student-System') IS NULL\r\n",
                "   SET @errorMSG = @errorMSG +  'MedUniWien-Student-System missing' + CHAR(13)\r\n",
                "IF DB_ID('TUGraz-Student-System') IS NULL\r\n",
                "   SET @errorMSG = @errorMSG +  'TUGraz-Student-System missing' + CHAR(13)\r\n",
                "IF DB_ID('TemplateDB') IS NULL\r\n",
                "   SET @errorMSG = @errorMSG +  'TemplateDB missing' + CHAR(13)\r\n",
                "\r\n",
                "if (@errorMSG is null or @errorMSG = '')\r\n",
                "    print 'All databases seem good to go'\r\n",
                "else \r\n",
                "    print @errorMSG"
            ],
            "metadata": {
                "azdata_cell_guid": "befb5a77-c788-4a70-b137-408edc0dcf94",
                "language": "sql"
            },
            "outputs": [],
            "execution_count": null
        },
        {
            "cell_type": "markdown",
            "source": [
                "## Empty and reset of TemplateDB\n",
                "\n",
                "Drops everything from the TemplateDB tables and resets identity colums."
            ],
            "metadata": {
                "language": "sql",
                "azdata_cell_guid": "85450bb9-b409-47a0-9624-6914c80e2b95"
            },
            "attachments": {}
        },
        {
            "cell_type": "code",
            "source": [
                "USE TemplateDB;\r\n",
                "\r\n",
                "DELETE FROM [stage].[Stage_TemplateDB];\r\n",
                "\r\n",
                "DELETE FROM dbo.Registration;\r\n",
                "DELETE FROM dbo.Student;\r\n",
                "DELETE FROM dbo.Study;\r\n",
                "DELETE FROM dbo.Exam;\r\n",
                "DELETE FROM dbo.Course;\r\n",
                "DELETE FROM dbo.University;\r\n",
                "\r\n",
                "DBCC CHECKIDENT ('[stage].[Stage_TemplateDB]', RESEED, 0);\r\n",
                "\r\n",
                "DBCC CHECKIDENT ('[dbo].[Student]', RESEED, 0);\r\n",
                "DBCC CHECKIDENT ('[dbo].[Study]', RESEED, 0);\r\n",
                "DBCC CHECKIDENT ('[dbo].[Exam]', RESEED, 0);\r\n",
                "DBCC CHECKIDENT ('[dbo].[Course]', RESEED, 0);\r\n",
                "DBCC CHECKIDENT ('[dbo].[University]', RESEED, 0);"
            ],
            "metadata": {
                "language": "sql",
                "azdata_cell_guid": "b03aa5db-84a7-4119-8145-c869992ba765"
            },
            "outputs": [],
            "execution_count": null
        },
        {
            "cell_type": "markdown",
            "source": [
                "## Load data into TemplateDB Stage"
            ],
            "metadata": {
                "language": "sql",
                "azdata_cell_guid": "6d94c9f9-6339-4c4d-bfe3-b50c58bdf21a"
            },
            "attachments": {}
        },
        {
            "cell_type": "markdown",
            "source": [
                "### Load from JKU to stage"
            ],
            "metadata": {
                "language": "sql",
                "azdata_cell_guid": "798a9424-f285-40b1-a7f1-e12651107749"
            },
            "attachments": {}
        },
        {
            "cell_type": "code",
            "source": [
                "USE TemplateDB;\r\n",
                "\r\n",
                "DECLARE @uniName VARCHAR(50) = 'JKU';\r\n",
                "\r\n",
                "INSERT INTO [stage].[Stage_TemplateDB]\r\n",
                "([name_nk], [faculty], [study_program], [gender], [country], [city], [grade], [year], [semester], [month], [institute], [course_name], [ects])\r\n",
                "SELECT @uniName, sp.Faculty, sp.Name, (Case When gender = 0 THEN 'Female' \r\n",
                "    when gender = 1 THEN 'Male'\r\n",
                "    Else 'Non-Binary' END ) as Gender, sa.country, sa.city,\r\n",
                "    CAST(reg.Grade AS INT) as Grade, RIGHT(reg.Semester, 4), reg.Semester, '', \r\n",
                "    p.Institute, c.course_name, c.ECTS\r\n",
                "FROM [JKU-Student-System].[dbo].[Student] s\r\n",
                "JOIN [JKU-Student-System].[dbo].StudentAddress sa ON s.mail_address = sa.student_address_id\r\n",
                "JOIN [JKU-Student-System].[dbo].Registration reg ON s.matr_nr = reg.student_id\r\n",
                "JOIN [JKU-Student-System].[dbo].Course c ON reg.course_number = c.course_number\r\n",
                "JOIN [JKU-Student-System].dbo.StudyProgram sp ON sp.study_id = reg.study_id\r\n",
                "JOIN [JKU-Student-System].[dbo].[Teaching] t ON t.course_number = c.course_number\r\n",
                "JOIN [JKU-Student-System].[dbo].[Professor] p ON p.professor_id = t.professor_id\r\n",
                "WHERE reg.grade IS NOT NULL AND (t.Ordering = 1 OR t.Ordering IS NULL)\r\n",
                ""
            ],
            "metadata": {
                "language": "sql",
                "azdata_cell_guid": "c1c0adea-ee09-4954-8929-036171f02a28"
            },
            "outputs": [],
            "execution_count": null
        },
        {
            "cell_type": "markdown",
            "source": [
                "### Load from TUGraz to stage"
            ],
            "metadata": {
                "language": "sql",
                "azdata_cell_guid": "844dac91-9182-4d03-aefc-2c2f5889c125"
            },
            "attachments": {}
        },
        {
            "cell_type": "code",
            "source": [
                "USE TemplateDB;\r\n",
                "\r\n",
                "DECLARE @uniName VARCHAR(50) = 'TUGraz';\r\n",
                "\r\n",
                "INSERT INTO [stage].[Stage_TemplateDB]\r\n",
                "([name_nk], [faculty], [study_program], [gender], [country], [city], [grade], [year], [semester], [month], [institute], [course_name], [ects])\r\n",
                "SELECT @uniName, f.Name as 'Faculty Name', sf.Name as 'Study Name', \r\n",
                "    (Case When gender = 1 THEN 'Female' \r\n",
                "    when gender = 0 THEN 'Male'\r\n",
                "    Else 'Non-Binary' END ) as Gender,\r\n",
                "    (SELECT nicename FROM [TemplateDB].[stage].[Stage_CountryCodeMap] WHERE iso = (RIGHT(full_address, LEN(full_address) -1 - charindex(',', full_address, charindex(',', full_address, charindex(',', full_address, 1) +1) +1)))),\r\n",
                "    SUBSTRING(full_address, charindex(',', full_address, charindex(',', full_address, 1)+1)+2, charindex(',', full_address, charindex(',', full_address, charindex(',', full_address, 1) +1) +1)-charindex(',', full_address, charindex(',', full_address, 1)+1)-2),\r\n",
                "    er.Grade, YEAR(e.[Date]) as 'Year',\r\n",
                "    (CASE WHEN MONTH(e.[Date]) <= 2 THEN 'WS' + CONVERT(varchar, YEAR(e.[Date] - 1))\r\n",
                "        WHEN MONTH(e.[Date]) <= 9 THEN 'SS' + CONVERT(varchar, YEAR(e.[Date]))\r\n",
                "        ELSE 'WS' + CONVERT(varchar, YEAR(e.[Date])) END) as 'Semester', \r\n",
                "    DateName( month , DateAdd( month , MONTH(e.[Date]) , -1 )) as 'Month',\r\n",
                "    c.Institute, c.Name, c.ECTS\r\n",
                "\r\n",
                "FROM [TUGraz-Student-System].[dbo].Student s\r\n",
                "JOIN [TUGraz-Student-System].dbo.StudyField sf ON s.field_of_study = sf.study_id\r\n",
                "JOIN [TUGraz-Student-System].[dbo].[Faculty] f ON sf.faculty_id = f.faculty_id\r\n",
                "JOIN [TUGraz-Student-System].dbo.CourseRegistration cr ON cr.student_id = s.student_id\r\n",
                "JOIN [TUGraz-Student-System].dbo.Course c ON c.course_id = cr.course_id\r\n",
                "JOIN [TUGraz-Student-System].dbo.ExamRegistration er ON er.student_id = s.student_id\r\n",
                "JOIN (SELECT dateadd(S, [time_from], '1970-01-01') as 'Date', exam_id, course_id FROM [TUGraz-Student-System].[dbo].[Exam]) e ON e.course_id = c.course_id AND e.exam_id = er.exam_id\r\n",
                "\r\n",
                "WHERE er.Grade IS NOT NULL"
            ],
            "metadata": {
                "language": "sql",
                "azdata_cell_guid": "614520e1-cc3d-4518-ac17-02ceebd9d658"
            },
            "outputs": [],
            "execution_count": null
        },
        {
            "cell_type": "markdown",
            "source": [
                "### Load MedUniWien to stage"
            ],
            "metadata": {
                "language": "sql",
                "azdata_cell_guid": "c6bd386a-7484-4d36-a8fe-ee04df540c01"
            },
            "attachments": {}
        },
        {
            "cell_type": "code",
            "source": [
                "USE TemplateDB;\r\n",
                "\r\n",
                "DECLARE @uniName VARCHAR(50) = 'MedUniWien';\r\n",
                "\r\n",
                "INSERT INTO [stage].[Stage_TemplateDB]\r\n",
                "([name_nk], [faculty], [study_program], [gender], [country], [city], [grade], [year], [semester], [month], [institute], [course_name], [ects])\r\n",
                "SELECT @uniName, st.Fakultaet, st.Studium_Name,\r\n",
                "    (Case When geschlecht = 'Weiblich' THEN 'Female' \r\n",
                "    when geschlecht = 'Männlich' THEN 'Male'\r\n",
                "    Else 'Non-Binary' END ) as Gender,\r\n",
                "    (SELECT nicename FROM [TemplateDB].[stage].Stage_CountryCodeMap WHERE iso = Land), Stadt,\r\n",
                "     pr.Note,\r\n",
                "    CONVERT(int, LEFT(Datum, 4)) as 'Year', \r\n",
                "    (Case When CONVERT(int, SUBSTRING(DATUM, 5, 2)) <= 2 THEN 'WS' + CONVERT(varchar, (CONVERT(int, LEFT(Datum, 4)) - 1)) \r\n",
                "        when CONVERT(int, SUBSTRING(DATUM, 5, 2)) <= 9 THEN 'SS' + LEFT(Datum, 4)\r\n",
                "        Else 'WS' + LEFT(Datum, 4) END ) as 'Semester',\r\n",
                "    DateName( month , DateAdd( month , CONVERT(int, SUBSTRING(DATUM, 5, 2)) , -1 ) ) as 'Month',\r\n",
                "    lva.Institut, lva.Name, lva.ECTS\r\n",
                "\r\n",
                "FROM [MedUniWien-Student-System].[dbo].Studierende s\r\n",
                "JOIN [MedUniWien-Student-System].[dbo].Semester sem ON s.aktuelles_semester = sem.semester_id\r\n",
                "JOIN [MedUniWien-Student-System].[dbo].Studium st ON st.Studium_ID = sem.Studium_ID\r\n",
                "JOIN [MedUniWien-Student-System].[dbo].Lehrveranstaltung lva ON lva.semester_id = sem.semester_id\r\n",
                "JOIN [MedUniWien-Student-System].[dbo].Pruefung p ON p.LVA_ID = lva.LVA_ID\r\n",
                "JOIN [MedUniWien-Student-System].[dbo].PruefungRegistrierung pr ON pr.student_id = s.student_id AND pr.pruefung_id = p.pruefung_id\r\n",
                "\r\n",
                "WHERE pr.Note IS NOT NULL\r\n",
                ""
            ],
            "metadata": {
                "language": "sql",
                "azdata_cell_guid": "ada4163f-b3f5-46ba-b571-eeb057f39f4c"
            },
            "outputs": [],
            "execution_count": null
        },
        {
            "cell_type": "markdown",
            "source": [
                "## Load from stage to TemplateDB tables"
            ],
            "metadata": {
                "language": "sql",
                "azdata_cell_guid": "f570e50c-bdd7-4549-b4e2-2f90c7f1dbaf"
            },
            "attachments": {}
        },
        {
            "cell_type": "markdown",
            "source": [
                "#### Load into University table and load ID to stage"
            ],
            "metadata": {
                "language": "sql",
                "azdata_cell_guid": "8a7ecc97-5d36-4d60-a076-9261293072f0"
            },
            "attachments": {}
        },
        {
            "cell_type": "code",
            "source": [
                "USE TemplateDB;\r\n",
                "\r\n",
                "INSERT INTO dbo.University\r\n",
                "(name_nk)\r\n",
                "SELECT DISTINCT name_nk\r\n",
                "FROM [stage].[Stage_TemplateDB];\r\n",
                "\r\n",
                "UPDATE std\r\n",
                "SET std.dwh_university_id = u.university_id\r\n",
                "FROM [stage].[Stage_TemplateDB] std\r\n",
                "JOIN dbo.University u ON std.name_nk = u.name_nk;\r\n",
                ""
            ],
            "metadata": {
                "language": "sql",
                "azdata_cell_guid": "00e33435-daa1-489f-9e77-e18df9e01cac"
            },
            "outputs": [],
            "execution_count": null
        },
        {
            "cell_type": "markdown",
            "source": [
                "#### Load tables except for registration and load IDs to stage"
            ],
            "metadata": {
                "language": "sql",
                "azdata_cell_guid": "caecb44e-4885-4f19-8670-3caf8cd6c8f6"
            },
            "attachments": {}
        },
        {
            "cell_type": "code",
            "source": [
                "USE TemplateDB;\r\n",
                "\r\n",
                "INSERT INTO dbo.Course\r\n",
                "(institute, course_name, ects, source_id)\r\n",
                "SELECT DISTINCT institute, course_name, ects, dwh_university_id\r\n",
                "FROM [stage].[Stage_TemplateDB]\r\n",
                "\r\n",
                "UPDATE std\r\n",
                "SET std.dwh_course_sk = c.course_sk\r\n",
                "FROM [stage].[Stage_TemplateDB] std\r\n",
                "JOIN [dbo].[Course] c ON std.institute = c.institute \r\n",
                "    AND std.course_name = c.course_name AND std.ects = c.ects\r\n",
                "    AND std.dwh_university_id = c.source_id;\r\n",
                "\r\n",
                "INSERT INTO dbo.Exam\r\n",
                "([grade], [year], [semester], [month], source_id)\r\n",
                "SELECT DISTINCT grade, [year], semester, [month], dwh_university_id\r\n",
                "FROM [stage].[Stage_TemplateDB];\r\n",
                "\r\n",
                "UPDATE std\r\n",
                "SET std.dwh_exam_sk = e.exam_sk\r\n",
                "FROM [stage].[Stage_TemplateDB] std\r\n",
                "JOIN [dbo].[Exam] e ON std.grade = e.grade AND std.[year] = e.[year] \r\n",
                "    AND std.semester = e.semester AND std.[month] = e.[month]\r\n",
                "    AND std.dwh_university_id = e.source_id;\r\n",
                "\r\n",
                "INSERT INTO dbo.Student\r\n",
                "([gender], country, city, source_id)\r\n",
                "SELECT DISTINCT gender, country, city, dwh_university_id\r\n",
                "FROM [stage].[Stage_TemplateDB];\r\n",
                "\r\n",
                "UPDATE std\r\n",
                "SET std.dwh_student_sk = s.student_sk\r\n",
                "FROM [stage].[Stage_TemplateDB] std\r\n",
                "JOIN [dbo].[Student] s ON std.gender = s.gender\r\n",
                "    AND std.country = s.country AND std.city = s.city\r\n",
                "    AND std.dwh_university_id = s.source_id;\r\n",
                "\r\n",
                "INSERT INTO dbo.Study\r\n",
                "(faculty, study_program, source_id)\r\n",
                "SELECT DISTINCT faculty, study_program, dwh_university_id\r\n",
                "FROM [stage].[Stage_TemplateDB];\r\n",
                "\r\n",
                "UPDATE std\r\n",
                "SET std.dwh_study_sk = s.study_sk\r\n",
                "FROM [stage].[Stage_TemplateDB] std\r\n",
                "JOIN [dbo].[Study] s ON std.faculty = s.faculty AND std.study_program = s.study_program\r\n",
                "    AND std.dwh_university_id = s.source_id;"
            ],
            "metadata": {
                "language": "sql",
                "azdata_cell_guid": "2ac5c48d-ac12-4c4d-891e-adf89cf07d06"
            },
            "outputs": [],
            "execution_count": null
        },
        {
            "cell_type": "markdown",
            "source": [
                "#### Load registration table with data"
            ],
            "metadata": {
                "language": "sql",
                "azdata_cell_guid": "ca6d791d-7c9d-474d-9414-29e1a46a5ac7"
            },
            "attachments": {}
        },
        {
            "cell_type": "code",
            "source": [
                "USE TemplateDB\r\n",
                "\r\n",
                "INSERT INTO [dbo].[Registration]\r\n",
                "(course_sk, exam_sk, student_sk, study_sk)\r\n",
                "SELECT DISTINCT dwh_course_sk, dwh_exam_sk, dwh_student_sk, dwh_study_sk\r\n",
                "FROM [stage].[Stage_TemplateDB];"
            ],
            "metadata": {
                "language": "sql",
                "azdata_cell_guid": "53f1fc70-e3ab-412d-b049-a1ba1cdb6f38"
            },
            "outputs": [],
            "execution_count": null
        }
    ]
}