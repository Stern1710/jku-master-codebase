{
    "metadata": {
        "kernelspec": {
            "name": "SQL",
            "display_name": "SQL",
            "language": "sql"
        },
        "language_info": {
            "name": "sql",
            "version": ""
        }
    },
    "nbformat_minor": 2,
    "nbformat": 4,
    "cells": [
        {
            "cell_type": "markdown",
            "source": [
                "# ETL from Source to TemplateDB"
            ],
            "metadata": {
                "azdata_cell_guid": "55c87a90-0a63-41e1-89e6-10538c7b0dad"
            },
            "attachments": {}
        },
        {
            "cell_type": "code",
            "source": [
                "USE master\r\n",
                "GO\r\n",
                "\r\n",
                "DECLARE @errorMSG varchar(300) = ''\r\n",
                "\r\n",
                "IF DB_ID('TemplateDB') IS NULL\r\n",
                "   SET @errorMSG = @errorMSG +  'TemplateDB missing' + CHAR(13)\r\n",
                "IF DB_ID('MinistryUniversityDWH') IS NULL\r\n",
                "   SET @errorMSG = @errorMSG +  'MinistryUniversityDWH missing' + CHAR(13)\r\n",
                "\r\n",
                "if (@errorMSG is null or @errorMSG = '')\r\n",
                "    print 'All databases seem good to go'\r\n",
                "else \r\n",
                "    print @errorMSG"
            ],
            "metadata": {
                "azdata_cell_guid": "0c7affa2-e875-4612-a087-e5b58745922b",
                "language": "sql"
            },
            "outputs": [],
            "execution_count": null
        },
        {
            "cell_type": "markdown",
            "source": [
                "## Empty and reset DWH"
            ],
            "metadata": {
                "language": "sql",
                "azdata_cell_guid": "18705d53-16bb-4b05-98b8-b20b7a542c5d"
            },
            "attachments": {}
        },
        {
            "cell_type": "code",
            "source": [
                "USE MinistryUniversityDWH\r\n",
                "GO\r\n",
                "\r\n",
                "DELETE FROM [stage].[Stage_DWH_Data];\r\n",
                "\r\n",
                "DBCC CHECKIDENT ('[stage].[Stage_DWH_Data]', RESEED, 0);\r\n",
                ""
            ],
            "metadata": {
                "language": "sql",
                "azdata_cell_guid": "3f8e1a31-1c7d-4b7e-8d69-91c03b657112"
            },
            "outputs": [],
            "execution_count": null
        },
        {
            "cell_type": "code",
            "source": [
                "-- Reset data mart if needed\r\n",
                "USE MinistryUniversityDWH\r\n",
                "GO\r\n",
                "\r\n",
                "DELETE FROM [dwh].[Fact_ExamPerformance];\r\n",
                "DELETE FROM [dwh].[Dim_Course];\r\n",
                "DELETE FROM [dwh].[Dim_Student];\r\n",
                "DELETE FROM [dwh].[Dim_Study];\r\n",
                "DELETE FROM [dwh].[Dim_Date];\r\n",
                "\r\n",
                "DBCC CHECKIDENT ('[dwh].[Fact_ExamPerformance]', RESEED, 0);\r\n",
                "DBCC CHECKIDENT ('[dwh].[Dim_Course]', RESEED, 0);\r\n",
                "DBCC CHECKIDENT ('[dwh].[Dim_Student]', RESEED, 0);\r\n",
                "DBCC CHECKIDENT ('[dwh].[Dim_Study]', RESEED, 0);\r\n",
                "DBCC CHECKIDENT ('[dwh].[Dim_Date]', RESEED, 0);"
            ],
            "metadata": {
                "language": "sql",
                "azdata_cell_guid": "0c09b422-3fb2-48fd-b309-1f4433316327"
            },
            "outputs": [],
            "execution_count": null
        },
        {
            "cell_type": "markdown",
            "source": [
                "## Insert data"
            ],
            "metadata": {
                "language": "sql",
                "azdata_cell_guid": "f9a5e631-fdbd-4c17-bd88-790b7a78c0df"
            },
            "attachments": {}
        },
        {
            "cell_type": "markdown",
            "source": [
                "### To staging"
            ],
            "metadata": {
                "language": "sql",
                "azdata_cell_guid": "235cc4ee-5374-4773-b0a6-276615d9fca3"
            },
            "attachments": {}
        },
        {
            "cell_type": "code",
            "source": [
                "USE MinistryUniversityDWH\r\n",
                "\r\n",
                "INSERT INTO [stage].Stage_DWH_Data\r\n",
                "([university], [institute], [course_name], [year], [semester], [month], [gender], [country], [city], [faculty], [study_program], [grade], [success], [ects])\r\n",
                "SELECT u.Name_NK, c.Institute, c.course_name, e.[Year], e.Semester, e.[Month], s.Gender, s.Country, s.City, st.Faculty, st.study_program, e.Grade, (Case When e.Grade <= 4 THEN 1 Else 0  END) as 'Success', c.ECTS\r\n",
                "FROM [TemplateDB].[dbo].[Registration] r\r\n",
                "JOIN [TemplateDB].[dbo].[Course] c ON r.Course_SK = c.Course_SK\r\n",
                "JOIN [TemplateDB].[dbo].[Exam] e ON r.Exam_SK = e.Exam_SK\r\n",
                "JOIN [TemplateDB].[dbo].[Student] s ON r.Student_SK = s.Student_SK\r\n",
                "JOIN [TemplateDB].[dbo].[Study] st ON r.Study_SK = st.Study_SK\r\n",
                "JOIN [TemplateDB].[dbo].[University] u ON u.University_ID = c.Source_ID AND u.University_ID = e.Source_ID AND u.University_ID = s.source_id AND u.University_ID = st.Source_ID"
            ],
            "metadata": {
                "language": "sql",
                "azdata_cell_guid": "d8222eda-35ba-434d-b2bf-8807faf708ac",
                "tags": []
            },
            "outputs": [],
            "execution_count": null
        },
        {
            "cell_type": "markdown",
            "source": [
                "### Fill dimension tables"
            ],
            "metadata": {
                "language": "sql",
                "azdata_cell_guid": "4d984ab1-06df-4c19-b493-b331237c3a87"
            },
            "attachments": {}
        },
        {
            "cell_type": "code",
            "source": [
                "USE MinistryUniversityDWH\r\n",
                "\r\n",
                "INSERT INTO dwh.Dim_Student\r\n",
                "([gender], [city], [country])\r\n",
                "SELECT DISTINCT s.Gender, s.City, s.Country\r\n",
                "FROM TemplateDB.dbo.Student s\r\n",
                "\r\n",
                "INSERT INTO dwh.Dim_Course\r\n",
                "([university], [institute], [course_name])\r\n",
                "SELECT DISTINCT u.Name_NK, c.Institute, c.course_name\r\n",
                "FROM TemplateDB.dbo.Course c\r\n",
                "JOIN TemplateDB.dbo.University u ON c.Source_ID = u.University_ID\r\n",
                "\r\n",
                "INSERT INTO dwh.Dim_Study\r\n",
                "([Faculty], [study_program])\r\n",
                "SELECT DISTINCT st.Faculty, st.study_program\r\n",
                "FROM TemplateDB.dbo.Study st\r\n",
                "\r\n",
                "INSERT INTO dwh.Dim_Date\r\n",
                "([Year], [Semester], [Month])\r\n",
                "SELECT DISTINCT e.[Year], e.[Semester], e.[Month]\r\n",
                "FROM TemplateDB.dbo.Exam e"
            ],
            "metadata": {
                "language": "sql",
                "azdata_cell_guid": "5de38749-6034-473d-a804-725b7db48330"
            },
            "outputs": [],
            "execution_count": null
        },
        {
            "cell_type": "markdown",
            "source": [
                "### Get IDs from DWH"
            ],
            "metadata": {
                "language": "sql",
                "azdata_cell_guid": "92033597-c076-43c6-a0c3-891815cd1fdc"
            },
            "attachments": {}
        },
        {
            "cell_type": "code",
            "source": [
                "USE MinistryUniversityDWH\r\n",
                "\r\n",
                "UPDATE sdd\r\n",
                "SET sdd.student_DWH_ID = ds.Dim_Student_ID\r\n",
                "FROM [stage].[Stage_DWH_Data] sdd\r\n",
                "JOIN dwh.Dim_Student ds\r\n",
                "    ON sdd.Gender = ds.Gender AND sdd.City = ds.City AND sdd.Country = ds.Country\r\n",
                "\r\n",
                "UPDATE sdd\r\n",
                "SET sdd.Course_DWH_ID = dc.Dim_Course_ID\r\n",
                "FROM [stage].[Stage_DWH_Data] sdd\r\n",
                "JOIN dwh.Dim_Course dc\r\n",
                "    ON sdd.University = dc.University AND sdd.Institute = dc.Institute AND sdd.course_name = dc.course_name\r\n",
                "\r\n",
                "UPDATE sdd\r\n",
                "SET sdd.Study_DWH_ID = dst.Dim_Study_ID\r\n",
                "FROM [stage].[Stage_DWH_Data] sdd\r\n",
                "JOIN dwh.Dim_Study dst\r\n",
                "    ON sdd.Faculty = dst.Faculty AND sdd.study_program = dst.study_program\r\n",
                "\r\n",
                "UPDATE sdd\r\n",
                "SET sdd.Date_DWH_ID = dd.Dim_Date_ID\r\n",
                "FROM [stage].[Stage_DWH_Data] sdd\r\n",
                "JOIN dwh.Dim_Date dd\r\n",
                "    ON sdd.[Year] = dd.[Year] AND sdd.Semester = dd.Semester AND sdd.[Month] = dd.[Month] "
            ],
            "metadata": {
                "language": "sql",
                "azdata_cell_guid": "6d0275fc-4215-4307-a449-5f3a637a1291"
            },
            "outputs": [],
            "execution_count": null
        },
        {
            "cell_type": "markdown",
            "source": [
                "### Populate fact table"
            ],
            "metadata": {
                "language": "sql",
                "azdata_cell_guid": "3a178db6-d3ac-49fb-9f66-1b58a68a584e"
            },
            "attachments": {}
        },
        {
            "cell_type": "code",
            "source": [
                "USE MinistryUniversityDWH\r\n",
                "\r\n",
                "INSERT INTO dwh.Fact_ExamPerformance\r\n",
                "(dim_student_id, dim_Course_id, dim_study_id, dim_date_id, grade, success, ects)\r\n",
                "SELECT d.student_dwh_id, d.course_dwh_id, d.study_dwh_id, d.date_dwh_id, d.grade, d.success, d.ects\r\n",
                "FROM stage.Stage_DWH_Data d"
            ],
            "metadata": {
                "language": "sql",
                "azdata_cell_guid": "05068449-2b3f-47db-8f74-118164c92c07"
            },
            "outputs": [],
            "execution_count": null
        },
        {
            "cell_type": "code",
            "source": [
                "USE MinistryUniversityDWH\r\n",
                "\r\n",
                "SELECT ds.Gender, ds.City, ds.Country, dc.University, dc.Institute, dc.course_name, fep.ECTS, fep.Grade, dst.study_program, dd.[Year], dd.Semester,  dd.[Month]\r\n",
                "FROM [dwh].[Fact_ExamPerformance] fep\r\n",
                "JOIN [dwh].[Dim_Student] ds ON ds.Dim_Student_ID = fep.dim_student_id\r\n",
                "JOIN [dwh].[Dim_Course] dc ON dc.Dim_Course_ID = fep.dim_Course_id\r\n",
                "JOIN [dwh].[Dim_Study] dst ON dst.Dim_Study_ID = fep.dim_study_id\r\n",
                "JOIN [dwh].[Dim_Date] dd ON dd.Dim_Date_ID = fep.dim_date_id"
            ],
            "metadata": {
                "language": "sql",
                "azdata_cell_guid": "b8d670e2-f819-42cc-b310-267dac5ea495"
            },
            "outputs": [],
            "execution_count": null
        }
    ]
}